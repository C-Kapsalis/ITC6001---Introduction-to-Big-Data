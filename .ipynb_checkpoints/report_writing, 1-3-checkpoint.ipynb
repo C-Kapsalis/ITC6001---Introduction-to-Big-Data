{
 "cells": [
  {
   "cell_type": "markdown",
   "id": "d1282c0e-bf59-4ccf-9c40-3cdaa9b49a0d",
   "metadata": {},
   "source": [
    "# Q1"
   ]
  },
  {
   "cell_type": "markdown",
   "id": "7cea04b1-2024-44a7-b648-317fe68d0aff",
   "metadata": {
    "tags": []
   },
   "source": [
    "# Q1 - Data Description"
   ]
  },
  {
   "cell_type": "code",
   "execution_count": 1,
   "id": "ca82e4d4-184e-43e3-886a-36333b70b9af",
   "metadata": {
    "tags": []
   },
   "outputs": [],
   "source": [
    "import numpy as np\n",
    "import numpy.linalg as la\n",
    "import pandas as pd \n",
    "from datetime import datetime\n",
    "###\n",
    "# these 2 rows should go at the end\n",
    "import os\n",
    "os.chdir('/Users/chkapsalis/Desktop/Fall_23_projects/itc_6001_proj')\n",
    "###\n",
    "import matplotlib.pyplot as plt"
   ]
  },
  {
   "cell_type": "code",
   "execution_count": 2,
   "id": "79dc38bc-c2ef-43e1-8387-3b93c610d405",
   "metadata": {
    "tags": []
   },
   "outputs": [],
   "source": [
    "# reading all data files into pandas dataframes\n",
    "artist_info = pd.read_csv('artists.dat', sep='\\t', encoding=None, names=None, header=0, index_col=None)\n",
    "tag_info = pd.read_csv('tags.dat', sep='\\t', encoding='ISO-8859-1', names=None, header=0, index_col=None)\n",
    "user_artists = pd.read_csv('user_artists.dat', sep='\\t', encoding=None, names=None, header=0, index_col=None)\n",
    "user_friends = pd.read_csv('user_friends.dat', sep='\\t', encoding=None, names=None, header=0, index_col=None)\n",
    "user_tags_ts = pd.read_csv('user_taggedartists-timestamps.dat', sep='\\t', encoding=None, names=None, header=0, index_col=None)\n",
    "user_tags = pd.read_csv('user_taggedartists.dat', sep='\\t', encoding=None, names=None, header=0, index_col=None)"
   ]
  },
  {
   "cell_type": "markdown",
   "id": "c8358767-6ed0-4338-a3a1-3b2ef276c79f",
   "metadata": {},
   "source": [
    "# "
   ]
  },
  {
   "cell_type": "code",
   "execution_count": 3,
   "id": "96b80780-a563-437b-81f2-eca358202740",
   "metadata": {
    "tags": []
   },
   "outputs": [],
   "source": [
    "# Frequency plot of the listening frequency of artists by users"
   ]
  },
  {
   "cell_type": "code",
   "execution_count": 22,
   "id": "c9d83de6-907b-4752-87ac-fbb6ba0339a4",
   "metadata": {
    "tags": []
   },
   "outputs": [
    {
     "data": {
      "text/html": [
       "<div>\n",
       "<style scoped>\n",
       "    .dataframe tbody tr th:only-of-type {\n",
       "        vertical-align: middle;\n",
       "    }\n",
       "\n",
       "    .dataframe tbody tr th {\n",
       "        vertical-align: top;\n",
       "    }\n",
       "\n",
       "    .dataframe thead th {\n",
       "        text-align: right;\n",
       "    }\n",
       "</style>\n",
       "<table border=\"1\" class=\"dataframe\">\n",
       "  <thead>\n",
       "    <tr style=\"text-align: right;\">\n",
       "      <th></th>\n",
       "      <th>id</th>\n",
       "      <th>name</th>\n",
       "      <th>url</th>\n",
       "      <th>pictureURL</th>\n",
       "      <th>userID</th>\n",
       "      <th>artistID</th>\n",
       "      <th>weight</th>\n",
       "    </tr>\n",
       "  </thead>\n",
       "  <tbody>\n",
       "    <tr>\n",
       "      <th>0</th>\n",
       "      <td>1</td>\n",
       "      <td>MALICE MIZER</td>\n",
       "      <td>http://www.last.fm/music/MALICE+MIZER</td>\n",
       "      <td>http://userserve-ak.last.fm/serve/252/10808.jpg</td>\n",
       "      <td>34</td>\n",
       "      <td>1</td>\n",
       "      <td>212</td>\n",
       "    </tr>\n",
       "    <tr>\n",
       "      <th>1</th>\n",
       "      <td>1</td>\n",
       "      <td>MALICE MIZER</td>\n",
       "      <td>http://www.last.fm/music/MALICE+MIZER</td>\n",
       "      <td>http://userserve-ak.last.fm/serve/252/10808.jpg</td>\n",
       "      <td>274</td>\n",
       "      <td>1</td>\n",
       "      <td>483</td>\n",
       "    </tr>\n",
       "    <tr>\n",
       "      <th>2</th>\n",
       "      <td>1</td>\n",
       "      <td>MALICE MIZER</td>\n",
       "      <td>http://www.last.fm/music/MALICE+MIZER</td>\n",
       "      <td>http://userserve-ak.last.fm/serve/252/10808.jpg</td>\n",
       "      <td>785</td>\n",
       "      <td>1</td>\n",
       "      <td>76</td>\n",
       "    </tr>\n",
       "    <tr>\n",
       "      <th>3</th>\n",
       "      <td>2</td>\n",
       "      <td>Diary of Dreams</td>\n",
       "      <td>http://www.last.fm/music/Diary+of+Dreams</td>\n",
       "      <td>http://userserve-ak.last.fm/serve/252/3052066.jpg</td>\n",
       "      <td>135</td>\n",
       "      <td>2</td>\n",
       "      <td>1021</td>\n",
       "    </tr>\n",
       "    <tr>\n",
       "      <th>4</th>\n",
       "      <td>2</td>\n",
       "      <td>Diary of Dreams</td>\n",
       "      <td>http://www.last.fm/music/Diary+of+Dreams</td>\n",
       "      <td>http://userserve-ak.last.fm/serve/252/3052066.jpg</td>\n",
       "      <td>257</td>\n",
       "      <td>2</td>\n",
       "      <td>152</td>\n",
       "    </tr>\n",
       "  </tbody>\n",
       "</table>\n",
       "</div>"
      ],
      "text/plain": [
       "   id             name                                       url  \\\n",
       "0   1     MALICE MIZER     http://www.last.fm/music/MALICE+MIZER   \n",
       "1   1     MALICE MIZER     http://www.last.fm/music/MALICE+MIZER   \n",
       "2   1     MALICE MIZER     http://www.last.fm/music/MALICE+MIZER   \n",
       "3   2  Diary of Dreams  http://www.last.fm/music/Diary+of+Dreams   \n",
       "4   2  Diary of Dreams  http://www.last.fm/music/Diary+of+Dreams   \n",
       "\n",
       "                                          pictureURL  userID  artistID  weight  \n",
       "0    http://userserve-ak.last.fm/serve/252/10808.jpg      34         1     212  \n",
       "1    http://userserve-ak.last.fm/serve/252/10808.jpg     274         1     483  \n",
       "2    http://userserve-ak.last.fm/serve/252/10808.jpg     785         1      76  \n",
       "3  http://userserve-ak.last.fm/serve/252/3052066.jpg     135         2    1021  \n",
       "4  http://userserve-ak.last.fm/serve/252/3052066.jpg     257         2     152  "
      ]
     },
     "execution_count": 22,
     "metadata": {},
     "output_type": "execute_result"
    }
   ],
   "source": [
    "res1a_raw = pd.merge(artist_info, user_artists, left_on='id', right_on='artistID', how='inner')\n",
    "res1a_raw.head()"
   ]
  },
  {
   "cell_type": "code",
   "execution_count": 23,
   "id": "553ebb95-7f22-4c22-8419-babc38af9641",
   "metadata": {
    "tags": []
   },
   "outputs": [
    {
     "data": {
      "text/html": [
       "<div>\n",
       "<style scoped>\n",
       "    .dataframe tbody tr th:only-of-type {\n",
       "        vertical-align: middle;\n",
       "    }\n",
       "\n",
       "    .dataframe tbody tr th {\n",
       "        vertical-align: top;\n",
       "    }\n",
       "\n",
       "    .dataframe thead th {\n",
       "        text-align: right;\n",
       "    }\n",
       "</style>\n",
       "<table border=\"1\" class=\"dataframe\">\n",
       "  <thead>\n",
       "    <tr style=\"text-align: right;\">\n",
       "      <th></th>\n",
       "      <th>userID</th>\n",
       "      <th>artistID</th>\n",
       "      <th>weight</th>\n",
       "    </tr>\n",
       "  </thead>\n",
       "  <tbody>\n",
       "  </tbody>\n",
       "</table>\n",
       "</div>"
      ],
      "text/plain": [
       "Empty DataFrame\n",
       "Columns: [userID, artistID, weight]\n",
       "Index: []"
      ]
     },
     "execution_count": 23,
     "metadata": {},
     "output_type": "execute_result"
    }
   ],
   "source": [
    "# Each row in the user_artists df conveys the information that the user with userID = ... has listened to the artist\n",
    "# with artistID = ... -> there is only one row for each userID,artistID pair. The no of times a user has listened to \n",
    "# a specific artist (i.e. the corresponding 'listening count') is conveyed by the column 'weight'\n",
    "user_artists[user_artists.duplicated(subset=['userID','artistID'])]  # or res1a[res1a.duplicated(subset=['userID','artistID'])]"
   ]
  },
  {
   "cell_type": "code",
   "execution_count": 28,
   "id": "4f93be16-b10f-4167-9d34-45c09ccd1185",
   "metadata": {
    "tags": []
   },
   "outputs": [
    {
     "name": "stdout",
     "output_type": "stream",
     "text": [
      "The number of duplicated (userID, artistID) pairs in the \"user_artists\" csv and df is: 0\n"
     ]
    }
   ],
   "source": [
    "print(f'The number of duplicated (userID, artistID) pairs in the \"user_artists\" csv and df is: {user_artists[user_artists.duplicated(subset=[\"userID\",\"artistID\"])].shape[0]}')"
   ]
  },
  {
   "cell_type": "code",
   "execution_count": null,
   "id": "6929a80c-8a74-4977-9708-52e52a639114",
   "metadata": {},
   "outputs": [],
   "source": []
  },
  {
   "cell_type": "code",
   "execution_count": 57,
   "id": "6b9af245-cc34-4219-9641-64bb67f6cd8b",
   "metadata": {
    "tags": []
   },
   "outputs": [
    {
     "data": {
      "text/plain": [
       "Text(0.5, 1.0, 'Total Listening Count per Artist')"
      ]
     },
     "execution_count": 57,
     "metadata": {},
     "output_type": "execute_result"
    },
    {
     "data": {
      "image/png": "[encoded data removed]",
      "text/plain": [
       "<Figure size 640x480 with 1 Axes>"
      ]
     },
     "metadata": {},
     "output_type": "display_data"
    }
   ],
   "source": [
    "# The ‘weight’ column provides the listening COUNT for each userID,artistID pair, so the sum of all ‘weight’ values corresponding\n",
    "# to a single artistID gives the total count of streams their songs have got. \n",
    "\n",
    "temp = pd.pivot_table(data=res1a_raw, index='name', values='weight', aggfunc='sum')\n",
    "temp = temp.sort_values(by='weight', ascending=False)\n",
    "temp.rename(columns={'weight': 'listening count'}, inplace=True)\n",
    "res1a_final = temp.reset_index()  # reset_index converts the pivot's index into a column, aka I transform the\n",
    "# pivot table back to a pandas dataframe\n",
    "res1a_final[:10].plot(x='name', y='listening count', kind='bar', rot=45)  \n",
    "plt.title('Total Listening Count per Artist')"
   ]
  },
  {
   "cell_type": "markdown",
   "id": "c3a791a1-a5b3-4568-97b2-0293b5022a03",
   "metadata": {},
   "source": [
    "# "
   ]
  },
  {
   "cell_type": "code",
   "execution_count": null,
   "id": "dcdf07fc-004a-48f8-a698-c2ea2ff1647e",
   "metadata": {},
   "outputs": [],
   "source": [
    "# Frequency of tag usage"
   ]
  },
  {
   "cell_type": "code",
   "execution_count": 48,
   "id": "1d952879-f6cf-4651-ad1f-3506a932b5d8",
   "metadata": {
    "tags": []
   },
   "outputs": [
    {
     "data": {
      "text/html": [
       "<div>\n",
       "<style scoped>\n",
       "    .dataframe tbody tr th:only-of-type {\n",
       "        vertical-align: middle;\n",
       "    }\n",
       "\n",
       "    .dataframe tbody tr th {\n",
       "        vertical-align: top;\n",
       "    }\n",
       "\n",
       "    .dataframe thead th {\n",
       "        text-align: right;\n",
       "    }\n",
       "</style>\n",
       "<table border=\"1\" class=\"dataframe\">\n",
       "  <thead>\n",
       "    <tr style=\"text-align: right;\">\n",
       "      <th></th>\n",
       "      <th>tagValue</th>\n",
       "      <th>count</th>\n",
       "    </tr>\n",
       "  </thead>\n",
       "  <tbody>\n",
       "    <tr>\n",
       "      <th>0</th>\n",
       "      <td>rock</td>\n",
       "      <td>7503</td>\n",
       "    </tr>\n",
       "    <tr>\n",
       "      <th>1</th>\n",
       "      <td>pop</td>\n",
       "      <td>5418</td>\n",
       "    </tr>\n",
       "    <tr>\n",
       "      <th>2</th>\n",
       "      <td>alternative</td>\n",
       "      <td>5251</td>\n",
       "    </tr>\n",
       "    <tr>\n",
       "      <th>3</th>\n",
       "      <td>electronic</td>\n",
       "      <td>4672</td>\n",
       "    </tr>\n",
       "    <tr>\n",
       "      <th>4</th>\n",
       "      <td>indie</td>\n",
       "      <td>4458</td>\n",
       "    </tr>\n",
       "    <tr>\n",
       "      <th>5</th>\n",
       "      <td>female vocalists</td>\n",
       "      <td>4228</td>\n",
       "    </tr>\n",
       "    <tr>\n",
       "      <th>6</th>\n",
       "      <td>80s</td>\n",
       "      <td>2791</td>\n",
       "    </tr>\n",
       "    <tr>\n",
       "      <th>7</th>\n",
       "      <td>dance</td>\n",
       "      <td>2739</td>\n",
       "    </tr>\n",
       "    <tr>\n",
       "      <th>8</th>\n",
       "      <td>alternative rock</td>\n",
       "      <td>2631</td>\n",
       "    </tr>\n",
       "    <tr>\n",
       "      <th>9</th>\n",
       "      <td>classic rock</td>\n",
       "      <td>2287</td>\n",
       "    </tr>\n",
       "  </tbody>\n",
       "</table>\n",
       "</div>"
      ],
      "text/plain": [
       "           tagValue  count\n",
       "0              rock   7503\n",
       "1               pop   5418\n",
       "2       alternative   5251\n",
       "3        electronic   4672\n",
       "4             indie   4458\n",
       "5  female vocalists   4228\n",
       "6               80s   2791\n",
       "7             dance   2739\n",
       "8  alternative rock   2631\n",
       "9      classic rock   2287"
      ]
     },
     "execution_count": 48,
     "metadata": {},
     "output_type": "execute_result"
    }
   ],
   "source": [
    "# We could easily do this as the previous case...\n",
    "#res1b_raw = pd.merge(tag_info, user_tags, on='tagID')\n",
    "#temp = pd.pivot_table(data=res1b_raw, index='tagValue', values='tagID', aggfunc='count')\n",
    "#temp = temp.sort_values(by='tagID', ascending=False)\n",
    "#temp.rename(columns={'tagID': 'count'}, inplace=True)\n",
    "#res1a_final = temp.reset_index()  # reset_index converts the pivot's index into a column, aka I transform the\n",
    "# pivot table back to a pd dataframe\n",
    "#res1a_final[:10].plot(x='tagValue', y='count', kind='bar')  "
   ]
  },
  {
   "cell_type": "code",
   "execution_count": 47,
   "id": "ffbe9657-d4ba-4649-aed3-609ee3e00543",
   "metadata": {
    "tags": []
   },
   "outputs": [],
   "source": [
    "# by we can also do this in a quicker way, using the value_counts() method, which is useful here that each row/record \n",
    "# corresponds to one single case of usage of some tag from a user of the platform"
   ]
  },
  {
   "cell_type": "code",
   "execution_count": 55,
   "id": "18fec1c1-f06c-4b0b-87ef-c7cffb24dfb7",
   "metadata": {
    "tags": []
   },
   "outputs": [
    {
     "data": {
      "text/plain": [
       "<Axes: title={'center': 'Top 10 most used tags'}, xlabel='Tag Value', ylabel='Use Frequency'>"
      ]
     },
     "execution_count": 55,
     "metadata": {},
     "output_type": "execute_result"
    },
    {
     "data": {
      "image/png": "[encoded data removed]",
      "text/plain": [
       "<Figure size 640x480 with 1 Axes>"
      ]
     },
     "metadata": {},
     "output_type": "display_data"
    }
   ],
   "source": [
    "# Showing the top 10 most used tags (by their VALUES, as their IDs don't convey any meaning in presentation).\n",
    "# I only show the top 10 because otherwise the plot gets over-crowded.\n",
    "\n",
    "# First, in order to tag values and not just IDs on the x-axis, I join the user_artists df with that containing further info on the tags.\n",
    "res1b_raw = pd.merge(tag_info, user_tags, on='tagID')\n",
    "\n",
    "# Then, I just create a bar plot of the frequencies with which the various values of the 'tagValue' column appear in the df's records.\n",
    "fig, ax = plt.subplots()\n",
    "res1b_raw = res1b_raw['tagValue'].value_counts().sort_values(ascending=False)\n",
    "plt.title('Top 10 most used tags')\n",
    "plt.xlabel('Tag Value')\n",
    "plt.ylabel('Use Frequency')\n",
    "res1b_raw[:10].plot(ax=ax, kind='bar', rot=45)  # res1b_raw is just an array of named observations - streaming count per ARTIST"
   ]
  },
  {
   "cell_type": "markdown",
   "id": "4255792a-4b42-49d8-8b79-3681af63e2ac",
   "metadata": {},
   "source": [
    "# "
   ]
  },
  {
   "cell_type": "markdown",
   "id": "a4e9d51b-56b0-4681-bf72-37ee35de2332",
   "metadata": {
    "tags": []
   },
   "source": [
    "# Q1 - Outlier Detection"
   ]
  },
  {
   "cell_type": "code",
   "execution_count": 100,
   "id": "c549ca40-acd1-4ae9-9219-7bfcdc7b193d",
   "metadata": {
    "tags": []
   },
   "outputs": [],
   "source": [
    "# Z-score method\n",
    "# A Z-score describes how far a data point is from the mean. "
   ]
  },
  {
   "cell_type": "code",
   "execution_count": null,
   "id": "05fc229a-6251-4d43-b191-3ea0e463af2d",
   "metadata": {},
   "outputs": [],
   "source": [
    "# Detecting the outliers in each distribution under study "
   ]
  },
  {
   "cell_type": "code",
   "execution_count": 93,
   "id": "aed0d2a2-d818-4a1e-bb6d-d2a2b1a9c175",
   "metadata": {
    "tags": []
   },
   "outputs": [
    {
     "data": {
      "text/html": [
       "<div>\n",
       "<style scoped>\n",
       "    .dataframe tbody tr th:only-of-type {\n",
       "        vertical-align: middle;\n",
       "    }\n",
       "\n",
       "    .dataframe tbody tr th {\n",
       "        vertical-align: top;\n",
       "    }\n",
       "\n",
       "    .dataframe thead th {\n",
       "        text-align: right;\n",
       "    }\n",
       "</style>\n",
       "<table border=\"1\" class=\"dataframe\">\n",
       "  <thead>\n",
       "    <tr style=\"text-align: right;\">\n",
       "      <th></th>\n",
       "      <th>name</th>\n",
       "      <th>listening count</th>\n",
       "    </tr>\n",
       "  </thead>\n",
       "  <tbody>\n",
       "    <tr>\n",
       "      <th>0</th>\n",
       "      <td>Britney Spears</td>\n",
       "      <td>2393140</td>\n",
       "    </tr>\n",
       "    <tr>\n",
       "      <th>1</th>\n",
       "      <td>Depeche Mode</td>\n",
       "      <td>1301308</td>\n",
       "    </tr>\n",
       "    <tr>\n",
       "      <th>2</th>\n",
       "      <td>Lady Gaga</td>\n",
       "      <td>1291387</td>\n",
       "    </tr>\n",
       "    <tr>\n",
       "      <th>3</th>\n",
       "      <td>Christina Aguilera</td>\n",
       "      <td>1058405</td>\n",
       "    </tr>\n",
       "    <tr>\n",
       "      <th>4</th>\n",
       "      <td>Paramore</td>\n",
       "      <td>963449</td>\n",
       "    </tr>\n",
       "  </tbody>\n",
       "</table>\n",
       "</div>"
      ],
      "text/plain": [
       "                 name  listening count\n",
       "0      Britney Spears          2393140\n",
       "1        Depeche Mode          1301308\n",
       "2           Lady Gaga          1291387\n",
       "3  Christina Aguilera          1058405\n",
       "4            Paramore           963449"
      ]
     },
     "execution_count": 93,
     "metadata": {},
     "output_type": "execute_result"
    }
   ],
   "source": [
    "# total listening count for artists\n",
    "res1a_final.head()"
   ]
  },
  {
   "cell_type": "code",
   "execution_count": 104,
   "id": "e6ad3c90-b2d5-4980-8a2b-7eea33adf23f",
   "metadata": {
    "tags": []
   },
   "outputs": [
    {
     "name": "stdout",
     "output_type": "stream",
     "text": [
      "                        name  listening count    Z-score\n",
      "0             Britney Spears          2393140  70.066343\n",
      "1               Depeche Mode          1301308  38.047192\n",
      "2                  Lady Gaga          1291387  37.756248\n",
      "3         Christina Aguilera          1058405  30.923799\n",
      "4                   Paramore           963449  28.139112\n",
      "..                       ...              ...        ...\n",
      "80                     Queen           114505   3.242914\n",
      "81               Bright Eyes           113631   3.217283\n",
      "82    Florence + the Machine           113467   3.212473\n",
      "83             Nelly Furtado           110218   3.117193\n",
      "84  Selena Gomez & the Scene           110123   3.114407\n",
      "\n",
      "[85 rows x 3 columns]\n"
     ]
    }
   ],
   "source": [
    "res1a_final['Z-score'] = (res1a_final['listening count'] - res1a_final['listening count'].mean()) / res1a_final['listening count'].std()\n",
    "outliers_artists = res1a_final[abs(res1a_final['Z-score']) > 3]\n",
    "print(outliers_artists)"
   ]
  },
  {
   "cell_type": "code",
   "execution_count": 131,
   "id": "e502018a-67ce-44ca-9fc6-c1f30825d5af",
   "metadata": {
    "tags": []
   },
   "outputs": [
    {
     "data": {
      "text/plain": [
       "<matplotlib.lines.Line2D at 0x29deec590>"
      ]
     },
     "execution_count": 131,
     "metadata": {},
     "output_type": "execute_result"
    },
    {
     "data": {
      "image/png": "[encoded data removed]",
      "text/plain": [
       "<Figure size 640x480 with 1 Axes>"
      ]
     },
     "metadata": {},
     "output_type": "display_data"
    }
   ],
   "source": [
    "res1a_final.boxplot('listening count', vert=False, showfliers=False)\n",
    "plt.title('Distribution of Total Streaming Count of Artists (not showing outliers)')\n",
    "plt.axvline(res1a_final['listening count'].mean(), color='red')\n",
    "\n",
    "# the median is much closer to q1 than q3, and the left-side whisker is much shorter than the right-side whisker\n",
    "# this shows that most values are concentrated at the left-side end of the distribution, yet there are some \n",
    "# (outliers_users.shape[0] in number) extremely high values that influence the mean of the distribution upwards\n",
    "\n",
    "# thus, the distribution is far from normal, and the thresholds of the z-score method here are irrelevant\n",
    "# So, the use of this method in this case doesn't bring up trustworthy resutls "
   ]
  },
  {
   "cell_type": "code",
   "execution_count": null,
   "id": "f08a64b9-da58-483e-a3f0-2816cbe60a77",
   "metadata": {},
   "outputs": [],
   "source": []
  },
  {
   "cell_type": "code",
   "execution_count": null,
   "id": "b943e024-90b1-4a1f-a007-26684523b560",
   "metadata": {},
   "outputs": [],
   "source": []
  },
  {
   "cell_type": "code",
   "execution_count": 105,
   "id": "a62a2e60-b7c0-4dcd-857b-0f3435abeaf5",
   "metadata": {
    "tags": []
   },
   "outputs": [
    {
     "data": {
      "text/html": [
       "<div>\n",
       "<style scoped>\n",
       "    .dataframe tbody tr th:only-of-type {\n",
       "        vertical-align: middle;\n",
       "    }\n",
       "\n",
       "    .dataframe tbody tr th {\n",
       "        vertical-align: top;\n",
       "    }\n",
       "\n",
       "    .dataframe thead th {\n",
       "        text-align: right;\n",
       "    }\n",
       "</style>\n",
       "<table border=\"1\" class=\"dataframe\">\n",
       "  <thead>\n",
       "    <tr style=\"text-align: right;\">\n",
       "      <th></th>\n",
       "      <th>userID</th>\n",
       "      <th>weight</th>\n",
       "    </tr>\n",
       "  </thead>\n",
       "  <tbody>\n",
       "    <tr>\n",
       "      <th>0</th>\n",
       "      <td>757</td>\n",
       "      <td>480039</td>\n",
       "    </tr>\n",
       "    <tr>\n",
       "      <th>1</th>\n",
       "      <td>2000</td>\n",
       "      <td>468409</td>\n",
       "    </tr>\n",
       "    <tr>\n",
       "      <th>2</th>\n",
       "      <td>1418</td>\n",
       "      <td>416349</td>\n",
       "    </tr>\n",
       "    <tr>\n",
       "      <th>3</th>\n",
       "      <td>1642</td>\n",
       "      <td>388251</td>\n",
       "    </tr>\n",
       "    <tr>\n",
       "      <th>4</th>\n",
       "      <td>1094</td>\n",
       "      <td>379125</td>\n",
       "    </tr>\n",
       "  </tbody>\n",
       "</table>\n",
       "</div>"
      ],
      "text/plain": [
       "   userID  weight\n",
       "0     757  480039\n",
       "1    2000  468409\n",
       "2    1418  416349\n",
       "3    1642  388251\n",
       "4    1094  379125"
      ]
     },
     "execution_count": 105,
     "metadata": {},
     "output_type": "execute_result"
    }
   ],
   "source": [
    "# total listening time for users \n",
    "# for each user, I'll add together the views they've made to artists' songs\n",
    "res1_d_raw = pd.pivot_table(data=user_artists, index=['userID'], values=['weight'], aggfunc=np.sum)\n",
    "res1_d_raw = res1_d_raw.sort_values(by='weight', ascending=False)\n",
    "res1_d_final = res1_d_raw.reset_index()\n",
    "res1_d_final.head()"
   ]
  },
  {
   "cell_type": "code",
   "execution_count": 106,
   "id": "512ebfc7-3118-471b-93a0-2a2a5609ffbe",
   "metadata": {
    "tags": []
   },
   "outputs": [
    {
     "name": "stdout",
     "output_type": "stream",
     "text": [
      "    userID  weight   Z-score\n",
      "0      757  480039  9.097887\n",
      "1     2000  468409  8.859296\n",
      "2     1418  416349  7.791279\n",
      "3     1642  388251  7.214846\n",
      "4     1094  379125  7.027625\n",
      "5     1942  348527  6.399903\n",
      "6     2071  338400  6.192147\n",
      "7     2031  329980  6.019409\n",
      "8      514  329782  6.015347\n",
      "9      387  322661  5.869259\n",
      "10    1146  308167  5.571913\n",
      "11    1210  294016  5.281604\n",
      "12     107  277680  4.946469\n",
      "13    1905  276295  4.918056\n",
      "14     385  259106  4.565421\n",
      "15      12  256144  4.504656\n",
      "16     903  255533  4.492121\n",
      "17     459  255516  4.491772\n",
      "18    1664  251560  4.410614\n",
      "19    1236  248680  4.351531\n",
      "20     446  244556  4.266926\n",
      "21    1111  243124  4.237549\n",
      "22    1195  240927  4.192477\n",
      "23    2072  240173  4.177009\n",
      "24    1339  240166  4.176865\n",
      "25    1086  235137  4.073695\n",
      "26     621  233807  4.046409\n",
      "27     581  232504  4.019678\n",
      "28     584  232475  4.019083\n",
      "29     734  230001  3.968329\n",
      "30    1924  223795  3.841012\n",
      "31     938  217254  3.706823\n",
      "32     778  216037  3.681856\n",
      "33    1301  210198  3.562068\n",
      "34     428  203645  3.427633\n",
      "35     104  200979  3.372939\n",
      "36    1961  198651  3.325180\n",
      "37     455  192291  3.194704\n",
      "38     164  192063  3.190027\n",
      "39     113  191781  3.184241\n",
      "40    1478  189034  3.127886\n",
      "41     541  186842  3.082917\n",
      "42     946  184251  3.029763\n"
     ]
    }
   ],
   "source": [
    "res1_d_final['Z-score'] = (res1_d_final['weight'] - res1_d_final['weight'].mean()) / res1_d_final['weight'].std()\n",
    "outliers_users = res1_d_final[abs(res1_d_final['Z-score']) > 3]\n",
    "print(outliers_users)"
   ]
  },
  {
   "cell_type": "code",
   "execution_count": 135,
   "id": "75f19be0-17f7-461b-a52f-083d9f09cd95",
   "metadata": {
    "tags": []
   },
   "outputs": [
    {
     "data": {
      "text/plain": [
       "<matplotlib.lines.Line2D at 0x29df47d90>"
      ]
     },
     "execution_count": 135,
     "metadata": {},
     "output_type": "execute_result"
    },
    {
     "data": {
      "image/png": "[encoded data removed]",
      "text/plain": [
       "<Figure size 640x480 with 1 Axes>"
      ]
     },
     "metadata": {},
     "output_type": "display_data"
    }
   ],
   "source": [
    "res1_d_final.boxplot('weight', vert=False, showfliers=False)\n",
    "plt.title('Distribution of Total Streaming Count for Users (not showing outliers)')\n",
    "plt.axvline(res1_d_final['weight'].mean(), color='red')\n",
    "\n",
    "# the median is much closer to q1 than q3, and the left-side whisker is much shorter than the right-side whisker\n",
    "# this shows that most values are concentrated at the left-side end of the distribution, yet there are some \n",
    "# (outliers_users.shape[0] in number) extremely high values that influence the mean of the distribution upwards\n",
    "\n",
    "# thus, the distribution is far from normal, and the thresholds of the z-score method here are irrelevant\n",
    "# So, the use of this method in this case doesn't bring up trustworthy resutls "
   ]
  },
  {
   "cell_type": "code",
   "execution_count": null,
   "id": "eecc708c-3635-435e-b563-8d303193c0b9",
   "metadata": {},
   "outputs": [],
   "source": []
  },
  {
   "cell_type": "code",
   "execution_count": 136,
   "id": "246fb238-f09d-4339-9f51-e43483d6dc46",
   "metadata": {
    "tags": []
   },
   "outputs": [
    {
     "name": "stdout",
     "output_type": "stream",
     "text": [
      "              index  count    Z-score\n",
      "0              rock   7503  44.447770\n",
      "1               pop   5418  32.064662\n",
      "2       alternative   5251  31.072825\n",
      "3        electronic   4672  27.634062\n",
      "4             indie   4458  26.363086\n",
      "..              ...    ...        ...\n",
      "63  female vocalist    579   3.325159\n",
      "64    post-hardcore    567   3.253889\n",
      "65        brazilian    565   3.242011\n",
      "66          amazing    539   3.087593\n",
      "67         pop punk    531   3.040080\n",
      "\n",
      "[68 rows x 3 columns]\n"
     ]
    }
   ],
   "source": [
    "# frequency of tag usage \n",
    "# in the 'res1b_raw' series, we already have the count of usage for each tag (by the tag name) for all tags in the dataset \n",
    "# Thus, our raw data are ready to use to create bins and show the distribution for the random variable representing the \n",
    "# count under study\n",
    "res1_b_final = res1b_raw.to_frame().reset_index()\n",
    "res1_b_final.rename(columns={'tagValue': 'count'}, inplace=True)\n",
    "res1_b_final['Z-score'] = (res1_b_final['count'] - res1_b_final['count'].mean()) / res1_b_final['count'].std()\n",
    "outliers_tags = res1_b_final[abs(res1_b_final['Z-score']) > 3]\n",
    "print(outliers_tags)"
   ]
  },
  {
   "cell_type": "code",
   "execution_count": 137,
   "id": "d32afaf3-04d2-4647-963b-2d90b78b1135",
   "metadata": {
    "tags": []
   },
   "outputs": [
    {
     "data": {
      "text/plain": [
       "<matplotlib.lines.Line2D at 0x29e015e50>"
      ]
     },
     "execution_count": 137,
     "metadata": {},
     "output_type": "execute_result"
    },
    {
     "data": {
      "image/png": "[encoded data removed]",
      "text/plain": [
       "<Figure size 640x480 with 1 Axes>"
      ]
     },
     "metadata": {},
     "output_type": "display_data"
    }
   ],
   "source": [
    "res1_b_final.boxplot('count', vert=False, showfliers=False)\n",
    "plt.title('Distribution of Total Usage Count for Tags (not showing outliers)')\n",
    "plt.axvline(res1_b_final['count'].mean(), color='red')\n",
    "\n",
    "# the median is much closer to q1 than q3, and the left-side whisker is much shorter than the right-side whisker\n",
    "# this shows that most values are concentrated at the left-side end of the distribution, yet there are some \n",
    "# (outliers_users.shape[0] in number) extremely high values that influence the mean of the distribution upwards\n",
    "\n",
    "# thus, the distribution is far from normal, and the thresholds of the z-score method here are irrelevant\n",
    "# So, the use of this method in this case doesn't bring up trustworthy resutls "
   ]
  },
  {
   "cell_type": "code",
   "execution_count": null,
   "id": "03278ff3-ae2c-4cf7-8da2-0bf802dc7772",
   "metadata": {},
   "outputs": [],
   "source": []
  },
  {
   "cell_type": "code",
   "execution_count": null,
   "id": "b77d13f8-3a7a-42d9-88d8-5921f7c5f8ca",
   "metadata": {},
   "outputs": [],
   "source": []
  },
  {
   "cell_type": "code",
   "execution_count": 39,
   "id": "ff1a20ab-55ef-40df-904b-3b0f1130e817",
   "metadata": {
    "tags": []
   },
   "outputs": [],
   "source": [
    "### second outlier detection method - IQR method\n",
    "#  https://towardsdatascience.com/outlier-detection-methods-in-machine-learning-1c8b7cca6cb8\n",
    "#  https://online.stat.psu.edu/stat200/lesson/3/3.2\n",
    "#  https://www.khanacademy.org/math/statistics-probability/summarizing-quantitative-data/box-whisker-plots/a/identifying-outliers-iqr-rule\n",
    "# It works similarly to the Z-score method in that it sets a threshold for a custom metric so as to deem \n",
    "# various values as outliers or not. Instead of Z=-3 and Z=3 as the boundary values (as in the Z-score method), it \n",
    "# considers the values lower_bound=q1-1.5*IQR and upper_bound=q3+1.5*IQR,\n",
    "# where q1, q3 are the 1st and 3rd quartiles, respectively, \n",
    "# and IQR is the interquartile range of the distribution of the random variable (=q3-q1)"
   ]
  },
  {
   "cell_type": "code",
   "execution_count": null,
   "id": "3aefb373-0433-4624-b4a6-963f9274bf1e",
   "metadata": {},
   "outputs": [],
   "source": [
    "# I then proceed with calculating the outliers and displaying samples of them"
   ]
  },
  {
   "cell_type": "code",
   "execution_count": null,
   "id": "c3287164-1229-46f7-b795-2aa90b0553fa",
   "metadata": {},
   "outputs": [],
   "source": [
    "# then I state the difference in the two methods and show that the use of the Z-score method here is irrelevant"
   ]
  },
  {
   "cell_type": "code",
   "execution_count": null,
   "id": "8faf1101-1fc9-4ecc-b45b-8591fa153ce9",
   "metadata": {},
   "outputs": [],
   "source": []
  },
  {
   "cell_type": "code",
   "execution_count": null,
   "id": "4ffa6cc1-1699-47df-bd79-4f240e1448ae",
   "metadata": {},
   "outputs": [],
   "source": []
  },
  {
   "cell_type": "code",
   "execution_count": null,
   "id": "bde2ced5-642b-4382-a4bf-c8cf1126f4ca",
   "metadata": {},
   "outputs": [],
   "source": [
    "# The differences between the two methods lies in the different measures they use to make the decision whether an observed value\n",
    "# for a random variable is an outlier or not, but also in the conditions that must hold so that their usage is valid.\n",
    "# In more detail, the Z-score method requires that the random variable's distribution approximates the normal distribution, so that\n",
    "# the arbitrary thresholds imposed can be justified on the basis of the empirical rule. Otherwise, the results of the method cannot \n",
    "# be taken into account. On the other hand, the IQR method doesn't make any distribution assumption."
   ]
  },
  {
   "cell_type": "code",
   "execution_count": 138,
   "id": "8672d2fe-a8cc-411f-9946-8e20166a249d",
   "metadata": {
    "tags": []
   },
   "outputs": [],
   "source": [
    "# total listening count for artists\n",
    "\n",
    "q3_ = res1a_final['listening count'].quantile(q=0.75)\n",
    "q1_ = res1a_final['listening count'].quantile(q=0.25)\n",
    "iqr_ = q3_ - q1_ \n",
    "\n",
    "res1a_final['IQR_meth'] = (res1a_final['listening count'] >= q3_ + 1.5 * iqr_) | (res1a_final['listening count'] <= q1_ - 1.5 * iqr_)"
   ]
  },
  {
   "cell_type": "code",
   "execution_count": 141,
   "id": "9cbfc301-4f34-4e61-b492-49b75b5d4a5a",
   "metadata": {
    "tags": []
   },
   "outputs": [
    {
     "data": {
      "text/html": [
       "<div>\n",
       "<style scoped>\n",
       "    .dataframe tbody tr th:only-of-type {\n",
       "        vertical-align: middle;\n",
       "    }\n",
       "\n",
       "    .dataframe tbody tr th {\n",
       "        vertical-align: top;\n",
       "    }\n",
       "\n",
       "    .dataframe thead th {\n",
       "        text-align: right;\n",
       "    }\n",
       "</style>\n",
       "<table border=\"1\" class=\"dataframe\">\n",
       "  <thead>\n",
       "    <tr style=\"text-align: right;\">\n",
       "      <th></th>\n",
       "      <th>name</th>\n",
       "      <th>listening count</th>\n",
       "      <th>Z-score</th>\n",
       "      <th>IQR_meth</th>\n",
       "    </tr>\n",
       "  </thead>\n",
       "  <tbody>\n",
       "    <tr>\n",
       "      <th>0</th>\n",
       "      <td>Britney Spears</td>\n",
       "      <td>2393140</td>\n",
       "      <td>70.066343</td>\n",
       "      <td>True</td>\n",
       "    </tr>\n",
       "    <tr>\n",
       "      <th>1</th>\n",
       "      <td>Depeche Mode</td>\n",
       "      <td>1301308</td>\n",
       "      <td>38.047192</td>\n",
       "      <td>True</td>\n",
       "    </tr>\n",
       "    <tr>\n",
       "      <th>2</th>\n",
       "      <td>Lady Gaga</td>\n",
       "      <td>1291387</td>\n",
       "      <td>37.756248</td>\n",
       "      <td>True</td>\n",
       "    </tr>\n",
       "    <tr>\n",
       "      <th>3</th>\n",
       "      <td>Christina Aguilera</td>\n",
       "      <td>1058405</td>\n",
       "      <td>30.923799</td>\n",
       "      <td>True</td>\n",
       "    </tr>\n",
       "    <tr>\n",
       "      <th>4</th>\n",
       "      <td>Paramore</td>\n",
       "      <td>963449</td>\n",
       "      <td>28.139112</td>\n",
       "      <td>True</td>\n",
       "    </tr>\n",
       "    <tr>\n",
       "      <th>...</th>\n",
       "      <td>...</td>\n",
       "      <td>...</td>\n",
       "      <td>...</td>\n",
       "      <td>...</td>\n",
       "    </tr>\n",
       "    <tr>\n",
       "      <th>2488</th>\n",
       "      <td>The Secret Handshake</td>\n",
       "      <td>2925</td>\n",
       "      <td>-0.029290</td>\n",
       "      <td>True</td>\n",
       "    </tr>\n",
       "    <tr>\n",
       "      <th>2489</th>\n",
       "      <td>My Ticket Home</td>\n",
       "      <td>2924</td>\n",
       "      <td>-0.029319</td>\n",
       "      <td>True</td>\n",
       "    </tr>\n",
       "    <tr>\n",
       "      <th>2490</th>\n",
       "      <td>Untouchable</td>\n",
       "      <td>2923</td>\n",
       "      <td>-0.029349</td>\n",
       "      <td>True</td>\n",
       "    </tr>\n",
       "    <tr>\n",
       "      <th>2491</th>\n",
       "      <td>Lonny Breaux</td>\n",
       "      <td>2921</td>\n",
       "      <td>-0.029407</td>\n",
       "      <td>True</td>\n",
       "    </tr>\n",
       "    <tr>\n",
       "      <th>2492</th>\n",
       "      <td>Marteria</td>\n",
       "      <td>2917</td>\n",
       "      <td>-0.029525</td>\n",
       "      <td>True</td>\n",
       "    </tr>\n",
       "  </tbody>\n",
       "</table>\n",
       "<p>2493 rows × 4 columns</p>\n",
       "</div>"
      ],
      "text/plain": [
       "                      name  listening count    Z-score  IQR_meth\n",
       "0           Britney Spears          2393140  70.066343      True\n",
       "1             Depeche Mode          1301308  38.047192      True\n",
       "2                Lady Gaga          1291387  37.756248      True\n",
       "3       Christina Aguilera          1058405  30.923799      True\n",
       "4                 Paramore           963449  28.139112      True\n",
       "...                    ...              ...        ...       ...\n",
       "2488  The Secret Handshake             2925  -0.029290      True\n",
       "2489        My Ticket Home             2924  -0.029319      True\n",
       "2490           Untouchable             2923  -0.029349      True\n",
       "2491          Lonny Breaux             2921  -0.029407      True\n",
       "2492              Marteria             2917  -0.029525      True\n",
       "\n",
       "[2493 rows x 4 columns]"
      ]
     },
     "execution_count": 141,
     "metadata": {},
     "output_type": "execute_result"
    }
   ],
   "source": [
    "outliers_artists_IRQ = res1a_final[res1a_final['IQR_meth'] == True]\n",
    "print(outliers_artists_IRQ)  # we see that this method gives many more outliers so it's much more effective,\n",
    "# as the threshold values it sets don't rely on distribution assumptions that need to hold"
   ]
  },
  {
   "cell_type": "code",
   "execution_count": null,
   "id": "99be995a-861b-4d83-ab9f-9235230d5052",
   "metadata": {},
   "outputs": [],
   "source": []
  },
  {
   "cell_type": "code",
   "execution_count": 142,
   "id": "c5941fa9-acbe-4ad1-8fa1-622256358888",
   "metadata": {},
   "outputs": [],
   "source": [
    "# total listening time for users \n",
    "q3_ = res1_d_final['weight'].quantile(q=0.75)\n",
    "q1_ = res1_d_final['weight'].quantile(q=0.25)\n",
    "iqr_ = q3_ - q1_ \n",
    "\n",
    "\n",
    "res1_d_final['IQR_meth'] = (res1_d_final['weight'] >= q3_ + 1.5 * iqr_) | (res1_d_final['weight'] <= q1_ - 1.5 * iqr_)"
   ]
  },
  {
   "cell_type": "code",
   "execution_count": 144,
   "id": "046b54c1-e6bf-41af-bcda-d3b39c563100",
   "metadata": {},
   "outputs": [
    {
     "name": "stdout",
     "output_type": "stream",
     "text": [
      "     userID  weight  IQR_meth\n",
      "0       757  480039      True\n",
      "1      2000  468409      True\n",
      "2      1418  416349      True\n",
      "3      1642  388251      True\n",
      "4      1094  379125      True\n",
      "..      ...     ...       ...\n",
      "156    1233   94475      True\n",
      "157    1196   93910      True\n",
      "158     123   93771      True\n",
      "159     498   93308      True\n",
      "160     671   93201      True\n",
      "\n",
      "[161 rows x 3 columns]\n"
     ]
    }
   ],
   "source": [
    "outliers_users_IRQ = res1_d_final[res1_d_final['IQR_meth'] == True]\n",
    "print(outliers_users_IRQ)  # we see that this method gives many more outliers so it's much more effective,"
   ]
  },
  {
   "cell_type": "code",
   "execution_count": null,
   "id": "ba274abc-1bde-4214-b48e-64ceb8189966",
   "metadata": {},
   "outputs": [],
   "source": []
  },
  {
   "cell_type": "code",
   "execution_count": 145,
   "id": "a50d14ac-e530-42c7-bc6d-c9970774e80e",
   "metadata": {
    "tags": []
   },
   "outputs": [],
   "source": [
    "# frequency of tag usage \n",
    "q3_ = res1_b_final['count'].quantile(q=0.75)\n",
    "q1_ = res1_b_final['count'].quantile(q=0.25)\n",
    "iqr_ = q3_ - q1_ \n",
    "res1_b_final['IQR_meth'] = (res1_b_final['count'] >= q3_ + 1.5 * iqr_) | (res1_b_final['count'] <= q1_ - 1.5 * iqr_)"
   ]
  },
  {
   "cell_type": "code",
   "execution_count": 146,
   "id": "016b3599-e5e5-494a-babe-72dcecada434",
   "metadata": {
    "tags": []
   },
   "outputs": [
    {
     "name": "stdout",
     "output_type": "stream",
     "text": [
      "                        index  count    Z-score  IQR_meth\n",
      "0                        rock   7503  44.447770      True\n",
      "1                         pop   5418  32.064662      True\n",
      "2                 alternative   5251  31.072825      True\n",
      "3                  electronic   4672  27.634062      True\n",
      "4                       indie   4458  26.363086      True\n",
      "...                       ...    ...        ...       ...\n",
      "1587               cigarettes      9  -0.060152      True\n",
      "1588            thick as fuck      9  -0.060152      True\n",
      "1589            avril lavigne      9  -0.060152      True\n",
      "1590  atmospheric black metal      9  -0.060152      True\n",
      "1591                 pop/rock      9  -0.060152      True\n",
      "\n",
      "[1592 rows x 4 columns]\n"
     ]
    }
   ],
   "source": [
    "outliers_tags_IRQ = res1_b_final[res1_b_final['IQR_meth'] == True]\n",
    "print(outliers_tags_IRQ)  # we see that this method gives many more outliers so it's much more effective,"
   ]
  },
  {
   "cell_type": "code",
   "execution_count": null,
   "id": "88f9ef88-d0dc-405e-b2f9-d37827a0ec12",
   "metadata": {},
   "outputs": [],
   "source": []
  },
  {
   "cell_type": "markdown",
   "id": "ebb80f6d-4d98-4e61-97ed-99e2d9355959",
   "metadata": {},
   "source": [
    "# Q3"
   ]
  },
  {
   "cell_type": "code",
   "execution_count": 254,
   "id": "6fa2b658-8e4e-4b3b-a76f-4e7e4fc16475",
   "metadata": {
    "tags": []
   },
   "outputs": [
    {
     "data": {
      "text/html": [
       "<div>\n",
       "<style scoped>\n",
       "    .dataframe tbody tr th:only-of-type {\n",
       "        vertical-align: middle;\n",
       "    }\n",
       "\n",
       "    .dataframe tbody tr th {\n",
       "        vertical-align: top;\n",
       "    }\n",
       "\n",
       "    .dataframe thead th {\n",
       "        text-align: right;\n",
       "    }\n",
       "</style>\n",
       "<table border=\"1\" class=\"dataframe\">\n",
       "  <thead>\n",
       "    <tr style=\"text-align: right;\">\n",
       "      <th></th>\n",
       "      <th>userID</th>\n",
       "      <th>artistID</th>\n",
       "      <th>tagID</th>\n",
       "      <th>timestamp</th>\n",
       "      <th>date_</th>\n",
       "      <th>quarters</th>\n",
       "    </tr>\n",
       "  </thead>\n",
       "  <tbody>\n",
       "    <tr>\n",
       "      <th>0</th>\n",
       "      <td>2</td>\n",
       "      <td>52</td>\n",
       "      <td>13</td>\n",
       "      <td>1238536800</td>\n",
       "      <td>2009-04-01 01:00:00</td>\n",
       "      <td>(2009, 2)</td>\n",
       "    </tr>\n",
       "    <tr>\n",
       "      <th>1</th>\n",
       "      <td>2</td>\n",
       "      <td>52</td>\n",
       "      <td>15</td>\n",
       "      <td>1238536800</td>\n",
       "      <td>2009-04-01 01:00:00</td>\n",
       "      <td>(2009, 2)</td>\n",
       "    </tr>\n",
       "    <tr>\n",
       "      <th>2</th>\n",
       "      <td>2</td>\n",
       "      <td>52</td>\n",
       "      <td>18</td>\n",
       "      <td>1238536800</td>\n",
       "      <td>2009-04-01 01:00:00</td>\n",
       "      <td>(2009, 2)</td>\n",
       "    </tr>\n",
       "    <tr>\n",
       "      <th>3</th>\n",
       "      <td>2</td>\n",
       "      <td>52</td>\n",
       "      <td>21</td>\n",
       "      <td>1238536800</td>\n",
       "      <td>2009-04-01 01:00:00</td>\n",
       "      <td>(2009, 2)</td>\n",
       "    </tr>\n",
       "    <tr>\n",
       "      <th>4</th>\n",
       "      <td>2</td>\n",
       "      <td>52</td>\n",
       "      <td>41</td>\n",
       "      <td>1238536800</td>\n",
       "      <td>2009-04-01 01:00:00</td>\n",
       "      <td>(2009, 2)</td>\n",
       "    </tr>\n",
       "    <tr>\n",
       "      <th>...</th>\n",
       "      <td>...</td>\n",
       "      <td>...</td>\n",
       "      <td>...</td>\n",
       "      <td>...</td>\n",
       "      <td>...</td>\n",
       "      <td>...</td>\n",
       "    </tr>\n",
       "    <tr>\n",
       "      <th>186474</th>\n",
       "      <td>2100</td>\n",
       "      <td>16437</td>\n",
       "      <td>4</td>\n",
       "      <td>1277935200</td>\n",
       "      <td>2010-07-01 01:00:00</td>\n",
       "      <td>(2010, 3)</td>\n",
       "    </tr>\n",
       "    <tr>\n",
       "      <th>186475</th>\n",
       "      <td>2100</td>\n",
       "      <td>16437</td>\n",
       "      <td>292</td>\n",
       "      <td>1272664800</td>\n",
       "      <td>2010-05-01 01:00:00</td>\n",
       "      <td>(2010, 2)</td>\n",
       "    </tr>\n",
       "    <tr>\n",
       "      <th>186476</th>\n",
       "      <td>2100</td>\n",
       "      <td>16437</td>\n",
       "      <td>2087</td>\n",
       "      <td>1277935200</td>\n",
       "      <td>2010-07-01 01:00:00</td>\n",
       "      <td>(2010, 3)</td>\n",
       "    </tr>\n",
       "    <tr>\n",
       "      <th>186477</th>\n",
       "      <td>2100</td>\n",
       "      <td>16437</td>\n",
       "      <td>2801</td>\n",
       "      <td>1272664800</td>\n",
       "      <td>2010-05-01 01:00:00</td>\n",
       "      <td>(2010, 2)</td>\n",
       "    </tr>\n",
       "    <tr>\n",
       "      <th>186478</th>\n",
       "      <td>2100</td>\n",
       "      <td>16437</td>\n",
       "      <td>3335</td>\n",
       "      <td>1277935200</td>\n",
       "      <td>2010-07-01 01:00:00</td>\n",
       "      <td>(2010, 3)</td>\n",
       "    </tr>\n",
       "  </tbody>\n",
       "</table>\n",
       "<p>186479 rows × 6 columns</p>\n",
       "</div>"
      ],
      "text/plain": [
       "        userID  artistID  tagID   timestamp               date_   quarters\n",
       "0            2        52     13  1238536800 2009-04-01 01:00:00  (2009, 2)\n",
       "1            2        52     15  1238536800 2009-04-01 01:00:00  (2009, 2)\n",
       "2            2        52     18  1238536800 2009-04-01 01:00:00  (2009, 2)\n",
       "3            2        52     21  1238536800 2009-04-01 01:00:00  (2009, 2)\n",
       "4            2        52     41  1238536800 2009-04-01 01:00:00  (2009, 2)\n",
       "...        ...       ...    ...         ...                 ...        ...\n",
       "186474    2100     16437      4  1277935200 2010-07-01 01:00:00  (2010, 3)\n",
       "186475    2100     16437    292  1272664800 2010-05-01 01:00:00  (2010, 2)\n",
       "186476    2100     16437   2087  1277935200 2010-07-01 01:00:00  (2010, 3)\n",
       "186477    2100     16437   2801  1272664800 2010-05-01 01:00:00  (2010, 2)\n",
       "186478    2100     16437   3335  1277935200 2010-07-01 01:00:00  (2010, 3)\n",
       "\n",
       "[186479 rows x 6 columns]"
      ]
     },
     "execution_count": 254,
     "metadata": {},
     "output_type": "execute_result"
    }
   ],
   "source": [
    "user_tags_ts"
   ]
  },
  {
   "cell_type": "code",
   "execution_count": 255,
   "id": "b803faa4-d76b-4f5f-859d-841190f565bc",
   "metadata": {
    "tags": []
   },
   "outputs": [],
   "source": [
    "# divide the 'timestmap' column's values by 1000 so as to get timestamp expressed in seconds and not milliseconds\n",
    "user_tags_ts['timestamp'] = (user_tags_ts['timestamp'] / 1000).astype('int64')"
   ]
  },
  {
   "cell_type": "code",
   "execution_count": 256,
   "id": "ab18d253-e03c-4a30-9d65-47fbcb84e198",
   "metadata": {
    "tags": []
   },
   "outputs": [],
   "source": [
    "dates = [datetime.fromtimestamp(ts) for ts in user_tags_ts['timestamp']]\n",
    "user_tags_ts['date_'] = dates"
   ]
  },
  {
   "cell_type": "code",
   "execution_count": 257,
   "id": "be2b66b8-3ac4-4736-9711-e046c400a615",
   "metadata": {
    "tags": []
   },
   "outputs": [
    {
     "data": {
      "text/html": [
       "<div>\n",
       "<style scoped>\n",
       "    .dataframe tbody tr th:only-of-type {\n",
       "        vertical-align: middle;\n",
       "    }\n",
       "\n",
       "    .dataframe tbody tr th {\n",
       "        vertical-align: top;\n",
       "    }\n",
       "\n",
       "    .dataframe thead th {\n",
       "        text-align: right;\n",
       "    }\n",
       "</style>\n",
       "<table border=\"1\" class=\"dataframe\">\n",
       "  <thead>\n",
       "    <tr style=\"text-align: right;\">\n",
       "      <th></th>\n",
       "      <th>userID</th>\n",
       "      <th>artistID</th>\n",
       "      <th>tagID</th>\n",
       "      <th>timestamp</th>\n",
       "      <th>date_</th>\n",
       "      <th>quarters</th>\n",
       "    </tr>\n",
       "  </thead>\n",
       "  <tbody>\n",
       "    <tr>\n",
       "      <th>0</th>\n",
       "      <td>2</td>\n",
       "      <td>52</td>\n",
       "      <td>13</td>\n",
       "      <td>1238536</td>\n",
       "      <td>1970-01-15 10:02:16</td>\n",
       "      <td>(2009, 2)</td>\n",
       "    </tr>\n",
       "    <tr>\n",
       "      <th>1</th>\n",
       "      <td>2</td>\n",
       "      <td>52</td>\n",
       "      <td>15</td>\n",
       "      <td>1238536</td>\n",
       "      <td>1970-01-15 10:02:16</td>\n",
       "      <td>(2009, 2)</td>\n",
       "    </tr>\n",
       "    <tr>\n",
       "      <th>2</th>\n",
       "      <td>2</td>\n",
       "      <td>52</td>\n",
       "      <td>18</td>\n",
       "      <td>1238536</td>\n",
       "      <td>1970-01-15 10:02:16</td>\n",
       "      <td>(2009, 2)</td>\n",
       "    </tr>\n",
       "    <tr>\n",
       "      <th>3</th>\n",
       "      <td>2</td>\n",
       "      <td>52</td>\n",
       "      <td>21</td>\n",
       "      <td>1238536</td>\n",
       "      <td>1970-01-15 10:02:16</td>\n",
       "      <td>(2009, 2)</td>\n",
       "    </tr>\n",
       "    <tr>\n",
       "      <th>4</th>\n",
       "      <td>2</td>\n",
       "      <td>52</td>\n",
       "      <td>41</td>\n",
       "      <td>1238536</td>\n",
       "      <td>1970-01-15 10:02:16</td>\n",
       "      <td>(2009, 2)</td>\n",
       "    </tr>\n",
       "  </tbody>\n",
       "</table>\n",
       "</div>"
      ],
      "text/plain": [
       "   userID  artistID  tagID  timestamp               date_   quarters\n",
       "0       2        52     13    1238536 1970-01-15 10:02:16  (2009, 2)\n",
       "1       2        52     15    1238536 1970-01-15 10:02:16  (2009, 2)\n",
       "2       2        52     18    1238536 1970-01-15 10:02:16  (2009, 2)\n",
       "3       2        52     21    1238536 1970-01-15 10:02:16  (2009, 2)\n",
       "4       2        52     41    1238536 1970-01-15 10:02:16  (2009, 2)"
      ]
     },
     "execution_count": 257,
     "metadata": {},
     "output_type": "execute_result"
    }
   ],
   "source": [
    "user_tags_ts.head()"
   ]
  },
  {
   "cell_type": "markdown",
   "id": "5a738972-5cfc-4063-b21c-d9c594451f38",
   "metadata": {},
   "source": [
    "### Q3-a (two ways - groupby vs pivot)"
   ]
  },
  {
   "cell_type": "code",
   "execution_count": 258,
   "id": "c9f19187-d9ae-4fe4-9044-063a49a7d143",
   "metadata": {
    "tags": []
   },
   "outputs": [],
   "source": [
    "# I will find the distinct count of occurence of each item (user/artist/tag) per interval - I select this interval to be a quarter of the year"
   ]
  },
  {
   "cell_type": "code",
   "execution_count": 259,
   "id": "238eb166-8dc2-47a3-8a67-89c3b1d2f197",
   "metadata": {
    "tags": []
   },
   "outputs": [],
   "source": [
    "res3_users = user_tags_ts['userID'].groupby([user_tags_ts['date_'].dt.year, user_tags_ts['date_'].dt.quarter]).nunique()"
   ]
  },
  {
   "cell_type": "code",
   "execution_count": 260,
   "id": "62703955-b2da-40c1-992c-bed6f33bfe27",
   "metadata": {
    "tags": []
   },
   "outputs": [
    {
     "data": {
      "text/plain": [
       "Text(0, 0.5, '(Unique) Users Count')"
      ]
     },
     "execution_count": 260,
     "metadata": {},
     "output_type": "execute_result"
    },
    {
     "data": {
      "image/png": "[encoded data removed]",
      "text/plain": [
       "<Figure size 640x480 with 1 Axes>"
      ]
     },
     "metadata": {},
     "output_type": "display_data"
    }
   ],
   "source": [
    "res3_users.plot(kind='line')\n",
    "plt.title('Users Active per Quarter')\n",
    "plt.xlabel('Quarter')\n",
    "plt.ylabel('(Unique) Users Count')"
   ]
  },
  {
   "cell_type": "code",
   "execution_count": 261,
   "id": "6f7ff170-19e2-4585-9c0d-5c807996730f",
   "metadata": {
    "tags": []
   },
   "outputs": [
    {
     "data": {
      "text/plain": [
       "Text(0, 0.5, '(Unique) Tags Count')"
      ]
     },
     "execution_count": 261,
     "metadata": {},
     "output_type": "execute_result"
    },
    {
     "data": {
      "image/png": "[encoded data removed]",
      "text/plain": [
       "<Figure size 640x480 with 1 Axes>"
      ]
     },
     "metadata": {},
     "output_type": "display_data"
    }
   ],
   "source": [
    "res3_tags = user_tags_ts['tagID'].groupby([user_tags_ts['date_'].dt.year, user_tags_ts['date_'].dt.quarter]).nunique()\n",
    "res3_tags.plot(kind='line')\n",
    "plt.title('Number of (Unique) Tags Used per Quarter')\n",
    "plt.xlabel('Quarter')\n",
    "plt.ylabel('(Unique) Tags Count')\n",
    "\n",
    "\n",
    "# alternative: \n",
    "#t = pd.pivot_table(data=user_tags_ts, index=['quarters'], values='tagID', aggfunc='nunique')\n",
    "#t.reset_index(inplace=True)\n",
    "#t.rename(columns={'tagID': 'tag_count'}, inplace=True)\n",
    "#t"
   ]
  },
  {
   "cell_type": "code",
   "execution_count": 262,
   "id": "5f6a00e7-13f0-4408-af22-3067f5bbbb5a",
   "metadata": {
    "tags": []
   },
   "outputs": [
    {
     "data": {
      "text/plain": [
       "Text(0, 0.5, '(Unique) Artists Listened to Count')"
      ]
     },
     "execution_count": 262,
     "metadata": {},
     "output_type": "execute_result"
    },
    {
     "data": {
      "image/png": "[encoded data removed]",
      "text/plain": [
       "<Figure size 640x480 with 1 Axes>"
      ]
     },
     "metadata": {},
     "output_type": "display_data"
    }
   ],
   "source": [
    "res3_artists = user_tags_ts['artistID'].groupby([user_tags_ts['date_'].dt.year, user_tags_ts['date_'].dt.quarter]).nunique()\n",
    "res3_artists.plot(kind='line')\n",
    "plt.title('Number of (Unique) Artists Listened to per Quarter')\n",
    "plt.xlabel('Quarter')\n",
    "plt.ylabel('(Unique) Artists Listened to Count')"
   ]
  },
  {
   "cell_type": "code",
   "execution_count": null,
   "id": "4bc3108d-6d0d-406d-b642-1c1bceca6beb",
   "metadata": {},
   "outputs": [],
   "source": []
  },
  {
   "cell_type": "code",
   "execution_count": null,
   "id": "4cd1962e-ecdd-4e03-a440-2e635b7109ad",
   "metadata": {},
   "outputs": [],
   "source": []
  },
  {
   "cell_type": "markdown",
   "id": "ff98d6e0-aba1-4332-8f65-5eca59ace89e",
   "metadata": {},
   "source": [
    "### Q3 - b"
   ]
  },
  {
   "cell_type": "code",
   "execution_count": 263,
   "id": "6278150d-f006-42e2-8703-dc8487c3cc95",
   "metadata": {
    "tags": []
   },
   "outputs": [],
   "source": [
    "# Creating a 'quarters' column in the df, in which we will have a tuple of the form (year, quarter), so that\n",
    "# it is sortable. \n",
    "quarters = [(t.year, t.quarter) for t in user_tags_ts['date_']]\n",
    "user_tags_ts['quarters'] = quarters\n",
    "\n",
    "# this I do in the previous question (q3-a) as well, and I group by this column"
   ]
  },
  {
   "cell_type": "code",
   "execution_count": 158,
   "id": "f4771f95-09d9-49ef-b8a3-c5a78dc61ee6",
   "metadata": {
    "tags": []
   },
   "outputs": [
    {
     "data": {
      "text/html": [
       "<div>\n",
       "<style scoped>\n",
       "    .dataframe tbody tr th:only-of-type {\n",
       "        vertical-align: middle;\n",
       "    }\n",
       "\n",
       "    .dataframe tbody tr th {\n",
       "        vertical-align: top;\n",
       "    }\n",
       "\n",
       "    .dataframe thead th {\n",
       "        text-align: right;\n",
       "    }\n",
       "</style>\n",
       "<table border=\"1\" class=\"dataframe\">\n",
       "  <thead>\n",
       "    <tr style=\"text-align: right;\">\n",
       "      <th></th>\n",
       "      <th>userID</th>\n",
       "      <th>artistID</th>\n",
       "      <th>tagID</th>\n",
       "      <th>timestamp</th>\n",
       "      <th>date_</th>\n",
       "      <th>quarters</th>\n",
       "    </tr>\n",
       "  </thead>\n",
       "  <tbody>\n",
       "    <tr>\n",
       "      <th>0</th>\n",
       "      <td>2</td>\n",
       "      <td>52</td>\n",
       "      <td>13</td>\n",
       "      <td>1238536800</td>\n",
       "      <td>2009-04-01 01:00:00</td>\n",
       "      <td>(2009, 2)</td>\n",
       "    </tr>\n",
       "    <tr>\n",
       "      <th>1</th>\n",
       "      <td>2</td>\n",
       "      <td>52</td>\n",
       "      <td>15</td>\n",
       "      <td>1238536800</td>\n",
       "      <td>2009-04-01 01:00:00</td>\n",
       "      <td>(2009, 2)</td>\n",
       "    </tr>\n",
       "    <tr>\n",
       "      <th>2</th>\n",
       "      <td>2</td>\n",
       "      <td>52</td>\n",
       "      <td>18</td>\n",
       "      <td>1238536800</td>\n",
       "      <td>2009-04-01 01:00:00</td>\n",
       "      <td>(2009, 2)</td>\n",
       "    </tr>\n",
       "    <tr>\n",
       "      <th>3</th>\n",
       "      <td>2</td>\n",
       "      <td>52</td>\n",
       "      <td>21</td>\n",
       "      <td>1238536800</td>\n",
       "      <td>2009-04-01 01:00:00</td>\n",
       "      <td>(2009, 2)</td>\n",
       "    </tr>\n",
       "    <tr>\n",
       "      <th>4</th>\n",
       "      <td>2</td>\n",
       "      <td>52</td>\n",
       "      <td>41</td>\n",
       "      <td>1238536800</td>\n",
       "      <td>2009-04-01 01:00:00</td>\n",
       "      <td>(2009, 2)</td>\n",
       "    </tr>\n",
       "    <tr>\n",
       "      <th>...</th>\n",
       "      <td>...</td>\n",
       "      <td>...</td>\n",
       "      <td>...</td>\n",
       "      <td>...</td>\n",
       "      <td>...</td>\n",
       "      <td>...</td>\n",
       "    </tr>\n",
       "    <tr>\n",
       "      <th>186474</th>\n",
       "      <td>2100</td>\n",
       "      <td>16437</td>\n",
       "      <td>4</td>\n",
       "      <td>1277935200</td>\n",
       "      <td>2010-07-01 01:00:00</td>\n",
       "      <td>(2010, 3)</td>\n",
       "    </tr>\n",
       "    <tr>\n",
       "      <th>186475</th>\n",
       "      <td>2100</td>\n",
       "      <td>16437</td>\n",
       "      <td>292</td>\n",
       "      <td>1272664800</td>\n",
       "      <td>2010-05-01 01:00:00</td>\n",
       "      <td>(2010, 2)</td>\n",
       "    </tr>\n",
       "    <tr>\n",
       "      <th>186476</th>\n",
       "      <td>2100</td>\n",
       "      <td>16437</td>\n",
       "      <td>2087</td>\n",
       "      <td>1277935200</td>\n",
       "      <td>2010-07-01 01:00:00</td>\n",
       "      <td>(2010, 3)</td>\n",
       "    </tr>\n",
       "    <tr>\n",
       "      <th>186477</th>\n",
       "      <td>2100</td>\n",
       "      <td>16437</td>\n",
       "      <td>2801</td>\n",
       "      <td>1272664800</td>\n",
       "      <td>2010-05-01 01:00:00</td>\n",
       "      <td>(2010, 2)</td>\n",
       "    </tr>\n",
       "    <tr>\n",
       "      <th>186478</th>\n",
       "      <td>2100</td>\n",
       "      <td>16437</td>\n",
       "      <td>3335</td>\n",
       "      <td>1277935200</td>\n",
       "      <td>2010-07-01 01:00:00</td>\n",
       "      <td>(2010, 3)</td>\n",
       "    </tr>\n",
       "  </tbody>\n",
       "</table>\n",
       "<p>186479 rows × 6 columns</p>\n",
       "</div>"
      ],
      "text/plain": [
       "        userID  artistID  tagID   timestamp               date_   quarters\n",
       "0            2        52     13  1238536800 2009-04-01 01:00:00  (2009, 2)\n",
       "1            2        52     15  1238536800 2009-04-01 01:00:00  (2009, 2)\n",
       "2            2        52     18  1238536800 2009-04-01 01:00:00  (2009, 2)\n",
       "3            2        52     21  1238536800 2009-04-01 01:00:00  (2009, 2)\n",
       "4            2        52     41  1238536800 2009-04-01 01:00:00  (2009, 2)\n",
       "...        ...       ...    ...         ...                 ...        ...\n",
       "186474    2100     16437      4  1277935200 2010-07-01 01:00:00  (2010, 3)\n",
       "186475    2100     16437    292  1272664800 2010-05-01 01:00:00  (2010, 2)\n",
       "186476    2100     16437   2087  1277935200 2010-07-01 01:00:00  (2010, 3)\n",
       "186477    2100     16437   2801  1272664800 2010-05-01 01:00:00  (2010, 2)\n",
       "186478    2100     16437   3335  1277935200 2010-07-01 01:00:00  (2010, 3)\n",
       "\n",
       "[186479 rows x 6 columns]"
      ]
     },
     "execution_count": 158,
     "metadata": {},
     "output_type": "execute_result"
    }
   ],
   "source": [
    "user_tags_ts"
   ]
  },
  {
   "cell_type": "code",
   "execution_count": null,
   "id": "95c54392-3dc5-4918-af0d-f4541b03fb6a",
   "metadata": {},
   "outputs": [],
   "source": []
  },
  {
   "cell_type": "code",
   "execution_count": null,
   "id": "76459523-90eb-49a8-98d7-46739a0c470a",
   "metadata": {},
   "outputs": [],
   "source": []
  },
  {
   "cell_type": "code",
   "execution_count": 236,
   "id": "eac37d08-25a7-4471-8a20-571388c47eb4",
   "metadata": {
    "tags": []
   },
   "outputs": [
    {
     "data": {
      "text/plain": [
       "artistID\n",
       "292    132\n",
       "89     127\n",
       "289    103\n",
       "288     93\n",
       "344     90\n",
       "Name: artistID, dtype: int64"
      ]
     },
     "execution_count": 236,
     "metadata": {},
     "output_type": "execute_result"
    }
   ],
   "source": [
    "# example of how we approach the problem of finding the top 5 most prevalent artists in a given quarter\n",
    "unique_quarters = list(set(quarters))\n",
    "q = unique_quarters[5]\n",
    "# for a given quarter, we find all corresponding rows/records of the dataframe; then, we count the no of occurrence of \n",
    "# each artist; finally, we sort that resulting series in descending order by the no of occurrences, and select only the top \n",
    "# 5 artists\n",
    "temp = user_tags_ts['artistID'][user_tags_ts['quarters'] == q].groupby(user_tags_ts['artistID']).count()\n",
    "temp.sort_values(ascending=False)[:5]\n",
    "# the series has artistID as indexes and their count of occurrence as values"
   ]
  },
  {
   "cell_type": "code",
   "execution_count": null,
   "id": "3ab4d28c-245f-4590-b550-81053745ab5e",
   "metadata": {},
   "outputs": [],
   "source": [
    "# It might be the case for some quarters that there were less than 5 artists that got assigned a tag; in that case, \n",
    "# we'll create a series of length 5, filling the blanks with NaN values."
   ]
  },
  {
   "cell_type": "code",
   "execution_count": null,
   "id": "5c7d99da-b3cc-4d1b-a384-4b9756672cd2",
   "metadata": {},
   "outputs": [],
   "source": [
    "# We add the (quarter, list_of_top_5_artists) pairs in a dedicated list, called 'top_artists'."
   ]
  },
  {
   "cell_type": "code",
   "execution_count": null,
   "id": "8696a6f3-c176-409f-a909-eff8d75fde13",
   "metadata": {},
   "outputs": [],
   "source": [
    "# Then, we want to extract 3 lists out of the 'top_artists' pd.Series object; the quarters (5 times each), the ids of the top 5 artists in each \n",
    "# quarter, and the frequencies of those artists in each quarter."
   ]
  },
  {
   "cell_type": "code",
   "execution_count": null,
   "id": "7d4636c2-0290-44c5-854b-f581d635e84f",
   "metadata": {},
   "outputs": [],
   "source": [
    "# We build a dataframe using those lists, and drop rows with NaN values (which correspond to quarters in which we didn't have\n",
    "# tags assigned to as many as 5 artists)"
   ]
  },
  {
   "cell_type": "code",
   "execution_count": null,
   "id": "a35fcf0c-7267-4050-9a93-8979002901e6",
   "metadata": {},
   "outputs": [],
   "source": [
    "# The final result is a dataframe showing each quarter, and then, in descending order (by their frequency) it shows \n",
    "# the top artistID values and their corresponding freqs"
   ]
  },
  {
   "cell_type": "code",
   "execution_count": null,
   "id": "33b36593-14fc-4b6a-b4aa-3ca2b2bcd0bc",
   "metadata": {},
   "outputs": [],
   "source": []
  },
  {
   "cell_type": "code",
   "execution_count": 237,
   "id": "ac95abcb-4955-40f3-828d-d150c3285d73",
   "metadata": {
    "tags": []
   },
   "outputs": [],
   "source": [
    "# I'll create series objects of length = 5 for each quarter, and then I'll join them into a single df for each sub-question\n",
    "top_artists = [] \n",
    "unique_quarters = list(set(quarters))\n",
    "unique_quarters.sort(reverse=False)\n",
    "unique_quarters\n",
    "for i in range(len(unique_quarters)):\n",
    "    q = unique_quarters[i]\n",
    "    temp = user_tags_ts['artistID'][user_tags_ts['quarters'] == q].groupby(user_tags_ts['artistID']).count().sort_values(ascending=False)[:5]\n",
    "    if len(temp) != 5:\n",
    "        nan_series = pd.Series([0 for i in range(5-len(temp))],\n",
    "                              index = [-1 for i in range(5-len(temp))])\n",
    "        fin = pd.concat([temp, nan_series])\n",
    "    else:\n",
    "        fin = temp\n",
    "    top_artists.append([q, fin])"
   ]
  },
  {
   "cell_type": "code",
   "execution_count": 241,
   "id": "34813b52-ef9d-4951-99a2-62278cace40f",
   "metadata": {
    "tags": []
   },
   "outputs": [],
   "source": [
    "top_5_ids = [t[1].index for t in top_artists]\n",
    "final_ids = list(top_5_ids[0])\n",
    "for sublist in top_5_ids[1:]:\n",
    "    final_ids = final_ids + list(sublist)"
   ]
  },
  {
   "cell_type": "code",
   "execution_count": 224,
   "id": "cf802182-b8a3-4c04-a577-593c6823a410",
   "metadata": {
    "tags": []
   },
   "outputs": [],
   "source": [
    "top_5_freqs = [t[1].values for t in top_artists]\n",
    "final_freqs = list(top_5_freqs[0])\n",
    "for sublist in top_5_freqs[1:]:\n",
    "    final_freqs = final_freqs + list(sublist)"
   ]
  },
  {
   "cell_type": "code",
   "execution_count": 225,
   "id": "462d807c-2252-4151-8c90-502a8f48417a",
   "metadata": {
    "tags": []
   },
   "outputs": [],
   "source": [
    "qq_col = [[q for i in range(5)] for q in unique_quarters]\n",
    "final_quarters_col = []\n",
    "for sublist in qq_col:\n",
    "    final_quarters_col += sublist"
   ]
  },
  {
   "cell_type": "code",
   "execution_count": 252,
   "id": "17fe297b-aa7e-452a-a9ef-10f20cf9e285",
   "metadata": {
    "tags": []
   },
   "outputs": [
    {
     "data": {
      "text/html": [
       "<div>\n",
       "<style scoped>\n",
       "    .dataframe tbody tr th:only-of-type {\n",
       "        vertical-align: middle;\n",
       "    }\n",
       "\n",
       "    .dataframe tbody tr th {\n",
       "        vertical-align: top;\n",
       "    }\n",
       "\n",
       "    .dataframe thead th {\n",
       "        text-align: right;\n",
       "    }\n",
       "</style>\n",
       "<table border=\"1\" class=\"dataframe\">\n",
       "  <thead>\n",
       "    <tr style=\"text-align: right;\">\n",
       "      <th></th>\n",
       "      <th>quarter</th>\n",
       "      <th>artist_id</th>\n",
       "      <th>freq</th>\n",
       "    </tr>\n",
       "  </thead>\n",
       "  <tbody>\n",
       "    <tr>\n",
       "      <th>0</th>\n",
       "      <td>(1956, 2)</td>\n",
       "      <td>39</td>\n",
       "      <td>1.0</td>\n",
       "    </tr>\n",
       "    <tr>\n",
       "      <th>5</th>\n",
       "      <td>(1956, 3)</td>\n",
       "      <td>103</td>\n",
       "      <td>1.0</td>\n",
       "    </tr>\n",
       "    <tr>\n",
       "      <th>6</th>\n",
       "      <td>(1956, 3)</td>\n",
       "      <td>37</td>\n",
       "      <td>1.0</td>\n",
       "    </tr>\n",
       "    <tr>\n",
       "      <th>10</th>\n",
       "      <td>(1957, 1)</td>\n",
       "      <td>-62</td>\n",
       "      <td>1.0</td>\n",
       "    </tr>\n",
       "    <tr>\n",
       "      <th>15</th>\n",
       "      <td>(1979, 2)</td>\n",
       "      <td>55</td>\n",
       "      <td>1.0</td>\n",
       "    </tr>\n",
       "    <tr>\n",
       "      <th>...</th>\n",
       "      <td>...</td>\n",
       "      <td>...</td>\n",
       "      <td>...</td>\n",
       "    </tr>\n",
       "    <tr>\n",
       "      <th>135</th>\n",
       "      <td>(2011, 2)</td>\n",
       "      <td>73</td>\n",
       "      <td>144.0</td>\n",
       "    </tr>\n",
       "    <tr>\n",
       "      <th>136</th>\n",
       "      <td>(2011, 2)</td>\n",
       "      <td>18</td>\n",
       "      <td>126.0</td>\n",
       "    </tr>\n",
       "    <tr>\n",
       "      <th>137</th>\n",
       "      <td>(2011, 2)</td>\n",
       "      <td>24</td>\n",
       "      <td>104.0</td>\n",
       "    </tr>\n",
       "    <tr>\n",
       "      <th>138</th>\n",
       "      <td>(2011, 2)</td>\n",
       "      <td>79</td>\n",
       "      <td>89.0</td>\n",
       "    </tr>\n",
       "    <tr>\n",
       "      <th>139</th>\n",
       "      <td>(2011, 2)</td>\n",
       "      <td>81</td>\n",
       "      <td>74.0</td>\n",
       "    </tr>\n",
       "  </tbody>\n",
       "</table>\n",
       "<p>125 rows × 3 columns</p>\n",
       "</div>"
      ],
      "text/plain": [
       "       quarter  artist_id   freq\n",
       "0    (1956, 2)         39    1.0\n",
       "5    (1956, 3)        103    1.0\n",
       "6    (1956, 3)         37    1.0\n",
       "10   (1957, 1)        -62    1.0\n",
       "15   (1979, 2)         55    1.0\n",
       "..         ...        ...    ...\n",
       "135  (2011, 2)         73  144.0\n",
       "136  (2011, 2)         18  126.0\n",
       "137  (2011, 2)         24  104.0\n",
       "138  (2011, 2)         79   89.0\n",
       "139  (2011, 2)         81   74.0\n",
       "\n",
       "[125 rows x 3 columns]"
      ]
     },
     "execution_count": 252,
     "metadata": {},
     "output_type": "execute_result"
    }
   ],
   "source": [
    "res_artists = pd.DataFrame([final_quarters_col, final_ids, final_freqs]).T\n",
    "res_artists.columns = ['quarter', 'artist_id', 'freq']\n",
    "res_artists['artist_id'] = res_artists['artist_id'].replace(-1, np.nan)\n",
    "res_artists['freq'] = res_artists['freq'].replace(0, np.nan)\n",
    "res_artists.dropna(how='any', axis=0, inplace=True)\n",
    "res_artists['artist_id'] = res_artists['artist_id'].astype('int8')\n",
    "res_artists.sort_values(by=['quarter', 'freq'], ascending=[True,False])"
   ]
  },
  {
   "cell_type": "code",
   "execution_count": 244,
   "id": "255711cd-43dd-4f44-9f29-7039e7e25978",
   "metadata": {
    "tags": []
   },
   "outputs": [],
   "source": [
    "# I'll create series objects of length = 5 for each quarter, and then I'll join them into a single df for each sub-question\n",
    "top_tags = [] \n",
    "unique_quarters = list(set(quarters))\n",
    "unique_quarters.sort(reverse=False)\n",
    "#unique_quarters\n",
    "for i in range(len(unique_quarters)):\n",
    "    q = unique_quarters[i]\n",
    "    temp = user_tags_ts['tagID'][user_tags_ts['quarters'] == q].groupby(user_tags_ts['tagID']).count().sort_values(ascending=False)[:5]\n",
    "    if len(temp) != 5:\n",
    "        nan_series = pd.Series([0 for i in range(5-len(temp))],\n",
    "                              index = [-1 for i in range(5-len(temp))])\n",
    "        fin = pd.concat([temp, nan_series])\n",
    "    else:\n",
    "        fin = temp\n",
    "    top_tags.append([q, fin])"
   ]
  },
  {
   "cell_type": "code",
   "execution_count": 245,
   "id": "fc2e15be-180f-4a13-aa02-1008bec3904d",
   "metadata": {
    "tags": []
   },
   "outputs": [],
   "source": [
    "top_5_ids = [t[1].index for t in top_tags]\n",
    "final_ids = list(top_5_ids[0])\n",
    "for sublist in top_5_ids[1:]:\n",
    "    final_ids = final_ids + list(sublist)"
   ]
  },
  {
   "cell_type": "code",
   "execution_count": 246,
   "id": "4293a3ce-e99d-4bc4-9189-5061861607d2",
   "metadata": {
    "tags": []
   },
   "outputs": [],
   "source": [
    "top_5_freqs = [t[1].values for t in top_tags]\n",
    "final_freqs = list(top_5_freqs[0])\n",
    "for sublist in top_5_freqs[1:]:\n",
    "    final_freqs = final_freqs + list(sublist)"
   ]
  },
  {
   "cell_type": "code",
   "execution_count": 247,
   "id": "112ce4e8-26d6-4a89-9f3a-95b6be4fbd30",
   "metadata": {
    "tags": []
   },
   "outputs": [],
   "source": [
    "qq_col = [[q for i in range(5)] for q in unique_quarters]\n",
    "final_quarters_col = []\n",
    "for sublist in qq_col:\n",
    "    final_quarters_col += sublist"
   ]
  },
  {
   "cell_type": "code",
   "execution_count": 251,
   "id": "784cf635-b6e5-4ea9-8fe7-8d340267b892",
   "metadata": {
    "tags": []
   },
   "outputs": [
    {
     "data": {
      "text/html": [
       "<div>\n",
       "<style scoped>\n",
       "    .dataframe tbody tr th:only-of-type {\n",
       "        vertical-align: middle;\n",
       "    }\n",
       "\n",
       "    .dataframe tbody tr th {\n",
       "        vertical-align: top;\n",
       "    }\n",
       "\n",
       "    .dataframe thead th {\n",
       "        text-align: right;\n",
       "    }\n",
       "</style>\n",
       "<table border=\"1\" class=\"dataframe\">\n",
       "  <thead>\n",
       "    <tr style=\"text-align: right;\">\n",
       "      <th></th>\n",
       "      <th>quarter</th>\n",
       "      <th>tag_id</th>\n",
       "      <th>freq</th>\n",
       "    </tr>\n",
       "  </thead>\n",
       "  <tbody>\n",
       "    <tr>\n",
       "      <th>0</th>\n",
       "      <td>(1956, 2)</td>\n",
       "      <td>39</td>\n",
       "      <td>1.0</td>\n",
       "    </tr>\n",
       "    <tr>\n",
       "      <th>5</th>\n",
       "      <td>(1956, 3)</td>\n",
       "      <td>103</td>\n",
       "      <td>1.0</td>\n",
       "    </tr>\n",
       "    <tr>\n",
       "      <th>6</th>\n",
       "      <td>(1956, 3)</td>\n",
       "      <td>37</td>\n",
       "      <td>1.0</td>\n",
       "    </tr>\n",
       "    <tr>\n",
       "      <th>10</th>\n",
       "      <td>(1957, 1)</td>\n",
       "      <td>-62</td>\n",
       "      <td>1.0</td>\n",
       "    </tr>\n",
       "    <tr>\n",
       "      <th>15</th>\n",
       "      <td>(1979, 2)</td>\n",
       "      <td>55</td>\n",
       "      <td>1.0</td>\n",
       "    </tr>\n",
       "    <tr>\n",
       "      <th>...</th>\n",
       "      <td>...</td>\n",
       "      <td>...</td>\n",
       "      <td>...</td>\n",
       "    </tr>\n",
       "    <tr>\n",
       "      <th>135</th>\n",
       "      <td>(2011, 2)</td>\n",
       "      <td>73</td>\n",
       "      <td>144.0</td>\n",
       "    </tr>\n",
       "    <tr>\n",
       "      <th>136</th>\n",
       "      <td>(2011, 2)</td>\n",
       "      <td>18</td>\n",
       "      <td>126.0</td>\n",
       "    </tr>\n",
       "    <tr>\n",
       "      <th>137</th>\n",
       "      <td>(2011, 2)</td>\n",
       "      <td>24</td>\n",
       "      <td>104.0</td>\n",
       "    </tr>\n",
       "    <tr>\n",
       "      <th>138</th>\n",
       "      <td>(2011, 2)</td>\n",
       "      <td>79</td>\n",
       "      <td>89.0</td>\n",
       "    </tr>\n",
       "    <tr>\n",
       "      <th>139</th>\n",
       "      <td>(2011, 2)</td>\n",
       "      <td>81</td>\n",
       "      <td>74.0</td>\n",
       "    </tr>\n",
       "  </tbody>\n",
       "</table>\n",
       "<p>125 rows × 3 columns</p>\n",
       "</div>"
      ],
      "text/plain": [
       "       quarter  tag_id   freq\n",
       "0    (1956, 2)      39    1.0\n",
       "5    (1956, 3)     103    1.0\n",
       "6    (1956, 3)      37    1.0\n",
       "10   (1957, 1)     -62    1.0\n",
       "15   (1979, 2)      55    1.0\n",
       "..         ...     ...    ...\n",
       "135  (2011, 2)      73  144.0\n",
       "136  (2011, 2)      18  126.0\n",
       "137  (2011, 2)      24  104.0\n",
       "138  (2011, 2)      79   89.0\n",
       "139  (2011, 2)      81   74.0\n",
       "\n",
       "[125 rows x 3 columns]"
      ]
     },
     "execution_count": 251,
     "metadata": {},
     "output_type": "execute_result"
    }
   ],
   "source": [
    "res_tags = pd.DataFrame([final_quarters_col, final_ids, final_freqs]).T\n",
    "res_tags.columns = ['quarter', 'tag_id', 'freq']\n",
    "res_tags['tag_id'] = res_tags['tag_id'].replace(-1, np.nan)\n",
    "res_tags['freq'] = res_tags['freq'].replace(0, np.nan)\n",
    "res_tags.dropna(how='any', axis=0, inplace=True)\n",
    "res_tags['tag_id'] = res_tags['tag_id'].astype('int8')\n",
    "res_tags.sort_values(by=['quarter', 'freq'], ascending=[True,False])"
   ]
  },
  {
   "cell_type": "code",
   "execution_count": 253,
   "id": "348fbf4f-40ea-4e12-972c-f426616c7bbb",
   "metadata": {
    "tags": []
   },
   "outputs": [
    {
     "data": {
      "text/html": [
       "<div>\n",
       "<style scoped>\n",
       "    .dataframe tbody tr th:only-of-type {\n",
       "        vertical-align: middle;\n",
       "    }\n",
       "\n",
       "    .dataframe tbody tr th {\n",
       "        vertical-align: top;\n",
       "    }\n",
       "\n",
       "    .dataframe thead th {\n",
       "        text-align: right;\n",
       "    }\n",
       "</style>\n",
       "<table border=\"1\" class=\"dataframe\">\n",
       "  <thead>\n",
       "    <tr style=\"text-align: right;\">\n",
       "      <th></th>\n",
       "      <th>quarter</th>\n",
       "      <th>tag_id</th>\n",
       "      <th>freq</th>\n",
       "    </tr>\n",
       "  </thead>\n",
       "  <tbody>\n",
       "    <tr>\n",
       "      <th>0</th>\n",
       "      <td>(1956, 2)</td>\n",
       "      <td>39</td>\n",
       "      <td>1.0</td>\n",
       "    </tr>\n",
       "  </tbody>\n",
       "</table>\n",
       "</div>"
      ],
      "text/plain": [
       "     quarter  tag_id  freq\n",
       "0  (1956, 2)      39   1.0"
      ]
     },
     "execution_count": 253,
     "metadata": {},
     "output_type": "execute_result"
    }
   ],
   "source": [
    "# now, if I select the rows of a specific quarter, I'll see the top 5 tag_ids (or less, if we had less than 5 tags used in \n",
    "# that quarter) with their freq\n",
    "res_tags[res_tags['quarter'] == (1956,2)]"
   ]
  },
  {
   "cell_type": "code",
   "execution_count": 271,
   "id": "25d8a805-4a7c-44d4-a0c7-764f8c4636ad",
   "metadata": {
    "tags": []
   },
   "outputs": [],
   "source": []
  },
  {
   "cell_type": "code",
   "execution_count": null,
   "id": "ed00a49f-c9e3-4e15-a93c-96a7cae2563a",
   "metadata": {},
   "outputs": [],
   "source": [
    "# IT WOULD BE GOOD IF I JOINED THE ABOVE WITH artists_info and tags_info tables so that i don;t just have the ids, but \n",
    "# I also get the tag value / artist name. (???)"
   ]
  }
 ],
 "metadata": {
  "kernelspec": {
   "display_name": "Python 3 (ipykernel)",
   "language": "python",
   "name": "python3"
  },
  "language_info": {
   "codemirror_mode": {
    "name": "ipython",
    "version": 3
   },
   "file_extension": ".py",
   "mimetype": "text/x-python",
   "name": "python",
   "nbconvert_exporter": "python",
   "pygments_lexer": "ipython3",
   "version": "3.11.4"
  }
 },
 "nbformat": 4,
 "nbformat_minor": 5
}
