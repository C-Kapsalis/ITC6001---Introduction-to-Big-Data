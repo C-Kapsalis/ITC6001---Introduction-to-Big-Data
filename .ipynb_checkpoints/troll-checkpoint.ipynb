{
 "cells": [
  {
   "cell_type": "code",
   "execution_count": 63,
   "id": "cb7fe7fc-32d7-4e83-b628-4b1f46690a34",
   "metadata": {
    "tags": []
   },
   "outputs": [],
   "source": [
    "import numpy as np\n",
    "import pandas as pd \n",
    "import datetime"
   ]
  },
  {
   "cell_type": "code",
   "execution_count": 64,
   "id": "e0bbb6fe-c2bb-4c62-a8ca-7f31dd301cb8",
   "metadata": {
    "tags": []
   },
   "outputs": [],
   "source": [
    "data = pd.read_csv('data.csv', sep=',', encoding=None, header=0)"
   ]
  },
  {
   "cell_type": "code",
   "execution_count": 65,
   "id": "52a8aaf1-88c0-4bba-a1cb-3ef80668a626",
   "metadata": {
    "tags": []
   },
   "outputs": [
    {
     "data": {
      "text/html": [
       "<div>\n",
       "<style scoped>\n",
       "    .dataframe tbody tr th:only-of-type {\n",
       "        vertical-align: middle;\n",
       "    }\n",
       "\n",
       "    .dataframe tbody tr th {\n",
       "        vertical-align: top;\n",
       "    }\n",
       "\n",
       "    .dataframe thead th {\n",
       "        text-align: right;\n",
       "    }\n",
       "</style>\n",
       "<table border=\"1\" class=\"dataframe\">\n",
       "  <thead>\n",
       "    <tr style=\"text-align: right;\">\n",
       "      <th></th>\n",
       "      <th>dateRep</th>\n",
       "      <th>day</th>\n",
       "      <th>month</th>\n",
       "      <th>year</th>\n",
       "      <th>cases</th>\n",
       "      <th>deaths</th>\n",
       "      <th>countriesAndTerritories</th>\n",
       "      <th>geoId</th>\n",
       "      <th>countryterritoryCode</th>\n",
       "      <th>popData2020</th>\n",
       "      <th>continentExp</th>\n",
       "    </tr>\n",
       "  </thead>\n",
       "  <tbody>\n",
       "    <tr>\n",
       "      <th>0</th>\n",
       "      <td>23/10/2022</td>\n",
       "      <td>23</td>\n",
       "      <td>10</td>\n",
       "      <td>2022</td>\n",
       "      <td>3557.0</td>\n",
       "      <td>0.0</td>\n",
       "      <td>Austria</td>\n",
       "      <td>AT</td>\n",
       "      <td>AUT</td>\n",
       "      <td>8901064</td>\n",
       "      <td>Europe</td>\n",
       "    </tr>\n",
       "    <tr>\n",
       "      <th>1</th>\n",
       "      <td>22/10/2022</td>\n",
       "      <td>22</td>\n",
       "      <td>10</td>\n",
       "      <td>2022</td>\n",
       "      <td>5494.0</td>\n",
       "      <td>4.0</td>\n",
       "      <td>Austria</td>\n",
       "      <td>AT</td>\n",
       "      <td>AUT</td>\n",
       "      <td>8901064</td>\n",
       "      <td>Europe</td>\n",
       "    </tr>\n",
       "    <tr>\n",
       "      <th>2</th>\n",
       "      <td>21/10/2022</td>\n",
       "      <td>21</td>\n",
       "      <td>10</td>\n",
       "      <td>2022</td>\n",
       "      <td>7776.0</td>\n",
       "      <td>4.0</td>\n",
       "      <td>Austria</td>\n",
       "      <td>AT</td>\n",
       "      <td>AUT</td>\n",
       "      <td>8901064</td>\n",
       "      <td>Europe</td>\n",
       "    </tr>\n",
       "    <tr>\n",
       "      <th>3</th>\n",
       "      <td>20/10/2022</td>\n",
       "      <td>20</td>\n",
       "      <td>10</td>\n",
       "      <td>2022</td>\n",
       "      <td>8221.0</td>\n",
       "      <td>6.0</td>\n",
       "      <td>Austria</td>\n",
       "      <td>AT</td>\n",
       "      <td>AUT</td>\n",
       "      <td>8901064</td>\n",
       "      <td>Europe</td>\n",
       "    </tr>\n",
       "    <tr>\n",
       "      <th>4</th>\n",
       "      <td>19/10/2022</td>\n",
       "      <td>19</td>\n",
       "      <td>10</td>\n",
       "      <td>2022</td>\n",
       "      <td>10007.0</td>\n",
       "      <td>8.0</td>\n",
       "      <td>Austria</td>\n",
       "      <td>AT</td>\n",
       "      <td>AUT</td>\n",
       "      <td>8901064</td>\n",
       "      <td>Europe</td>\n",
       "    </tr>\n",
       "  </tbody>\n",
       "</table>\n",
       "</div>"
      ],
      "text/plain": [
       "      dateRep  day  month  year    cases  deaths countriesAndTerritories  \\\n",
       "0  23/10/2022   23     10  2022   3557.0     0.0                 Austria   \n",
       "1  22/10/2022   22     10  2022   5494.0     4.0                 Austria   \n",
       "2  21/10/2022   21     10  2022   7776.0     4.0                 Austria   \n",
       "3  20/10/2022   20     10  2022   8221.0     6.0                 Austria   \n",
       "4  19/10/2022   19     10  2022  10007.0     8.0                 Austria   \n",
       "\n",
       "  geoId countryterritoryCode  popData2020 continentExp  \n",
       "0    AT                  AUT      8901064       Europe  \n",
       "1    AT                  AUT      8901064       Europe  \n",
       "2    AT                  AUT      8901064       Europe  \n",
       "3    AT                  AUT      8901064       Europe  \n",
       "4    AT                  AUT      8901064       Europe  "
      ]
     },
     "execution_count": 65,
     "metadata": {},
     "output_type": "execute_result"
    }
   ],
   "source": [
    "data.head()"
   ]
  },
  {
   "cell_type": "code",
   "execution_count": 66,
   "id": "c095c9dc-f9e5-4608-bacd-e1b17ac9e2e5",
   "metadata": {
    "tags": []
   },
   "outputs": [],
   "source": [
    "data['dateRep'] = pd.to_datetime(data['dateRep'], format='%d/%m/%Y')"
   ]
  },
  {
   "cell_type": "code",
   "execution_count": 67,
   "id": "15136e12-2a7c-4102-86de-3665fd31fb0e",
   "metadata": {
    "tags": []
   },
   "outputs": [
    {
     "data": {
      "text/plain": [
       "Timestamp('2020-01-01 00:00:00')"
      ]
     },
     "execution_count": 67,
     "metadata": {},
     "output_type": "execute_result"
    }
   ],
   "source": [
    "data['dateRep'].min()"
   ]
  },
  {
   "cell_type": "code",
   "execution_count": 68,
   "id": "d0942286-743a-49e4-8f6d-8e4d2b8bd1d4",
   "metadata": {
    "tags": []
   },
   "outputs": [
    {
     "data": {
      "text/plain": [
       "Timestamp('2022-10-26 00:00:00')"
      ]
     },
     "execution_count": 68,
     "metadata": {},
     "output_type": "execute_result"
    }
   ],
   "source": [
    "data['dateRep'].max()"
   ]
  },
  {
   "cell_type": "code",
   "execution_count": 69,
   "id": "b70e5f3d-46d3-4a75-9444-979768ece5a5",
   "metadata": {
    "tags": []
   },
   "outputs": [],
   "source": [
    "data['popData2020'] = data['popData2020'].astype('int64')"
   ]
  },
  {
   "cell_type": "code",
   "execution_count": 70,
   "id": "295b1e06-1512-4df6-a5b4-108fe8f5d6a5",
   "metadata": {
    "tags": []
   },
   "outputs": [
    {
     "data": {
      "text/plain": [
       "38747"
      ]
     },
     "execution_count": 70,
     "metadata": {},
     "output_type": "execute_result"
    }
   ],
   "source": [
    "data['popData2020'].min()"
   ]
  },
  {
   "cell_type": "code",
   "execution_count": 71,
   "id": "c7268420-d846-461e-a746-a51deaea61b5",
   "metadata": {
    "tags": []
   },
   "outputs": [
    {
     "data": {
      "text/plain": [
       "83166711"
      ]
     },
     "execution_count": 71,
     "metadata": {},
     "output_type": "execute_result"
    }
   ],
   "source": [
    "data['popData2020'].max()"
   ]
  },
  {
   "cell_type": "code",
   "execution_count": 72,
   "id": "4abaef1d-6fe3-4896-903b-5313b3c7dbea",
   "metadata": {
    "tags": []
   },
   "outputs": [
    {
     "data": {
      "text/plain": [
       "15348034.79"
      ]
     },
     "execution_count": 72,
     "metadata": {},
     "output_type": "execute_result"
    }
   ],
   "source": [
    "round(data['popData2020'].mean(), 2)"
   ]
  },
  {
   "cell_type": "code",
   "execution_count": 73,
   "id": "b6136982-090f-4c17-a28a-011db6b8875f",
   "metadata": {
    "tags": []
   },
   "outputs": [
    {
     "data": {
      "text/html": [
       "<div>\n",
       "<style scoped>\n",
       "    .dataframe tbody tr th:only-of-type {\n",
       "        vertical-align: middle;\n",
       "    }\n",
       "\n",
       "    .dataframe tbody tr th {\n",
       "        vertical-align: top;\n",
       "    }\n",
       "\n",
       "    .dataframe thead th {\n",
       "        text-align: right;\n",
       "    }\n",
       "</style>\n",
       "<table border=\"1\" class=\"dataframe\">\n",
       "  <thead>\n",
       "    <tr style=\"text-align: right;\">\n",
       "      <th></th>\n",
       "      <th>countriesAndTerritories</th>\n",
       "      <th>popData2020</th>\n",
       "    </tr>\n",
       "  </thead>\n",
       "  <tbody>\n",
       "    <tr>\n",
       "      <th>17085</th>\n",
       "      <td>Liechtenstein</td>\n",
       "      <td>38747</td>\n",
       "    </tr>\n",
       "    <tr>\n",
       "      <th>13067</th>\n",
       "      <td>Iceland</td>\n",
       "      <td>364134</td>\n",
       "    </tr>\n",
       "    <tr>\n",
       "      <th>19879</th>\n",
       "      <td>Malta</td>\n",
       "      <td>514564</td>\n",
       "    </tr>\n",
       "    <tr>\n",
       "      <th>19071</th>\n",
       "      <td>Luxembourg</td>\n",
       "      <td>626108</td>\n",
       "    </tr>\n",
       "    <tr>\n",
       "      <th>4342</th>\n",
       "      <td>Cyprus</td>\n",
       "      <td>888005</td>\n",
       "    </tr>\n",
       "    <tr>\n",
       "      <th>6801</th>\n",
       "      <td>Estonia</td>\n",
       "      <td>1328976</td>\n",
       "    </tr>\n",
       "    <tr>\n",
       "      <th>15610</th>\n",
       "      <td>Latvia</td>\n",
       "      <td>1907675</td>\n",
       "    </tr>\n",
       "    <tr>\n",
       "      <th>26531</th>\n",
       "      <td>Slovenia</td>\n",
       "      <td>2095861</td>\n",
       "    </tr>\n",
       "    <tr>\n",
       "      <th>17955</th>\n",
       "      <td>Lithuania</td>\n",
       "      <td>2794090</td>\n",
       "    </tr>\n",
       "    <tr>\n",
       "      <th>3470</th>\n",
       "      <td>Croatia</td>\n",
       "      <td>4058165</td>\n",
       "    </tr>\n",
       "    <tr>\n",
       "      <th>13346</th>\n",
       "      <td>Ireland</td>\n",
       "      <td>4964440</td>\n",
       "    </tr>\n",
       "    <tr>\n",
       "      <th>21556</th>\n",
       "      <td>Norway</td>\n",
       "      <td>5367580</td>\n",
       "    </tr>\n",
       "    <tr>\n",
       "      <th>24910</th>\n",
       "      <td>Slovakia</td>\n",
       "      <td>5457873</td>\n",
       "    </tr>\n",
       "    <tr>\n",
       "      <th>8253</th>\n",
       "      <td>Finland</td>\n",
       "      <td>5525292</td>\n",
       "    </tr>\n",
       "    <tr>\n",
       "      <th>5977</th>\n",
       "      <td>Denmark</td>\n",
       "      <td>5822763</td>\n",
       "    </tr>\n",
       "    <tr>\n",
       "      <th>2868</th>\n",
       "      <td>Bulgaria</td>\n",
       "      <td>6951482</td>\n",
       "    </tr>\n",
       "    <tr>\n",
       "      <th>320</th>\n",
       "      <td>Austria</td>\n",
       "      <td>8901064</td>\n",
       "    </tr>\n",
       "    <tr>\n",
       "      <th>11733</th>\n",
       "      <td>Hungary</td>\n",
       "      <td>9769526</td>\n",
       "    </tr>\n",
       "    <tr>\n",
       "      <th>23233</th>\n",
       "      <td>Portugal</td>\n",
       "      <td>10295909</td>\n",
       "    </tr>\n",
       "    <tr>\n",
       "      <th>28725</th>\n",
       "      <td>Sweden</td>\n",
       "      <td>10327589</td>\n",
       "    </tr>\n",
       "    <tr>\n",
       "      <th>5669</th>\n",
       "      <td>Czechia</td>\n",
       "      <td>10693939</td>\n",
       "    </tr>\n",
       "    <tr>\n",
       "      <th>11538</th>\n",
       "      <td>Greece</td>\n",
       "      <td>10718565</td>\n",
       "    </tr>\n",
       "    <tr>\n",
       "      <th>1641</th>\n",
       "      <td>Belgium</td>\n",
       "      <td>11522440</td>\n",
       "    </tr>\n",
       "    <tr>\n",
       "      <th>20126</th>\n",
       "      <td>Netherlands</td>\n",
       "      <td>17407585</td>\n",
       "    </tr>\n",
       "    <tr>\n",
       "      <th>24225</th>\n",
       "      <td>Romania</td>\n",
       "      <td>19328838</td>\n",
       "    </tr>\n",
       "    <tr>\n",
       "      <th>22391</th>\n",
       "      <td>Poland</td>\n",
       "      <td>37958138</td>\n",
       "    </tr>\n",
       "    <tr>\n",
       "      <th>27704</th>\n",
       "      <td>Spain</td>\n",
       "      <td>47332614</td>\n",
       "    </tr>\n",
       "    <tr>\n",
       "      <th>15272</th>\n",
       "      <td>Italy</td>\n",
       "      <td>59641488</td>\n",
       "    </tr>\n",
       "    <tr>\n",
       "      <th>9594</th>\n",
       "      <td>France</td>\n",
       "      <td>67320216</td>\n",
       "    </tr>\n",
       "    <tr>\n",
       "      <th>10590</th>\n",
       "      <td>Germany</td>\n",
       "      <td>83166711</td>\n",
       "    </tr>\n",
       "  </tbody>\n",
       "</table>\n",
       "</div>"
      ],
      "text/plain": [
       "      countriesAndTerritories  popData2020\n",
       "17085           Liechtenstein        38747\n",
       "13067                 Iceland       364134\n",
       "19879                   Malta       514564\n",
       "19071              Luxembourg       626108\n",
       "4342                   Cyprus       888005\n",
       "6801                  Estonia      1328976\n",
       "15610                  Latvia      1907675\n",
       "26531                Slovenia      2095861\n",
       "17955               Lithuania      2794090\n",
       "3470                  Croatia      4058165\n",
       "13346                 Ireland      4964440\n",
       "21556                  Norway      5367580\n",
       "24910                Slovakia      5457873\n",
       "8253                  Finland      5525292\n",
       "5977                  Denmark      5822763\n",
       "2868                 Bulgaria      6951482\n",
       "320                   Austria      8901064\n",
       "11733                 Hungary      9769526\n",
       "23233                Portugal     10295909\n",
       "28725                  Sweden     10327589\n",
       "5669                  Czechia     10693939\n",
       "11538                  Greece     10718565\n",
       "1641                  Belgium     11522440\n",
       "20126             Netherlands     17407585\n",
       "24225                 Romania     19328838\n",
       "22391                  Poland     37958138\n",
       "27704                   Spain     47332614\n",
       "15272                   Italy     59641488\n",
       "9594                   France     67320216\n",
       "10590                 Germany     83166711"
      ]
     },
     "execution_count": 73,
     "metadata": {},
     "output_type": "execute_result"
    }
   ],
   "source": [
    "data[['countriesAndTerritories','popData2020']].sort_values('popData2020').drop_duplicates()"
   ]
  },
  {
   "cell_type": "code",
   "execution_count": 74,
   "id": "ed152ff1-63ad-4f08-b9aa-40636623f154",
   "metadata": {
    "tags": []
   },
   "outputs": [
    {
     "name": "stdout",
     "output_type": "stream",
     "text": [
      "25th percentile: 2095861, 75th percentile: 11522440\n"
     ]
    }
   ],
   "source": [
    "# finding the middle 50% of the population sizes in our dataset\n",
    "q1 = data['popData2020'].quantile(q=0.25)\n",
    "q3 = data['popData2020'].quantile(q=0.75)\n",
    "print(f'25th percentile: {int(q1)}, 75th percentile: {int(q3)}')"
   ]
  },
  {
   "cell_type": "code",
   "execution_count": 75,
   "id": "babc92c1-9d9d-49e0-935f-0e73f081eae5",
   "metadata": {
    "tags": []
   },
   "outputs": [],
   "source": [
    "res_countries = data[['countriesAndTerritories','popData2020']][data['popData2020'].between(q1,q3)].drop_duplicates()"
   ]
  },
  {
   "cell_type": "code",
   "execution_count": 76,
   "id": "c0d96ac4-83b6-4321-ada7-2eaa8f4837ca",
   "metadata": {
    "tags": []
   },
   "outputs": [
    {
     "data": {
      "text/plain": [
       "16"
      ]
     },
     "execution_count": 76,
     "metadata": {},
     "output_type": "execute_result"
    }
   ],
   "source": [
    "res_countries.shape[0]"
   ]
  },
  {
   "cell_type": "code",
   "execution_count": 77,
   "id": "20a82386-ae1d-466d-869c-fd2de0161087",
   "metadata": {
    "tags": []
   },
   "outputs": [
    {
     "data": {
      "text/html": [
       "<div>\n",
       "<style scoped>\n",
       "    .dataframe tbody tr th:only-of-type {\n",
       "        vertical-align: middle;\n",
       "    }\n",
       "\n",
       "    .dataframe tbody tr th {\n",
       "        vertical-align: top;\n",
       "    }\n",
       "\n",
       "    .dataframe thead th {\n",
       "        text-align: right;\n",
       "    }\n",
       "</style>\n",
       "<table border=\"1\" class=\"dataframe\">\n",
       "  <thead>\n",
       "    <tr style=\"text-align: right;\">\n",
       "      <th></th>\n",
       "      <th>countriesAndTerritories</th>\n",
       "      <th>popData2020</th>\n",
       "    </tr>\n",
       "  </thead>\n",
       "  <tbody>\n",
       "    <tr>\n",
       "      <th>17192</th>\n",
       "      <td>Lithuania</td>\n",
       "      <td>2794090</td>\n",
       "    </tr>\n",
       "    <tr>\n",
       "      <th>2901</th>\n",
       "      <td>Croatia</td>\n",
       "      <td>4058165</td>\n",
       "    </tr>\n",
       "    <tr>\n",
       "      <th>13338</th>\n",
       "      <td>Ireland</td>\n",
       "      <td>4964440</td>\n",
       "    </tr>\n",
       "    <tr>\n",
       "      <th>21093</th>\n",
       "      <td>Norway</td>\n",
       "      <td>5367580</td>\n",
       "    </tr>\n",
       "    <tr>\n",
       "      <th>24897</th>\n",
       "      <td>Slovakia</td>\n",
       "      <td>5457873</td>\n",
       "    </tr>\n",
       "    <tr>\n",
       "      <th>7574</th>\n",
       "      <td>Finland</td>\n",
       "      <td>5525292</td>\n",
       "    </tr>\n",
       "    <tr>\n",
       "      <th>5670</th>\n",
       "      <td>Denmark</td>\n",
       "      <td>5822763</td>\n",
       "    </tr>\n",
       "    <tr>\n",
       "      <th>1939</th>\n",
       "      <td>Bulgaria</td>\n",
       "      <td>6951482</td>\n",
       "    </tr>\n",
       "    <tr>\n",
       "      <th>11567</th>\n",
       "      <td>Hungary</td>\n",
       "      <td>9769526</td>\n",
       "    </tr>\n",
       "    <tr>\n",
       "      <th>23039</th>\n",
       "      <td>Portugal</td>\n",
       "      <td>10295909</td>\n",
       "    </tr>\n",
       "    <tr>\n",
       "      <th>4667</th>\n",
       "      <td>Czechia</td>\n",
       "      <td>10693939</td>\n",
       "    </tr>\n",
       "    <tr>\n",
       "      <th>10596</th>\n",
       "      <td>Greece</td>\n",
       "      <td>10718565</td>\n",
       "    </tr>\n",
       "  </tbody>\n",
       "</table>\n",
       "</div>"
      ],
      "text/plain": [
       "      countriesAndTerritories  popData2020\n",
       "17192               Lithuania      2794090\n",
       "2901                  Croatia      4058165\n",
       "13338                 Ireland      4964440\n",
       "21093                  Norway      5367580\n",
       "24897                Slovakia      5457873\n",
       "7574                  Finland      5525292\n",
       "5670                  Denmark      5822763\n",
       "1939                 Bulgaria      6951482\n",
       "11567                 Hungary      9769526\n",
       "23039                Portugal     10295909\n",
       "4667                  Czechia     10693939\n",
       "10596                  Greece     10718565"
      ]
     },
     "execution_count": 77,
     "metadata": {},
     "output_type": "execute_result"
    }
   ],
   "source": [
    "# in order to keep 12 countries as a reference (reasoning: ), we'll keep the middle 12 of those (excluding the top and bottom 2 -population wise-\n",
    "# from the countries in our resulting set):\n",
    "res_countries[2:-2].sort_values('popData2020')"
   ]
  },
  {
   "cell_type": "code",
   "execution_count": 78,
   "id": "d9ec57c3-e4c6-4ab1-ba83-8bd84894e6b5",
   "metadata": {
    "tags": []
   },
   "outputs": [],
   "source": [
    "countries = list(res_countries[2:-2].sort_values('popData2020')['countriesAndTerritories'])"
   ]
  },
  {
   "cell_type": "code",
   "execution_count": null,
   "id": "4be6a517-602c-4c74-bbd2-9f0d12581735",
   "metadata": {},
   "outputs": [],
   "source": []
  },
  {
   "cell_type": "code",
   "execution_count": 79,
   "id": "11814007-7b3f-493c-ac50-8a531c645c3b",
   "metadata": {
    "tags": []
   },
   "outputs": [
    {
     "name": "stdout",
     "output_type": "stream",
     "text": [
      "2020-01-01 00:00:00 2022-10-26 00:00:00\n"
     ]
    }
   ],
   "source": [
    "date_col = [] \n",
    "first_date = datetime.datetime(2020,1,1)\n",
    "last_date = datetime.datetime(2022,10,26)\n",
    "no_days = (last_date - first_date).days\n",
    "for i in range(no_days+1):\n",
    "    date_col.append((last_date-datetime.timedelta(days=i)).strftime(format='%d/%m/%Y'))\n",
    "date_col.sort(reverse=False)\n",
    "my_df = pd.DataFrame(data=[date_col]).T\n",
    "my_df.columns=['date']\n",
    "my_df['date'] = pd.to_datetime(my_df['date'], format='%d/%m/%Y')\n",
    "my_df.sort_values(by='date', ascending=True, inplace=True)\n",
    "print(list(my_df['date'])[0], list(my_df['date'])[-1])\n",
    "my_df.reset_index(inplace=True)\n",
    "my_df.drop('index',axis=1,inplace=True)"
   ]
  },
  {
   "cell_type": "code",
   "execution_count": 80,
   "id": "d9634ab8-46f5-4457-b7bb-d182c6b4f7e0",
   "metadata": {
    "tags": []
   },
   "outputs": [],
   "source": [
    "test = pd.merge(my_df, data[['countriesAndTerritories']], how='cross')"
   ]
  },
  {
   "cell_type": "code",
   "execution_count": 81,
   "id": "144a9202-82fb-4a8c-a754-7f1aea73f6c1",
   "metadata": {
    "tags": []
   },
   "outputs": [],
   "source": [
    "test.drop_duplicates(inplace=True)"
   ]
  },
  {
   "cell_type": "code",
   "execution_count": 82,
   "id": "8af36cf3-55d9-4fb1-b39a-3560b5115cfb",
   "metadata": {
    "tags": []
   },
   "outputs": [
    {
     "data": {
      "text/html": [
       "<div>\n",
       "<style scoped>\n",
       "    .dataframe tbody tr th:only-of-type {\n",
       "        vertical-align: middle;\n",
       "    }\n",
       "\n",
       "    .dataframe tbody tr th {\n",
       "        vertical-align: top;\n",
       "    }\n",
       "\n",
       "    .dataframe thead th {\n",
       "        text-align: right;\n",
       "    }\n",
       "</style>\n",
       "<table border=\"1\" class=\"dataframe\">\n",
       "  <thead>\n",
       "    <tr style=\"text-align: right;\">\n",
       "      <th></th>\n",
       "      <th>date</th>\n",
       "      <th>countriesAndTerritories</th>\n",
       "    </tr>\n",
       "  </thead>\n",
       "  <tbody>\n",
       "    <tr>\n",
       "      <th>0</th>\n",
       "      <td>2020-01-01</td>\n",
       "      <td>Austria</td>\n",
       "    </tr>\n",
       "    <tr>\n",
       "      <th>1</th>\n",
       "      <td>2020-01-01</td>\n",
       "      <td>Belgium</td>\n",
       "    </tr>\n",
       "    <tr>\n",
       "      <th>2</th>\n",
       "      <td>2020-01-01</td>\n",
       "      <td>Bulgaria</td>\n",
       "    </tr>\n",
       "    <tr>\n",
       "      <th>3</th>\n",
       "      <td>2020-01-01</td>\n",
       "      <td>Croatia</td>\n",
       "    </tr>\n",
       "    <tr>\n",
       "      <th>4</th>\n",
       "      <td>2020-01-01</td>\n",
       "      <td>Cyprus</td>\n",
       "    </tr>\n",
       "  </tbody>\n",
       "</table>\n",
       "</div>"
      ],
      "text/plain": [
       "        date countriesAndTerritories\n",
       "0 2020-01-01                 Austria\n",
       "1 2020-01-01                 Belgium\n",
       "2 2020-01-01                Bulgaria\n",
       "3 2020-01-01                 Croatia\n",
       "4 2020-01-01                  Cyprus"
      ]
     },
     "execution_count": 82,
     "metadata": {},
     "output_type": "execute_result"
    }
   ],
   "source": [
    "test.reset_index(inplace=True)\n",
    "test.drop(['index'], axis=1, inplace=True)\n",
    "test.head()"
   ]
  },
  {
   "cell_type": "code",
   "execution_count": 83,
   "id": "3451bfe1-fde7-4202-b4f6-e450a156baf0",
   "metadata": {
    "tags": []
   },
   "outputs": [],
   "source": [
    "test_key = [] \n",
    "for i in range(test.shape[0]):\n",
    "    test_key.append(str(test['date'][i]) + str(test['countriesAndTerritories'][i]))\n",
    "\n",
    "test['key'] = test_key"
   ]
  },
  {
   "cell_type": "code",
   "execution_count": 84,
   "id": "77d12388-342a-4400-bea0-e34fa4e5a48d",
   "metadata": {
    "tags": []
   },
   "outputs": [],
   "source": [
    "data.reset_index(inplace=True)\n",
    "data.drop('index', axis=1, inplace=True)"
   ]
  },
  {
   "cell_type": "code",
   "execution_count": 85,
   "id": "f5f5e512-b78e-412b-9ea3-4d3b2ec5b546",
   "metadata": {
    "tags": []
   },
   "outputs": [],
   "source": [
    "data_key = [] \n",
    "for i in range(data.shape[0]):\n",
    "    data_key.append(str(data['dateRep'][i]) + str(data['countriesAndTerritories'][i]))\n",
    "data['key'] = data_key"
   ]
  },
  {
   "cell_type": "code",
   "execution_count": 86,
   "id": "b445638d-a044-4c2b-bf83-7bf445c3ffff",
   "metadata": {
    "tags": []
   },
   "outputs": [
    {
     "data": {
      "text/html": [
       "<div>\n",
       "<style scoped>\n",
       "    .dataframe tbody tr th:only-of-type {\n",
       "        vertical-align: middle;\n",
       "    }\n",
       "\n",
       "    .dataframe tbody tr th {\n",
       "        vertical-align: top;\n",
       "    }\n",
       "\n",
       "    .dataframe thead th {\n",
       "        text-align: right;\n",
       "    }\n",
       "</style>\n",
       "<table border=\"1\" class=\"dataframe\">\n",
       "  <thead>\n",
       "    <tr style=\"text-align: right;\">\n",
       "      <th></th>\n",
       "      <th>date</th>\n",
       "      <th>countriesAndTerritories_x</th>\n",
       "      <th>cases</th>\n",
       "      <th>deaths</th>\n",
       "      <th>NA</th>\n",
       "    </tr>\n",
       "  </thead>\n",
       "  <tbody>\n",
       "    <tr>\n",
       "      <th>0</th>\n",
       "      <td>2020-01-01</td>\n",
       "      <td>Austria</td>\n",
       "      <td>NaN</td>\n",
       "      <td>NaN</td>\n",
       "      <td>True</td>\n",
       "    </tr>\n",
       "    <tr>\n",
       "      <th>1</th>\n",
       "      <td>2020-01-01</td>\n",
       "      <td>Belgium</td>\n",
       "      <td>NaN</td>\n",
       "      <td>NaN</td>\n",
       "      <td>True</td>\n",
       "    </tr>\n",
       "    <tr>\n",
       "      <th>2</th>\n",
       "      <td>2020-01-01</td>\n",
       "      <td>Bulgaria</td>\n",
       "      <td>NaN</td>\n",
       "      <td>NaN</td>\n",
       "      <td>True</td>\n",
       "    </tr>\n",
       "    <tr>\n",
       "      <th>3</th>\n",
       "      <td>2020-01-01</td>\n",
       "      <td>Croatia</td>\n",
       "      <td>NaN</td>\n",
       "      <td>NaN</td>\n",
       "      <td>True</td>\n",
       "    </tr>\n",
       "    <tr>\n",
       "      <th>4</th>\n",
       "      <td>2020-01-01</td>\n",
       "      <td>Cyprus</td>\n",
       "      <td>NaN</td>\n",
       "      <td>NaN</td>\n",
       "      <td>True</td>\n",
       "    </tr>\n",
       "    <tr>\n",
       "      <th>...</th>\n",
       "      <td>...</td>\n",
       "      <td>...</td>\n",
       "      <td>...</td>\n",
       "      <td>...</td>\n",
       "      <td>...</td>\n",
       "    </tr>\n",
       "    <tr>\n",
       "      <th>30895</th>\n",
       "      <td>2022-10-26</td>\n",
       "      <td>Romania</td>\n",
       "      <td>NaN</td>\n",
       "      <td>NaN</td>\n",
       "      <td>True</td>\n",
       "    </tr>\n",
       "    <tr>\n",
       "      <th>30896</th>\n",
       "      <td>2022-10-26</td>\n",
       "      <td>Slovakia</td>\n",
       "      <td>NaN</td>\n",
       "      <td>NaN</td>\n",
       "      <td>True</td>\n",
       "    </tr>\n",
       "    <tr>\n",
       "      <th>30897</th>\n",
       "      <td>2022-10-26</td>\n",
       "      <td>Slovenia</td>\n",
       "      <td>NaN</td>\n",
       "      <td>NaN</td>\n",
       "      <td>True</td>\n",
       "    </tr>\n",
       "    <tr>\n",
       "      <th>30898</th>\n",
       "      <td>2022-10-26</td>\n",
       "      <td>Spain</td>\n",
       "      <td>NaN</td>\n",
       "      <td>NaN</td>\n",
       "      <td>True</td>\n",
       "    </tr>\n",
       "    <tr>\n",
       "      <th>30899</th>\n",
       "      <td>2022-10-26</td>\n",
       "      <td>Sweden</td>\n",
       "      <td>NaN</td>\n",
       "      <td>NaN</td>\n",
       "      <td>True</td>\n",
       "    </tr>\n",
       "  </tbody>\n",
       "</table>\n",
       "<p>30900 rows × 5 columns</p>\n",
       "</div>"
      ],
      "text/plain": [
       "            date countriesAndTerritories_x  cases  deaths    NA\n",
       "0     2020-01-01                   Austria    NaN     NaN  True\n",
       "1     2020-01-01                   Belgium    NaN     NaN  True\n",
       "2     2020-01-01                  Bulgaria    NaN     NaN  True\n",
       "3     2020-01-01                   Croatia    NaN     NaN  True\n",
       "4     2020-01-01                    Cyprus    NaN     NaN  True\n",
       "...          ...                       ...    ...     ...   ...\n",
       "30895 2022-10-26                   Romania    NaN     NaN  True\n",
       "30896 2022-10-26                  Slovakia    NaN     NaN  True\n",
       "30897 2022-10-26                  Slovenia    NaN     NaN  True\n",
       "30898 2022-10-26                     Spain    NaN     NaN  True\n",
       "30899 2022-10-26                    Sweden    NaN     NaN  True\n",
       "\n",
       "[30900 rows x 5 columns]"
      ]
     },
     "execution_count": 86,
     "metadata": {},
     "output_type": "execute_result"
    }
   ],
   "source": [
    "res = pd.merge(test, data, on='key', how='outer')\n",
    "res.drop(['dateRep','month','year','day','countriesAndTerritories_y','geoId','countryterritoryCode','continentExp','key','popData2020'], axis=1, inplace=True)\n",
    "res['NA'] = np.where(res['cases'].isna(), True, False)\n",
    "res\n"
   ]
  },
  {
   "cell_type": "code",
   "execution_count": 87,
   "id": "1a89802c-56ee-4887-8f32-ac38502c9fbf",
   "metadata": {
    "tags": []
   },
   "outputs": [
    {
     "data": {
      "text/plain": [
       "countriesAndTerritories_x\n",
       "Iceland          249\n",
       "Cyprus           236\n",
       "Spain            150\n",
       "Denmark          117\n",
       "Romania          106\n",
       "Portugal          96\n",
       "Liechtenstein     82\n",
       "Slovakia          76\n",
       "Bulgaria          68\n",
       "Ireland           68\n",
       "Malta             66\n",
       "Slovenia          65\n",
       "Poland            64\n",
       "Netherlands       63\n",
       "Hungary           62\n",
       "Belgium           62\n",
       "Latvia            60\n",
       "Austria           59\n",
       "Greece            59\n",
       "Estonia           58\n",
       "Croatia           58\n",
       "Luxembourg        57\n",
       "Italy             56\n",
       "Norway            51\n",
       "Sweden            48\n",
       "Germany           38\n",
       "Lithuania         33\n",
       "Czechia           27\n",
       "France            24\n",
       "Finland            6\n",
       "Name: NA, dtype: int64"
      ]
     },
     "execution_count": 87,
     "metadata": {},
     "output_type": "execute_result"
    }
   ],
   "source": [
    "# NaN values per country\n",
    "non_na_count = pd.pivot_table(res, index='countriesAndTerritories_x', values='NA', aggfunc='sum')['NA']\n",
    "non_na_count.sort_values(ascending=False)"
   ]
  },
  {
   "cell_type": "code",
   "execution_count": 88,
   "id": "6cf61cb3-d99e-4dd5-bdce-3de2aa790597",
   "metadata": {
    "tags": []
   },
   "outputs": [
    {
     "data": {
      "text/html": [
       "<div>\n",
       "<style scoped>\n",
       "    .dataframe tbody tr th:only-of-type {\n",
       "        vertical-align: middle;\n",
       "    }\n",
       "\n",
       "    .dataframe tbody tr th {\n",
       "        vertical-align: top;\n",
       "    }\n",
       "\n",
       "    .dataframe thead th {\n",
       "        text-align: right;\n",
       "    }\n",
       "</style>\n",
       "<table border=\"1\" class=\"dataframe\">\n",
       "  <thead>\n",
       "    <tr style=\"text-align: right;\">\n",
       "      <th></th>\n",
       "      <th>countriesAndTerritories_x</th>\n",
       "      <th>NA</th>\n",
       "    </tr>\n",
       "  </thead>\n",
       "  <tbody>\n",
       "    <tr>\n",
       "      <th>0</th>\n",
       "      <td>Bulgaria</td>\n",
       "      <td>68</td>\n",
       "    </tr>\n",
       "    <tr>\n",
       "      <th>1030</th>\n",
       "      <td>Croatia</td>\n",
       "      <td>58</td>\n",
       "    </tr>\n",
       "    <tr>\n",
       "      <th>2060</th>\n",
       "      <td>Czechia</td>\n",
       "      <td>27</td>\n",
       "    </tr>\n",
       "    <tr>\n",
       "      <th>3090</th>\n",
       "      <td>Denmark</td>\n",
       "      <td>117</td>\n",
       "    </tr>\n",
       "    <tr>\n",
       "      <th>4120</th>\n",
       "      <td>Finland</td>\n",
       "      <td>6</td>\n",
       "    </tr>\n",
       "    <tr>\n",
       "      <th>5150</th>\n",
       "      <td>Greece</td>\n",
       "      <td>59</td>\n",
       "    </tr>\n",
       "    <tr>\n",
       "      <th>6180</th>\n",
       "      <td>Hungary</td>\n",
       "      <td>62</td>\n",
       "    </tr>\n",
       "    <tr>\n",
       "      <th>7210</th>\n",
       "      <td>Ireland</td>\n",
       "      <td>68</td>\n",
       "    </tr>\n",
       "    <tr>\n",
       "      <th>8240</th>\n",
       "      <td>Lithuania</td>\n",
       "      <td>33</td>\n",
       "    </tr>\n",
       "    <tr>\n",
       "      <th>9270</th>\n",
       "      <td>Norway</td>\n",
       "      <td>51</td>\n",
       "    </tr>\n",
       "    <tr>\n",
       "      <th>10300</th>\n",
       "      <td>Portugal</td>\n",
       "      <td>96</td>\n",
       "    </tr>\n",
       "    <tr>\n",
       "      <th>11330</th>\n",
       "      <td>Slovakia</td>\n",
       "      <td>76</td>\n",
       "    </tr>\n",
       "  </tbody>\n",
       "</table>\n",
       "</div>"
      ],
      "text/plain": [
       "      countriesAndTerritories_x   NA\n",
       "0                      Bulgaria   68\n",
       "1030                    Croatia   58\n",
       "2060                    Czechia   27\n",
       "3090                    Denmark  117\n",
       "4120                    Finland    6\n",
       "5150                     Greece   59\n",
       "6180                    Hungary   62\n",
       "7210                    Ireland   68\n",
       "8240                  Lithuania   33\n",
       "9270                     Norway   51\n",
       "10300                  Portugal   96\n",
       "11330                  Slovakia   76"
      ]
     },
     "execution_count": 88,
     "metadata": {},
     "output_type": "execute_result"
    }
   ],
   "source": [
    "pd.merge(res['countriesAndTerritories_x'][res['countriesAndTerritories_x'].isin(countries)], non_na_count, on='countriesAndTerritories_x', how='inner').drop_duplicates(subset='countriesAndTerritories_x')"
   ]
  },
  {
   "cell_type": "code",
   "execution_count": 89,
   "id": "d4eb1da6-af75-4630-ac0e-4417adcf542b",
   "metadata": {},
   "outputs": [],
   "source": [
    "# we can ignore denmark for #E"
   ]
  },
  {
   "cell_type": "code",
   "execution_count": 90,
   "id": "3a4d566f-7c3c-476a-8d4d-b767d318e2ea",
   "metadata": {},
   "outputs": [],
   "source": [
    "final = res[(res['date'] >= datetime.datetime(2020,3,1)) & (res['date'] <= datetime.datetime(2022,3,1))]"
   ]
  },
  {
   "cell_type": "markdown",
   "id": "5b265aeb-d254-4aec-80e6-e3588da5671b",
   "metadata": {},
   "source": [
    "# DATA CLEANING\n",
    "### Missing values detection"
   ]
  },
  {
   "cell_type": "code",
   "execution_count": 109,
   "id": "f840288f-6385-4eca-a258-0bc6659202d7",
   "metadata": {
    "tags": []
   },
   "outputs": [
    {
     "name": "stderr",
     "output_type": "stream",
     "text": [
      "/var/folders/fp/b19fbw2j41z9_lyxq1cyd88h0000gn/T/ipykernel_8770/1457101381.py:2: SettingWithCopyWarning: \n",
      "A value is trying to be set on a copy of a slice from a DataFrame\n",
      "\n",
      "See the caveats in the documentation: https://pandas.pydata.org/pandas-docs/stable/user_guide/indexing.html#returning-a-view-versus-a-copy\n",
      "  gr_data.drop('deaths', axis=1, inplace=True)\n"
     ]
    },
    {
     "data": {
      "text/html": [
       "<div>\n",
       "<style scoped>\n",
       "    .dataframe tbody tr th:only-of-type {\n",
       "        vertical-align: middle;\n",
       "    }\n",
       "\n",
       "    .dataframe tbody tr th {\n",
       "        vertical-align: top;\n",
       "    }\n",
       "\n",
       "    .dataframe thead th {\n",
       "        text-align: right;\n",
       "    }\n",
       "</style>\n",
       "<table border=\"1\" class=\"dataframe\">\n",
       "  <thead>\n",
       "    <tr style=\"text-align: right;\">\n",
       "      <th></th>\n",
       "      <th>date</th>\n",
       "      <th>countriesAndTerritories_x</th>\n",
       "      <th>cases</th>\n",
       "      <th>NA</th>\n",
       "    </tr>\n",
       "  </thead>\n",
       "  <tbody>\n",
       "    <tr>\n",
       "      <th>1811</th>\n",
       "      <td>2020-03-01</td>\n",
       "      <td>Greece</td>\n",
       "      <td>2.0</td>\n",
       "      <td>False</td>\n",
       "    </tr>\n",
       "    <tr>\n",
       "      <th>1841</th>\n",
       "      <td>2020-03-02</td>\n",
       "      <td>Greece</td>\n",
       "      <td>0.0</td>\n",
       "      <td>False</td>\n",
       "    </tr>\n",
       "    <tr>\n",
       "      <th>1871</th>\n",
       "      <td>2020-03-03</td>\n",
       "      <td>Greece</td>\n",
       "      <td>1.0</td>\n",
       "      <td>False</td>\n",
       "    </tr>\n",
       "    <tr>\n",
       "      <th>1901</th>\n",
       "      <td>2020-03-04</td>\n",
       "      <td>Greece</td>\n",
       "      <td>1.0</td>\n",
       "      <td>False</td>\n",
       "    </tr>\n",
       "    <tr>\n",
       "      <th>1931</th>\n",
       "      <td>2020-03-05</td>\n",
       "      <td>Greece</td>\n",
       "      <td>22.0</td>\n",
       "      <td>False</td>\n",
       "    </tr>\n",
       "    <tr>\n",
       "      <th>...</th>\n",
       "      <td>...</td>\n",
       "      <td>...</td>\n",
       "      <td>...</td>\n",
       "      <td>...</td>\n",
       "    </tr>\n",
       "    <tr>\n",
       "      <th>23591</th>\n",
       "      <td>2022-02-25</td>\n",
       "      <td>Greece</td>\n",
       "      <td>15908.0</td>\n",
       "      <td>False</td>\n",
       "    </tr>\n",
       "    <tr>\n",
       "      <th>23621</th>\n",
       "      <td>2022-02-26</td>\n",
       "      <td>Greece</td>\n",
       "      <td>11883.0</td>\n",
       "      <td>False</td>\n",
       "    </tr>\n",
       "    <tr>\n",
       "      <th>23651</th>\n",
       "      <td>2022-02-27</td>\n",
       "      <td>Greece</td>\n",
       "      <td>8214.0</td>\n",
       "      <td>False</td>\n",
       "    </tr>\n",
       "    <tr>\n",
       "      <th>23681</th>\n",
       "      <td>2022-02-28</td>\n",
       "      <td>Greece</td>\n",
       "      <td>16263.0</td>\n",
       "      <td>False</td>\n",
       "    </tr>\n",
       "    <tr>\n",
       "      <th>23711</th>\n",
       "      <td>2022-03-01</td>\n",
       "      <td>Greece</td>\n",
       "      <td>17208.0</td>\n",
       "      <td>False</td>\n",
       "    </tr>\n",
       "  </tbody>\n",
       "</table>\n",
       "<p>731 rows × 4 columns</p>\n",
       "</div>"
      ],
      "text/plain": [
       "            date countriesAndTerritories_x    cases     NA\n",
       "1811  2020-03-01                    Greece      2.0  False\n",
       "1841  2020-03-02                    Greece      0.0  False\n",
       "1871  2020-03-03                    Greece      1.0  False\n",
       "1901  2020-03-04                    Greece      1.0  False\n",
       "1931  2020-03-05                    Greece     22.0  False\n",
       "...          ...                       ...      ...    ...\n",
       "23591 2022-02-25                    Greece  15908.0  False\n",
       "23621 2022-02-26                    Greece  11883.0  False\n",
       "23651 2022-02-27                    Greece   8214.0  False\n",
       "23681 2022-02-28                    Greece  16263.0  False\n",
       "23711 2022-03-01                    Greece  17208.0  False\n",
       "\n",
       "[731 rows x 4 columns]"
      ]
     },
     "execution_count": 109,
     "metadata": {},
     "output_type": "execute_result"
    }
   ],
   "source": [
    "gr_data = final[final['countriesAndTerritories_x'] == 'Greece']\n",
    "gr_data.drop('deaths', axis=1, inplace=True)\n",
    "gr_data"
   ]
  },
  {
   "cell_type": "code",
   "execution_count": 110,
   "id": "cd518a6f-b185-4af0-b246-61c80b9b9e22",
   "metadata": {
    "tags": []
   },
   "outputs": [
    {
     "data": {
      "text/plain": [
       "Series([], Name: NA, dtype: bool)"
      ]
     },
     "execution_count": 110,
     "metadata": {},
     "output_type": "execute_result"
    }
   ],
   "source": [
    "# no NA values \n",
    "gr_data['NA'][gr_data['NA'].isna()]"
   ]
  },
  {
   "cell_type": "code",
   "execution_count": 111,
   "id": "a0dd60a5-42a3-42cb-bda1-2ca987ba3bdc",
   "metadata": {
    "tags": []
   },
   "outputs": [],
   "source": [
    "# gr_data['cases'].fillna(how='')"
   ]
  },
  {
   "cell_type": "markdown",
   "id": "6c5cc054-a29a-4a50-b65b-ea75ffb7308d",
   "metadata": {
    "tags": []
   },
   "source": [
    "### Outliers detection"
   ]
  },
  {
   "cell_type": "code",
   "execution_count": 112,
   "id": "6433969f-0d1f-4d7f-916d-7441ece93f96",
   "metadata": {
    "tags": []
   },
   "outputs": [
    {
     "name": "stderr",
     "output_type": "stream",
     "text": [
      "/var/folders/fp/b19fbw2j41z9_lyxq1cyd88h0000gn/T/ipykernel_8770/1268648707.py:1: SettingWithCopyWarning: \n",
      "A value is trying to be set on a copy of a slice from a DataFrame.\n",
      "Try using .loc[row_indexer,col_indexer] = value instead\n",
      "\n",
      "See the caveats in the documentation: https://pandas.pydata.org/pandas-docs/stable/user_guide/indexing.html#returning-a-view-versus-a-copy\n",
      "  gr_data.loc[:,'Z-Score'] = (gr_data['cases'] - gr_data['cases'].mean()) / gr_data['cases'].std()\n"
     ]
    }
   ],
   "source": [
    "gr_data.loc[:,'Z-Score'] = (gr_data['cases'] - gr_data['cases'].mean()) / gr_data['cases'].std()"
   ]
  },
  {
   "cell_type": "code",
   "execution_count": 113,
   "id": "6e686f65-f37e-4b2a-9681-756722ee9eda",
   "metadata": {
    "tags": []
   },
   "outputs": [],
   "source": [
    "threshold = 3 "
   ]
  },
  {
   "cell_type": "code",
   "execution_count": 114,
   "id": "cc1824f6-d953-4bf7-ad5c-4d2c5b917f7b",
   "metadata": {
    "tags": []
   },
   "outputs": [
    {
     "data": {
      "text/html": [
       "<div>\n",
       "<style scoped>\n",
       "    .dataframe tbody tr th:only-of-type {\n",
       "        vertical-align: middle;\n",
       "    }\n",
       "\n",
       "    .dataframe tbody tr th {\n",
       "        vertical-align: top;\n",
       "    }\n",
       "\n",
       "    .dataframe thead th {\n",
       "        text-align: right;\n",
       "    }\n",
       "</style>\n",
       "<table border=\"1\" class=\"dataframe\">\n",
       "  <thead>\n",
       "    <tr style=\"text-align: right;\">\n",
       "      <th></th>\n",
       "      <th>date</th>\n",
       "      <th>countriesAndTerritories_x</th>\n",
       "      <th>cases</th>\n",
       "      <th>NA</th>\n",
       "      <th>Z-Score</th>\n",
       "    </tr>\n",
       "  </thead>\n",
       "  <tbody>\n",
       "    <tr>\n",
       "      <th>21851</th>\n",
       "      <td>2021-12-29</td>\n",
       "      <td>Greece</td>\n",
       "      <td>28828.0</td>\n",
       "      <td>False</td>\n",
       "      <td>4.060909</td>\n",
       "    </tr>\n",
       "    <tr>\n",
       "      <th>21881</th>\n",
       "      <td>2021-12-30</td>\n",
       "      <td>Greece</td>\n",
       "      <td>35580.0</td>\n",
       "      <td>False</td>\n",
       "      <td>5.136526</td>\n",
       "    </tr>\n",
       "    <tr>\n",
       "      <th>21911</th>\n",
       "      <td>2021-12-31</td>\n",
       "      <td>Greece</td>\n",
       "      <td>40560.0</td>\n",
       "      <td>False</td>\n",
       "      <td>5.929857</td>\n",
       "    </tr>\n",
       "    <tr>\n",
       "      <th>21941</th>\n",
       "      <td>2022-01-01</td>\n",
       "      <td>Greece</td>\n",
       "      <td>30009.0</td>\n",
       "      <td>False</td>\n",
       "      <td>4.249046</td>\n",
       "    </tr>\n",
       "    <tr>\n",
       "      <th>22001</th>\n",
       "      <td>2022-01-03</td>\n",
       "      <td>Greece</td>\n",
       "      <td>36246.0</td>\n",
       "      <td>False</td>\n",
       "      <td>5.242622</td>\n",
       "    </tr>\n",
       "    <tr>\n",
       "      <th>22031</th>\n",
       "      <td>2022-01-04</td>\n",
       "      <td>Greece</td>\n",
       "      <td>50182.0</td>\n",
       "      <td>False</td>\n",
       "      <td>7.462674</td>\n",
       "    </tr>\n",
       "    <tr>\n",
       "      <th>22061</th>\n",
       "      <td>2022-01-05</td>\n",
       "      <td>Greece</td>\n",
       "      <td>43386.0</td>\n",
       "      <td>False</td>\n",
       "      <td>6.380048</td>\n",
       "    </tr>\n",
       "    <tr>\n",
       "      <th>22091</th>\n",
       "      <td>2022-01-06</td>\n",
       "      <td>Greece</td>\n",
       "      <td>33711.0</td>\n",
       "      <td>False</td>\n",
       "      <td>4.838787</td>\n",
       "    </tr>\n",
       "    <tr>\n",
       "      <th>22121</th>\n",
       "      <td>2022-01-07</td>\n",
       "      <td>Greece</td>\n",
       "      <td>29334.0</td>\n",
       "      <td>False</td>\n",
       "      <td>4.141516</td>\n",
       "    </tr>\n",
       "    <tr>\n",
       "      <th>22151</th>\n",
       "      <td>2022-01-08</td>\n",
       "      <td>Greece</td>\n",
       "      <td>37670.0</td>\n",
       "      <td>False</td>\n",
       "      <td>5.469470</td>\n",
       "    </tr>\n",
       "    <tr>\n",
       "      <th>22211</th>\n",
       "      <td>2022-01-10</td>\n",
       "      <td>Greece</td>\n",
       "      <td>27766.0</td>\n",
       "      <td>False</td>\n",
       "      <td>3.891728</td>\n",
       "    </tr>\n",
       "    <tr>\n",
       "      <th>22241</th>\n",
       "      <td>2022-01-11</td>\n",
       "      <td>Greece</td>\n",
       "      <td>32833.0</td>\n",
       "      <td>False</td>\n",
       "      <td>4.698919</td>\n",
       "    </tr>\n",
       "    <tr>\n",
       "      <th>22271</th>\n",
       "      <td>2022-01-12</td>\n",
       "      <td>Greece</td>\n",
       "      <td>24245.0</td>\n",
       "      <td>False</td>\n",
       "      <td>3.330821</td>\n",
       "    </tr>\n",
       "    <tr>\n",
       "      <th>22451</th>\n",
       "      <td>2022-01-18</td>\n",
       "      <td>Greece</td>\n",
       "      <td>23691.0</td>\n",
       "      <td>False</td>\n",
       "      <td>3.242567</td>\n",
       "    </tr>\n",
       "    <tr>\n",
       "      <th>22751</th>\n",
       "      <td>2022-01-28</td>\n",
       "      <td>Greece</td>\n",
       "      <td>22361.0</td>\n",
       "      <td>False</td>\n",
       "      <td>3.030693</td>\n",
       "    </tr>\n",
       "    <tr>\n",
       "      <th>22871</th>\n",
       "      <td>2022-02-01</td>\n",
       "      <td>Greece</td>\n",
       "      <td>24996.0</td>\n",
       "      <td>False</td>\n",
       "      <td>3.450458</td>\n",
       "    </tr>\n",
       "    <tr>\n",
       "      <th>23081</th>\n",
       "      <td>2022-02-08</td>\n",
       "      <td>Greece</td>\n",
       "      <td>23687.0</td>\n",
       "      <td>False</td>\n",
       "      <td>3.241930</td>\n",
       "    </tr>\n",
       "  </tbody>\n",
       "</table>\n",
       "</div>"
      ],
      "text/plain": [
       "            date countriesAndTerritories_x    cases     NA   Z-Score\n",
       "21851 2021-12-29                    Greece  28828.0  False  4.060909\n",
       "21881 2021-12-30                    Greece  35580.0  False  5.136526\n",
       "21911 2021-12-31                    Greece  40560.0  False  5.929857\n",
       "21941 2022-01-01                    Greece  30009.0  False  4.249046\n",
       "22001 2022-01-03                    Greece  36246.0  False  5.242622\n",
       "22031 2022-01-04                    Greece  50182.0  False  7.462674\n",
       "22061 2022-01-05                    Greece  43386.0  False  6.380048\n",
       "22091 2022-01-06                    Greece  33711.0  False  4.838787\n",
       "22121 2022-01-07                    Greece  29334.0  False  4.141516\n",
       "22151 2022-01-08                    Greece  37670.0  False  5.469470\n",
       "22211 2022-01-10                    Greece  27766.0  False  3.891728\n",
       "22241 2022-01-11                    Greece  32833.0  False  4.698919\n",
       "22271 2022-01-12                    Greece  24245.0  False  3.330821\n",
       "22451 2022-01-18                    Greece  23691.0  False  3.242567\n",
       "22751 2022-01-28                    Greece  22361.0  False  3.030693\n",
       "22871 2022-02-01                    Greece  24996.0  False  3.450458\n",
       "23081 2022-02-08                    Greece  23687.0  False  3.241930"
      ]
     },
     "execution_count": 114,
     "metadata": {},
     "output_type": "execute_result"
    }
   ],
   "source": [
    "# outliers\n",
    "gr_outliers = gr_data[abs(gr_data['Z-Score']) > 3]\n",
    "gr_outliers"
   ]
  },
  {
   "cell_type": "code",
   "execution_count": 115,
   "id": "fdc791ca-db5c-41a5-a870-9bae657d9ee7",
   "metadata": {
    "tags": []
   },
   "outputs": [
    {
     "data": {
      "text/plain": [
       "[<matplotlib.lines.Line2D at 0x17baa3e90>]"
      ]
     },
     "execution_count": 115,
     "metadata": {},
     "output_type": "execute_result"
    },
    {
     "data": {
      "image/png": "[encoded data removed]",
      "text/plain": [
       "<Figure size 640x480 with 1 Axes>"
      ]
     },
     "metadata": {},
     "output_type": "display_data"
    }
   ],
   "source": [
    "import matplotlib.pyplot as plt \n",
    "plt.plot(gr_data['cases'])"
   ]
  },
  {
   "cell_type": "code",
   "execution_count": 116,
   "id": "e2bde006-3d34-4fb6-ae7d-e953ff70d419",
   "metadata": {
    "tags": []
   },
   "outputs": [
    {
     "data": {
      "text/plain": [
       "17"
      ]
     },
     "execution_count": 116,
     "metadata": {},
     "output_type": "execute_result"
    }
   ],
   "source": [
    "gr_outliers.shape[0]"
   ]
  },
  {
   "cell_type": "code",
   "execution_count": 117,
   "id": "f8815395-b7de-4781-b18c-1b210fbb93f5",
   "metadata": {
    "tags": []
   },
   "outputs": [],
   "source": [
    "# since we can see that the outlier observations are consecutive, they represent an actual period of positive case surge in Greece,\n",
    "# coinciding with the expansion of the highly transferable 'omicron' variant that dominated in the following months. Thus, these\n",
    "# data showcase the reality that held in that period, and we cannot take the freedom to drop them. "
   ]
  },
  {
   "cell_type": "code",
   "execution_count": 118,
   "id": "e798c56e-c9bd-46b8-b480-27bd107c38fc",
   "metadata": {
    "tags": []
   },
   "outputs": [
    {
     "data": {
      "text/html": [
       "<div>\n",
       "<style scoped>\n",
       "    .dataframe tbody tr th:only-of-type {\n",
       "        vertical-align: middle;\n",
       "    }\n",
       "\n",
       "    .dataframe tbody tr th {\n",
       "        vertical-align: top;\n",
       "    }\n",
       "\n",
       "    .dataframe thead th {\n",
       "        text-align: right;\n",
       "    }\n",
       "</style>\n",
       "<table border=\"1\" class=\"dataframe\">\n",
       "  <thead>\n",
       "    <tr style=\"text-align: right;\">\n",
       "      <th></th>\n",
       "      <th>date</th>\n",
       "      <th>countriesAndTerritories_x</th>\n",
       "      <th>cases</th>\n",
       "      <th>NA</th>\n",
       "      <th>Z-Score</th>\n",
       "    </tr>\n",
       "  </thead>\n",
       "  <tbody>\n",
       "    <tr>\n",
       "      <th>12521</th>\n",
       "      <td>2021-02-21</td>\n",
       "      <td>Greece</td>\n",
       "      <td>-2859.0</td>\n",
       "      <td>False</td>\n",
       "      <td>-0.98694</td>\n",
       "    </tr>\n",
       "  </tbody>\n",
       "</table>\n",
       "</div>"
      ],
      "text/plain": [
       "            date countriesAndTerritories_x   cases     NA  Z-Score\n",
       "12521 2021-02-21                    Greece -2859.0  False -0.98694"
      ]
     },
     "execution_count": 118,
     "metadata": {},
     "output_type": "execute_result"
    }
   ],
   "source": [
    "# However, there is a data point that is negative and which can be seen from the graph\n",
    "gr_data[gr_data['cases'] < 0]"
   ]
  },
  {
   "cell_type": "code",
   "execution_count": 119,
   "id": "4003f904-9c68-4d70-9175-ff1ac0c57d1a",
   "metadata": {
    "tags": []
   },
   "outputs": [
    {
     "data": {
      "text/plain": [
       "array([1424.])"
      ]
     },
     "execution_count": 119,
     "metadata": {},
     "output_type": "execute_result"
    }
   ],
   "source": [
    "# finding the previous value (chronologically)\n",
    "gr_data[gr_data['date'] == datetime.datetime(2021,2,20)]['cases'].values"
   ]
  },
  {
   "cell_type": "code",
   "execution_count": 120,
   "id": "d61f157b-8014-4f8c-a632-9c4ac503aaaf",
   "metadata": {},
   "outputs": [],
   "source": [
    "gr_data.at[12521, 'cases']=gr_data[gr_data['date'] == datetime.datetime(2021,2,20)]['cases'].values"
   ]
  },
  {
   "cell_type": "code",
   "execution_count": 121,
   "id": "35302f8c-5b84-4e55-b0b1-86d3c8db2973",
   "metadata": {
    "tags": []
   },
   "outputs": [
    {
     "data": {
      "text/plain": [
       "1424.0"
      ]
     },
     "execution_count": 121,
     "metadata": {},
     "output_type": "execute_result"
    }
   ],
   "source": [
    "gr_data.at[12521, 'cases']"
   ]
  },
  {
   "cell_type": "code",
   "execution_count": null,
   "id": "b2c6cf64-79ca-47a2-8009-d8930967558d",
   "metadata": {},
   "outputs": [],
   "source": []
  },
  {
   "cell_type": "markdown",
   "id": "849493e9-a6f8-4651-b521-5de8fd763c13",
   "metadata": {},
   "source": [
    "### Data inconsistencies"
   ]
  },
  {
   "cell_type": "code",
   "execution_count": 122,
   "id": "bb5545fc-c489-44f8-9c85-70cc9c723810",
   "metadata": {},
   "outputs": [
    {
     "data": {
      "text/plain": [
       "dtype('float64')"
      ]
     },
     "execution_count": 122,
     "metadata": {},
     "output_type": "execute_result"
    }
   ],
   "source": [
    "### Data inconsistency: observations are stored in different formats (?)\n",
    "gr_data['cases'].dtype"
   ]
  },
  {
   "cell_type": "code",
   "execution_count": null,
   "id": "7e991684-b073-4f66-9bb5-a6d6cb2e0e1f",
   "metadata": {},
   "outputs": [],
   "source": []
  },
  {
   "cell_type": "markdown",
   "id": "5e25c955-a7f4-4aeb-b1b8-8ed795f97b55",
   "metadata": {},
   "source": [
    "# B"
   ]
  },
  {
   "cell_type": "code",
   "execution_count": null,
   "id": "7075094b-2e7d-4931-a113-d9440b847d25",
   "metadata": {},
   "outputs": [],
   "source": [
    "# we'll change the 'cases' column dtype to int16 for our algorithm to be more memory-efficient"
   ]
  },
  {
   "cell_type": "code",
   "execution_count": 123,
   "id": "861dc743-4054-45d8-aca4-e4a8bc42fbca",
   "metadata": {},
   "outputs": [
    {
     "name": "stderr",
     "output_type": "stream",
     "text": [
      "/var/folders/fp/b19fbw2j41z9_lyxq1cyd88h0000gn/T/ipykernel_8770/546298683.py:1: SettingWithCopyWarning: \n",
      "A value is trying to be set on a copy of a slice from a DataFrame.\n",
      "Try using .loc[row_indexer,col_indexer] = value instead\n",
      "\n",
      "See the caveats in the documentation: https://pandas.pydata.org/pandas-docs/stable/user_guide/indexing.html#returning-a-view-versus-a-copy\n",
      "  gr_data['cases'] = gr_data['cases'].astype('int16')\n"
     ]
    }
   ],
   "source": [
    "gr_data['cases'] = gr_data['cases'].astype('int16')"
   ]
  },
  {
   "cell_type": "code",
   "execution_count": 124,
   "id": "f386cae5-600a-4a60-9867-5d2b2ae81dc6",
   "metadata": {
    "tags": []
   },
   "outputs": [
    {
     "data": {
      "text/html": [
       "<div>\n",
       "<style scoped>\n",
       "    .dataframe tbody tr th:only-of-type {\n",
       "        vertical-align: middle;\n",
       "    }\n",
       "\n",
       "    .dataframe tbody tr th {\n",
       "        vertical-align: top;\n",
       "    }\n",
       "\n",
       "    .dataframe thead th {\n",
       "        text-align: right;\n",
       "    }\n",
       "</style>\n",
       "<table border=\"1\" class=\"dataframe\">\n",
       "  <thead>\n",
       "    <tr style=\"text-align: right;\">\n",
       "      <th></th>\n",
       "      <th>date</th>\n",
       "      <th>countriesAndTerritories_x</th>\n",
       "      <th>cases</th>\n",
       "      <th>NA</th>\n",
       "      <th>Z-Score</th>\n",
       "    </tr>\n",
       "  </thead>\n",
       "  <tbody>\n",
       "    <tr>\n",
       "      <th>1811</th>\n",
       "      <td>2020-03-01</td>\n",
       "      <td>Greece</td>\n",
       "      <td>2</td>\n",
       "      <td>False</td>\n",
       "      <td>-0.531172</td>\n",
       "    </tr>\n",
       "    <tr>\n",
       "      <th>1841</th>\n",
       "      <td>2020-03-02</td>\n",
       "      <td>Greece</td>\n",
       "      <td>0</td>\n",
       "      <td>False</td>\n",
       "      <td>-0.531491</td>\n",
       "    </tr>\n",
       "    <tr>\n",
       "      <th>1871</th>\n",
       "      <td>2020-03-03</td>\n",
       "      <td>Greece</td>\n",
       "      <td>1</td>\n",
       "      <td>False</td>\n",
       "      <td>-0.531332</td>\n",
       "    </tr>\n",
       "    <tr>\n",
       "      <th>1901</th>\n",
       "      <td>2020-03-04</td>\n",
       "      <td>Greece</td>\n",
       "      <td>1</td>\n",
       "      <td>False</td>\n",
       "      <td>-0.531332</td>\n",
       "    </tr>\n",
       "    <tr>\n",
       "      <th>1931</th>\n",
       "      <td>2020-03-05</td>\n",
       "      <td>Greece</td>\n",
       "      <td>22</td>\n",
       "      <td>False</td>\n",
       "      <td>-0.527986</td>\n",
       "    </tr>\n",
       "  </tbody>\n",
       "</table>\n",
       "</div>"
      ],
      "text/plain": [
       "           date countriesAndTerritories_x  cases     NA   Z-Score\n",
       "1811 2020-03-01                    Greece      2  False -0.531172\n",
       "1841 2020-03-02                    Greece      0  False -0.531491\n",
       "1871 2020-03-03                    Greece      1  False -0.531332\n",
       "1901 2020-03-04                    Greece      1  False -0.531332\n",
       "1931 2020-03-05                    Greece     22  False -0.527986"
      ]
     },
     "execution_count": 124,
     "metadata": {},
     "output_type": "execute_result"
    }
   ],
   "source": [
    "gr_data.head()"
   ]
  },
  {
   "cell_type": "markdown",
   "id": "9160639c-4b20-49bc-ac43-92649e21ed1e",
   "metadata": {},
   "source": [
    "## B-a"
   ]
  },
  {
   "cell_type": "code",
   "execution_count": 203,
   "id": "db796727-7d0d-4aa9-90a6-25238d8c69c0",
   "metadata": {
    "tags": []
   },
   "outputs": [
    {
     "data": {
      "text/html": [
       "<div>\n",
       "<style scoped>\n",
       "    .dataframe tbody tr th:only-of-type {\n",
       "        vertical-align: middle;\n",
       "    }\n",
       "\n",
       "    .dataframe tbody tr th {\n",
       "        vertical-align: top;\n",
       "    }\n",
       "\n",
       "    .dataframe thead th {\n",
       "        text-align: right;\n",
       "    }\n",
       "</style>\n",
       "<table border=\"1\" class=\"dataframe\">\n",
       "  <thead>\n",
       "    <tr style=\"text-align: right;\">\n",
       "      <th></th>\n",
       "      <th>date</th>\n",
       "      <th>countriesAndTerritories_x</th>\n",
       "      <th>cases</th>\n",
       "    </tr>\n",
       "  </thead>\n",
       "  <tbody>\n",
       "    <tr>\n",
       "      <th>1811</th>\n",
       "      <td>2020-03-01</td>\n",
       "      <td>Greece</td>\n",
       "      <td>2</td>\n",
       "    </tr>\n",
       "    <tr>\n",
       "      <th>1841</th>\n",
       "      <td>2020-03-02</td>\n",
       "      <td>Greece</td>\n",
       "      <td>0</td>\n",
       "    </tr>\n",
       "    <tr>\n",
       "      <th>1871</th>\n",
       "      <td>2020-03-03</td>\n",
       "      <td>Greece</td>\n",
       "      <td>1</td>\n",
       "    </tr>\n",
       "    <tr>\n",
       "      <th>1901</th>\n",
       "      <td>2020-03-04</td>\n",
       "      <td>Greece</td>\n",
       "      <td>1</td>\n",
       "    </tr>\n",
       "    <tr>\n",
       "      <th>1931</th>\n",
       "      <td>2020-03-05</td>\n",
       "      <td>Greece</td>\n",
       "      <td>22</td>\n",
       "    </tr>\n",
       "  </tbody>\n",
       "</table>\n",
       "</div>"
      ],
      "text/plain": [
       "           date countriesAndTerritories_x  cases\n",
       "1811 2020-03-01                    Greece      2\n",
       "1841 2020-03-02                    Greece      0\n",
       "1871 2020-03-03                    Greece      1\n",
       "1901 2020-03-04                    Greece      1\n",
       "1931 2020-03-05                    Greece     22"
      ]
     },
     "execution_count": 203,
     "metadata": {},
     "output_type": "execute_result"
    }
   ],
   "source": [
    "ba_data = gr_data.copy()\n",
    "ba_data.drop(['NA', 'Z-Score'], axis=1, inplace=True)\n",
    "ba_data.head()"
   ]
  },
  {
   "cell_type": "code",
   "execution_count": 204,
   "id": "3e09e17f-6189-4bcb-9a29-78c568bc558c",
   "metadata": {
    "tags": []
   },
   "outputs": [],
   "source": [
    "### 1st method - the Naive approach\n",
    "ba_data['day'] = [list(ba_data['date'])[i].day for i in range(ba_data.shape[0])]\n",
    "ba_data['month'] = [list(ba_data['date'])[i].month for i in range(ba_data.shape[0])]\n",
    "ba_data['year'] = [list(ba_data['date'])[i].year for i in range(ba_data.shape[0])]\n",
    "ba_data = ba_data[(ba_data['date'] >= datetime.datetime(2020,3,1)) & (ba_data['date'] <= datetime.datetime(2021,2,28))]"
   ]
  },
  {
   "cell_type": "code",
   "execution_count": 205,
   "id": "3861788f-2f55-4c60-afd8-d4e0e3ff2d7e",
   "metadata": {
    "tags": []
   },
   "outputs": [
    {
     "data": {
      "text/html": [
       "<div>\n",
       "<style scoped>\n",
       "    .dataframe tbody tr th:only-of-type {\n",
       "        vertical-align: middle;\n",
       "    }\n",
       "\n",
       "    .dataframe tbody tr th {\n",
       "        vertical-align: top;\n",
       "    }\n",
       "\n",
       "    .dataframe thead th {\n",
       "        text-align: right;\n",
       "    }\n",
       "</style>\n",
       "<table border=\"1\" class=\"dataframe\">\n",
       "  <thead>\n",
       "    <tr style=\"text-align: right;\">\n",
       "      <th></th>\n",
       "      <th>date</th>\n",
       "      <th>countriesAndTerritories_x</th>\n",
       "      <th>cases</th>\n",
       "      <th>day</th>\n",
       "      <th>month</th>\n",
       "      <th>year</th>\n",
       "    </tr>\n",
       "  </thead>\n",
       "  <tbody>\n",
       "    <tr>\n",
       "      <th>1811</th>\n",
       "      <td>2020-03-01</td>\n",
       "      <td>Greece</td>\n",
       "      <td>2</td>\n",
       "      <td>1</td>\n",
       "      <td>3</td>\n",
       "      <td>2020</td>\n",
       "    </tr>\n",
       "    <tr>\n",
       "      <th>1841</th>\n",
       "      <td>2020-03-02</td>\n",
       "      <td>Greece</td>\n",
       "      <td>0</td>\n",
       "      <td>2</td>\n",
       "      <td>3</td>\n",
       "      <td>2020</td>\n",
       "    </tr>\n",
       "    <tr>\n",
       "      <th>1871</th>\n",
       "      <td>2020-03-03</td>\n",
       "      <td>Greece</td>\n",
       "      <td>1</td>\n",
       "      <td>3</td>\n",
       "      <td>3</td>\n",
       "      <td>2020</td>\n",
       "    </tr>\n",
       "    <tr>\n",
       "      <th>1901</th>\n",
       "      <td>2020-03-04</td>\n",
       "      <td>Greece</td>\n",
       "      <td>1</td>\n",
       "      <td>4</td>\n",
       "      <td>3</td>\n",
       "      <td>2020</td>\n",
       "    </tr>\n",
       "    <tr>\n",
       "      <th>1931</th>\n",
       "      <td>2020-03-05</td>\n",
       "      <td>Greece</td>\n",
       "      <td>22</td>\n",
       "      <td>5</td>\n",
       "      <td>3</td>\n",
       "      <td>2020</td>\n",
       "    </tr>\n",
       "    <tr>\n",
       "      <th>...</th>\n",
       "      <td>...</td>\n",
       "      <td>...</td>\n",
       "      <td>...</td>\n",
       "      <td>...</td>\n",
       "      <td>...</td>\n",
       "      <td>...</td>\n",
       "    </tr>\n",
       "    <tr>\n",
       "      <th>12611</th>\n",
       "      <td>2021-02-24</td>\n",
       "      <td>Greece</td>\n",
       "      <td>1903</td>\n",
       "      <td>24</td>\n",
       "      <td>2</td>\n",
       "      <td>2021</td>\n",
       "    </tr>\n",
       "    <tr>\n",
       "      <th>12641</th>\n",
       "      <td>2021-02-25</td>\n",
       "      <td>Greece</td>\n",
       "      <td>1783</td>\n",
       "      <td>25</td>\n",
       "      <td>2</td>\n",
       "      <td>2021</td>\n",
       "    </tr>\n",
       "    <tr>\n",
       "      <th>12671</th>\n",
       "      <td>2021-02-26</td>\n",
       "      <td>Greece</td>\n",
       "      <td>1732</td>\n",
       "      <td>26</td>\n",
       "      <td>2</td>\n",
       "      <td>2021</td>\n",
       "    </tr>\n",
       "    <tr>\n",
       "      <th>12701</th>\n",
       "      <td>2021-02-27</td>\n",
       "      <td>Greece</td>\n",
       "      <td>1630</td>\n",
       "      <td>27</td>\n",
       "      <td>2</td>\n",
       "      <td>2021</td>\n",
       "    </tr>\n",
       "    <tr>\n",
       "      <th>12731</th>\n",
       "      <td>2021-02-28</td>\n",
       "      <td>Greece</td>\n",
       "      <td>1269</td>\n",
       "      <td>28</td>\n",
       "      <td>2</td>\n",
       "      <td>2021</td>\n",
       "    </tr>\n",
       "  </tbody>\n",
       "</table>\n",
       "<p>365 rows × 6 columns</p>\n",
       "</div>"
      ],
      "text/plain": [
       "            date countriesAndTerritories_x  cases  day  month  year\n",
       "1811  2020-03-01                    Greece      2    1      3  2020\n",
       "1841  2020-03-02                    Greece      0    2      3  2020\n",
       "1871  2020-03-03                    Greece      1    3      3  2020\n",
       "1901  2020-03-04                    Greece      1    4      3  2020\n",
       "1931  2020-03-05                    Greece     22    5      3  2020\n",
       "...          ...                       ...    ...  ...    ...   ...\n",
       "12611 2021-02-24                    Greece   1903   24      2  2021\n",
       "12641 2021-02-25                    Greece   1783   25      2  2021\n",
       "12671 2021-02-26                    Greece   1732   26      2  2021\n",
       "12701 2021-02-27                    Greece   1630   27      2  2021\n",
       "12731 2021-02-28                    Greece   1269   28      2  2021\n",
       "\n",
       "[365 rows x 6 columns]"
      ]
     },
     "execution_count": 205,
     "metadata": {},
     "output_type": "execute_result"
    }
   ],
   "source": [
    "ba_data"
   ]
  },
  {
   "cell_type": "code",
   "execution_count": 206,
   "id": "3324ebfa-ba9e-48b8-b18a-bdc482c3a291",
   "metadata": {
    "tags": []
   },
   "outputs": [],
   "source": [
    "proj = [] \n",
    "for row, val in ba_data.iterrows():\n",
    "    if tuple(val)[4] == 3:\n",
    "        c = tuple(val)[2]\n",
    "    else:\n",
    "        c = ba_data[(ba_data['day'] == tuple(val)[3]) & (ba_data['month'] == 3) & (ba_data['year'] == 2020)]['cases'].values[0]\n",
    "    proj.append(c)"
   ]
  },
  {
   "cell_type": "code",
   "execution_count": 207,
   "id": "3ff3ba5a-561b-48f9-808b-53a41c5392ab",
   "metadata": {
    "tags": []
   },
   "outputs": [],
   "source": [
    "ba_data['naive'] = proj"
   ]
  },
  {
   "cell_type": "code",
   "execution_count": 208,
   "id": "d7255e44-ce3c-43d6-9fcb-d70d743fda89",
   "metadata": {
    "tags": []
   },
   "outputs": [
    {
     "data": {
      "text/html": [
       "<div>\n",
       "<style scoped>\n",
       "    .dataframe tbody tr th:only-of-type {\n",
       "        vertical-align: middle;\n",
       "    }\n",
       "\n",
       "    .dataframe tbody tr th {\n",
       "        vertical-align: top;\n",
       "    }\n",
       "\n",
       "    .dataframe thead th {\n",
       "        text-align: right;\n",
       "    }\n",
       "</style>\n",
       "<table border=\"1\" class=\"dataframe\">\n",
       "  <thead>\n",
       "    <tr style=\"text-align: right;\">\n",
       "      <th></th>\n",
       "      <th>date</th>\n",
       "      <th>countriesAndTerritories_x</th>\n",
       "      <th>cases</th>\n",
       "      <th>day</th>\n",
       "      <th>month</th>\n",
       "      <th>year</th>\n",
       "      <th>naive</th>\n",
       "    </tr>\n",
       "  </thead>\n",
       "  <tbody>\n",
       "    <tr>\n",
       "      <th>1811</th>\n",
       "      <td>2020-03-01</td>\n",
       "      <td>Greece</td>\n",
       "      <td>2</td>\n",
       "      <td>1</td>\n",
       "      <td>3</td>\n",
       "      <td>2020</td>\n",
       "      <td>2</td>\n",
       "    </tr>\n",
       "    <tr>\n",
       "      <th>1841</th>\n",
       "      <td>2020-03-02</td>\n",
       "      <td>Greece</td>\n",
       "      <td>0</td>\n",
       "      <td>2</td>\n",
       "      <td>3</td>\n",
       "      <td>2020</td>\n",
       "      <td>0</td>\n",
       "    </tr>\n",
       "    <tr>\n",
       "      <th>1871</th>\n",
       "      <td>2020-03-03</td>\n",
       "      <td>Greece</td>\n",
       "      <td>1</td>\n",
       "      <td>3</td>\n",
       "      <td>3</td>\n",
       "      <td>2020</td>\n",
       "      <td>1</td>\n",
       "    </tr>\n",
       "    <tr>\n",
       "      <th>1901</th>\n",
       "      <td>2020-03-04</td>\n",
       "      <td>Greece</td>\n",
       "      <td>1</td>\n",
       "      <td>4</td>\n",
       "      <td>3</td>\n",
       "      <td>2020</td>\n",
       "      <td>1</td>\n",
       "    </tr>\n",
       "    <tr>\n",
       "      <th>1931</th>\n",
       "      <td>2020-03-05</td>\n",
       "      <td>Greece</td>\n",
       "      <td>22</td>\n",
       "      <td>5</td>\n",
       "      <td>3</td>\n",
       "      <td>2020</td>\n",
       "      <td>22</td>\n",
       "    </tr>\n",
       "    <tr>\n",
       "      <th>...</th>\n",
       "      <td>...</td>\n",
       "      <td>...</td>\n",
       "      <td>...</td>\n",
       "      <td>...</td>\n",
       "      <td>...</td>\n",
       "      <td>...</td>\n",
       "      <td>...</td>\n",
       "    </tr>\n",
       "    <tr>\n",
       "      <th>12611</th>\n",
       "      <td>2021-02-24</td>\n",
       "      <td>Greece</td>\n",
       "      <td>1903</td>\n",
       "      <td>24</td>\n",
       "      <td>2</td>\n",
       "      <td>2021</td>\n",
       "      <td>48</td>\n",
       "    </tr>\n",
       "    <tr>\n",
       "      <th>12641</th>\n",
       "      <td>2021-02-25</td>\n",
       "      <td>Greece</td>\n",
       "      <td>1783</td>\n",
       "      <td>25</td>\n",
       "      <td>2</td>\n",
       "      <td>2021</td>\n",
       "      <td>92</td>\n",
       "    </tr>\n",
       "    <tr>\n",
       "      <th>12671</th>\n",
       "      <td>2021-02-26</td>\n",
       "      <td>Greece</td>\n",
       "      <td>1732</td>\n",
       "      <td>26</td>\n",
       "      <td>2</td>\n",
       "      <td>2021</td>\n",
       "      <td>57</td>\n",
       "    </tr>\n",
       "    <tr>\n",
       "      <th>12701</th>\n",
       "      <td>2021-02-27</td>\n",
       "      <td>Greece</td>\n",
       "      <td>1630</td>\n",
       "      <td>27</td>\n",
       "      <td>2</td>\n",
       "      <td>2021</td>\n",
       "      <td>74</td>\n",
       "    </tr>\n",
       "    <tr>\n",
       "      <th>12731</th>\n",
       "      <td>2021-02-28</td>\n",
       "      <td>Greece</td>\n",
       "      <td>1269</td>\n",
       "      <td>28</td>\n",
       "      <td>2</td>\n",
       "      <td>2021</td>\n",
       "      <td>95</td>\n",
       "    </tr>\n",
       "  </tbody>\n",
       "</table>\n",
       "<p>365 rows × 7 columns</p>\n",
       "</div>"
      ],
      "text/plain": [
       "            date countriesAndTerritories_x  cases  day  month  year  naive\n",
       "1811  2020-03-01                    Greece      2    1      3  2020      2\n",
       "1841  2020-03-02                    Greece      0    2      3  2020      0\n",
       "1871  2020-03-03                    Greece      1    3      3  2020      1\n",
       "1901  2020-03-04                    Greece      1    4      3  2020      1\n",
       "1931  2020-03-05                    Greece     22    5      3  2020     22\n",
       "...          ...                       ...    ...  ...    ...   ...    ...\n",
       "12611 2021-02-24                    Greece   1903   24      2  2021     48\n",
       "12641 2021-02-25                    Greece   1783   25      2  2021     92\n",
       "12671 2021-02-26                    Greece   1732   26      2  2021     57\n",
       "12701 2021-02-27                    Greece   1630   27      2  2021     74\n",
       "12731 2021-02-28                    Greece   1269   28      2  2021     95\n",
       "\n",
       "[365 rows x 7 columns]"
      ]
     },
     "execution_count": 208,
     "metadata": {},
     "output_type": "execute_result"
    }
   ],
   "source": [
    "ba_data"
   ]
  },
  {
   "cell_type": "markdown",
   "id": "c1ddcbb6-a97e-4547-ac33-b97588832dab",
   "metadata": {},
   "source": [
    " "
   ]
  },
  {
   "cell_type": "code",
   "execution_count": 315,
   "id": "1b2e8059-c4a0-4e9d-a67d-992e7b75f46a",
   "metadata": {
    "tags": []
   },
   "outputs": [],
   "source": [
    "### 2nd method - simple moving average method \n",
    "# we select a sliding window of length n=7"
   ]
  },
  {
   "cell_type": "code",
   "execution_count": 312,
   "id": "a284d788-0152-4dfb-b059-f0d2227157f0",
   "metadata": {
    "tags": []
   },
   "outputs": [],
   "source": [
    "sma = [np.nan] * 7\n",
    "sma += [0]*(test.shape[0]-7)\n",
    "for i in range(7,ba_data.shape[0]):\n",
    "    # check if in march and calculate it properly \n",
    "    if ba_data.iloc[i,4] == 3 and ba_data.iloc[i,5] == 2020:\n",
    "        sma[i] = ba_data['cases'][i-7:i].mean()\n",
    "    else:\n",
    "    # check if not in march and calculate iteratively, aka based on previous forecasts\n",
    "    #test.at[i,'cases'] = test['cases'][i-7:i].mean()\n",
    "        sma[i] = np.mean(sma[i-7:i])\n"
   ]
  },
  {
   "cell_type": "code",
   "execution_count": 313,
   "id": "80647c48-454f-4da6-97b3-25d4d9a855ec",
   "metadata": {
    "tags": []
   },
   "outputs": [],
   "source": [
    "ba_data['SMA'] = sma"
   ]
  },
  {
   "cell_type": "code",
   "execution_count": 314,
   "id": "f04c8afb-5dd8-40e5-bb7f-47f353300b60",
   "metadata": {
    "tags": []
   },
   "outputs": [
    {
     "data": {
      "text/html": [
       "<div>\n",
       "<style scoped>\n",
       "    .dataframe tbody tr th:only-of-type {\n",
       "        vertical-align: middle;\n",
       "    }\n",
       "\n",
       "    .dataframe tbody tr th {\n",
       "        vertical-align: top;\n",
       "    }\n",
       "\n",
       "    .dataframe thead th {\n",
       "        text-align: right;\n",
       "    }\n",
       "</style>\n",
       "<table border=\"1\" class=\"dataframe\">\n",
       "  <thead>\n",
       "    <tr style=\"text-align: right;\">\n",
       "      <th></th>\n",
       "      <th>date</th>\n",
       "      <th>countriesAndTerritories_x</th>\n",
       "      <th>cases</th>\n",
       "      <th>day</th>\n",
       "      <th>month</th>\n",
       "      <th>year</th>\n",
       "      <th>naive</th>\n",
       "      <th>SMA</th>\n",
       "    </tr>\n",
       "  </thead>\n",
       "  <tbody>\n",
       "    <tr>\n",
       "      <th>1811</th>\n",
       "      <td>2020-03-01</td>\n",
       "      <td>Greece</td>\n",
       "      <td>2</td>\n",
       "      <td>1</td>\n",
       "      <td>3</td>\n",
       "      <td>2020</td>\n",
       "      <td>2</td>\n",
       "      <td>NaN</td>\n",
       "    </tr>\n",
       "    <tr>\n",
       "      <th>1841</th>\n",
       "      <td>2020-03-02</td>\n",
       "      <td>Greece</td>\n",
       "      <td>0</td>\n",
       "      <td>2</td>\n",
       "      <td>3</td>\n",
       "      <td>2020</td>\n",
       "      <td>0</td>\n",
       "      <td>NaN</td>\n",
       "    </tr>\n",
       "    <tr>\n",
       "      <th>1871</th>\n",
       "      <td>2020-03-03</td>\n",
       "      <td>Greece</td>\n",
       "      <td>1</td>\n",
       "      <td>3</td>\n",
       "      <td>3</td>\n",
       "      <td>2020</td>\n",
       "      <td>1</td>\n",
       "      <td>NaN</td>\n",
       "    </tr>\n",
       "    <tr>\n",
       "      <th>1901</th>\n",
       "      <td>2020-03-04</td>\n",
       "      <td>Greece</td>\n",
       "      <td>1</td>\n",
       "      <td>4</td>\n",
       "      <td>3</td>\n",
       "      <td>2020</td>\n",
       "      <td>1</td>\n",
       "      <td>NaN</td>\n",
       "    </tr>\n",
       "    <tr>\n",
       "      <th>1931</th>\n",
       "      <td>2020-03-05</td>\n",
       "      <td>Greece</td>\n",
       "      <td>22</td>\n",
       "      <td>5</td>\n",
       "      <td>3</td>\n",
       "      <td>2020</td>\n",
       "      <td>22</td>\n",
       "      <td>NaN</td>\n",
       "    </tr>\n",
       "    <tr>\n",
       "      <th>...</th>\n",
       "      <td>...</td>\n",
       "      <td>...</td>\n",
       "      <td>...</td>\n",
       "      <td>...</td>\n",
       "      <td>...</td>\n",
       "      <td>...</td>\n",
       "      <td>...</td>\n",
       "      <td>...</td>\n",
       "    </tr>\n",
       "    <tr>\n",
       "      <th>12611</th>\n",
       "      <td>2021-02-24</td>\n",
       "      <td>Greece</td>\n",
       "      <td>1903</td>\n",
       "      <td>24</td>\n",
       "      <td>2</td>\n",
       "      <td>2021</td>\n",
       "      <td>48</td>\n",
       "      <td>70.530612</td>\n",
       "    </tr>\n",
       "    <tr>\n",
       "      <th>12641</th>\n",
       "      <td>2021-02-25</td>\n",
       "      <td>Greece</td>\n",
       "      <td>1783</td>\n",
       "      <td>25</td>\n",
       "      <td>2</td>\n",
       "      <td>2021</td>\n",
       "      <td>92</td>\n",
       "      <td>70.530612</td>\n",
       "    </tr>\n",
       "    <tr>\n",
       "      <th>12671</th>\n",
       "      <td>2021-02-26</td>\n",
       "      <td>Greece</td>\n",
       "      <td>1732</td>\n",
       "      <td>26</td>\n",
       "      <td>2</td>\n",
       "      <td>2021</td>\n",
       "      <td>57</td>\n",
       "      <td>70.530612</td>\n",
       "    </tr>\n",
       "    <tr>\n",
       "      <th>12701</th>\n",
       "      <td>2021-02-27</td>\n",
       "      <td>Greece</td>\n",
       "      <td>1630</td>\n",
       "      <td>27</td>\n",
       "      <td>2</td>\n",
       "      <td>2021</td>\n",
       "      <td>74</td>\n",
       "      <td>70.530612</td>\n",
       "    </tr>\n",
       "    <tr>\n",
       "      <th>12731</th>\n",
       "      <td>2021-02-28</td>\n",
       "      <td>Greece</td>\n",
       "      <td>1269</td>\n",
       "      <td>28</td>\n",
       "      <td>2</td>\n",
       "      <td>2021</td>\n",
       "      <td>95</td>\n",
       "      <td>70.530612</td>\n",
       "    </tr>\n",
       "  </tbody>\n",
       "</table>\n",
       "<p>365 rows × 8 columns</p>\n",
       "</div>"
      ],
      "text/plain": [
       "            date countriesAndTerritories_x  cases  day  month  year  naive  \\\n",
       "1811  2020-03-01                    Greece      2    1      3  2020      2   \n",
       "1841  2020-03-02                    Greece      0    2      3  2020      0   \n",
       "1871  2020-03-03                    Greece      1    3      3  2020      1   \n",
       "1901  2020-03-04                    Greece      1    4      3  2020      1   \n",
       "1931  2020-03-05                    Greece     22    5      3  2020     22   \n",
       "...          ...                       ...    ...  ...    ...   ...    ...   \n",
       "12611 2021-02-24                    Greece   1903   24      2  2021     48   \n",
       "12641 2021-02-25                    Greece   1783   25      2  2021     92   \n",
       "12671 2021-02-26                    Greece   1732   26      2  2021     57   \n",
       "12701 2021-02-27                    Greece   1630   27      2  2021     74   \n",
       "12731 2021-02-28                    Greece   1269   28      2  2021     95   \n",
       "\n",
       "             SMA  \n",
       "1811         NaN  \n",
       "1841         NaN  \n",
       "1871         NaN  \n",
       "1901         NaN  \n",
       "1931         NaN  \n",
       "...          ...  \n",
       "12611  70.530612  \n",
       "12641  70.530612  \n",
       "12671  70.530612  \n",
       "12701  70.530612  \n",
       "12731  70.530612  \n",
       "\n",
       "[365 rows x 8 columns]"
      ]
     },
     "execution_count": 314,
     "metadata": {},
     "output_type": "execute_result"
    }
   ],
   "source": [
    "ba_data"
   ]
  },
  {
   "cell_type": "code",
   "execution_count": 319,
   "id": "f49c396e-ab94-4930-abfa-3570c9fa0886",
   "metadata": {
    "tags": []
   },
   "outputs": [],
   "source": [
    "### 3. Weighted moving average approach\n",
    "wma = [np.nan] * 7\n",
    "wma += [0]*(test.shape[0]-7)\n",
    "for i in range(7,ba_data.shape[0]):\n",
    "    # check if in march and calculate it properly \n",
    "    if ba_data.iloc[i,4] == 3 and ba_data.iloc[i,5] == 2020:\n",
    "        wma[i] = np.average(ba_data['cases'][i-7:i], weights=[7,6,5,4,3,2,1])\n",
    "    else:\n",
    "    # check if not in march and calculate iteratively, aka based on previous forecasts\n",
    "    #test.at[i,'cases'] = test['cases'][i-7:i].mean()\n",
    "        wma[i] = np.average(sma[i-7:i], weights=[7,6,5,4,3,2,1])"
   ]
  },
  {
   "cell_type": "code",
   "execution_count": 320,
   "id": "8de0a51b-e62f-42f9-8160-e4f499037104",
   "metadata": {
    "tags": []
   },
   "outputs": [
    {
     "data": {
      "text/html": [
       "<div>\n",
       "<style scoped>\n",
       "    .dataframe tbody tr th:only-of-type {\n",
       "        vertical-align: middle;\n",
       "    }\n",
       "\n",
       "    .dataframe tbody tr th {\n",
       "        vertical-align: top;\n",
       "    }\n",
       "\n",
       "    .dataframe thead th {\n",
       "        text-align: right;\n",
       "    }\n",
       "</style>\n",
       "<table border=\"1\" class=\"dataframe\">\n",
       "  <thead>\n",
       "    <tr style=\"text-align: right;\">\n",
       "      <th></th>\n",
       "      <th>date</th>\n",
       "      <th>countriesAndTerritories_x</th>\n",
       "      <th>cases</th>\n",
       "      <th>day</th>\n",
       "      <th>month</th>\n",
       "      <th>year</th>\n",
       "      <th>naive</th>\n",
       "      <th>SMA</th>\n",
       "      <th>wma</th>\n",
       "    </tr>\n",
       "  </thead>\n",
       "  <tbody>\n",
       "    <tr>\n",
       "      <th>1811</th>\n",
       "      <td>2020-03-01</td>\n",
       "      <td>Greece</td>\n",
       "      <td>2</td>\n",
       "      <td>1</td>\n",
       "      <td>3</td>\n",
       "      <td>2020</td>\n",
       "      <td>2</td>\n",
       "      <td>NaN</td>\n",
       "      <td>NaN</td>\n",
       "    </tr>\n",
       "    <tr>\n",
       "      <th>1841</th>\n",
       "      <td>2020-03-02</td>\n",
       "      <td>Greece</td>\n",
       "      <td>0</td>\n",
       "      <td>2</td>\n",
       "      <td>3</td>\n",
       "      <td>2020</td>\n",
       "      <td>0</td>\n",
       "      <td>NaN</td>\n",
       "      <td>NaN</td>\n",
       "    </tr>\n",
       "    <tr>\n",
       "      <th>1871</th>\n",
       "      <td>2020-03-03</td>\n",
       "      <td>Greece</td>\n",
       "      <td>1</td>\n",
       "      <td>3</td>\n",
       "      <td>3</td>\n",
       "      <td>2020</td>\n",
       "      <td>1</td>\n",
       "      <td>NaN</td>\n",
       "      <td>NaN</td>\n",
       "    </tr>\n",
       "    <tr>\n",
       "      <th>1901</th>\n",
       "      <td>2020-03-04</td>\n",
       "      <td>Greece</td>\n",
       "      <td>1</td>\n",
       "      <td>4</td>\n",
       "      <td>3</td>\n",
       "      <td>2020</td>\n",
       "      <td>1</td>\n",
       "      <td>NaN</td>\n",
       "      <td>NaN</td>\n",
       "    </tr>\n",
       "    <tr>\n",
       "      <th>1931</th>\n",
       "      <td>2020-03-05</td>\n",
       "      <td>Greece</td>\n",
       "      <td>22</td>\n",
       "      <td>5</td>\n",
       "      <td>3</td>\n",
       "      <td>2020</td>\n",
       "      <td>22</td>\n",
       "      <td>NaN</td>\n",
       "      <td>NaN</td>\n",
       "    </tr>\n",
       "    <tr>\n",
       "      <th>...</th>\n",
       "      <td>...</td>\n",
       "      <td>...</td>\n",
       "      <td>...</td>\n",
       "      <td>...</td>\n",
       "      <td>...</td>\n",
       "      <td>...</td>\n",
       "      <td>...</td>\n",
       "      <td>...</td>\n",
       "      <td>...</td>\n",
       "    </tr>\n",
       "    <tr>\n",
       "      <th>12611</th>\n",
       "      <td>2021-02-24</td>\n",
       "      <td>Greece</td>\n",
       "      <td>1903</td>\n",
       "      <td>24</td>\n",
       "      <td>2</td>\n",
       "      <td>2021</td>\n",
       "      <td>48</td>\n",
       "      <td>70.530612</td>\n",
       "      <td>70.530612</td>\n",
       "    </tr>\n",
       "    <tr>\n",
       "      <th>12641</th>\n",
       "      <td>2021-02-25</td>\n",
       "      <td>Greece</td>\n",
       "      <td>1783</td>\n",
       "      <td>25</td>\n",
       "      <td>2</td>\n",
       "      <td>2021</td>\n",
       "      <td>92</td>\n",
       "      <td>70.530612</td>\n",
       "      <td>70.530612</td>\n",
       "    </tr>\n",
       "    <tr>\n",
       "      <th>12671</th>\n",
       "      <td>2021-02-26</td>\n",
       "      <td>Greece</td>\n",
       "      <td>1732</td>\n",
       "      <td>26</td>\n",
       "      <td>2</td>\n",
       "      <td>2021</td>\n",
       "      <td>57</td>\n",
       "      <td>70.530612</td>\n",
       "      <td>70.530612</td>\n",
       "    </tr>\n",
       "    <tr>\n",
       "      <th>12701</th>\n",
       "      <td>2021-02-27</td>\n",
       "      <td>Greece</td>\n",
       "      <td>1630</td>\n",
       "      <td>27</td>\n",
       "      <td>2</td>\n",
       "      <td>2021</td>\n",
       "      <td>74</td>\n",
       "      <td>70.530612</td>\n",
       "      <td>70.530612</td>\n",
       "    </tr>\n",
       "    <tr>\n",
       "      <th>12731</th>\n",
       "      <td>2021-02-28</td>\n",
       "      <td>Greece</td>\n",
       "      <td>1269</td>\n",
       "      <td>28</td>\n",
       "      <td>2</td>\n",
       "      <td>2021</td>\n",
       "      <td>95</td>\n",
       "      <td>70.530612</td>\n",
       "      <td>70.530612</td>\n",
       "    </tr>\n",
       "  </tbody>\n",
       "</table>\n",
       "<p>365 rows × 9 columns</p>\n",
       "</div>"
      ],
      "text/plain": [
       "            date countriesAndTerritories_x  cases  day  month  year  naive  \\\n",
       "1811  2020-03-01                    Greece      2    1      3  2020      2   \n",
       "1841  2020-03-02                    Greece      0    2      3  2020      0   \n",
       "1871  2020-03-03                    Greece      1    3      3  2020      1   \n",
       "1901  2020-03-04                    Greece      1    4      3  2020      1   \n",
       "1931  2020-03-05                    Greece     22    5      3  2020     22   \n",
       "...          ...                       ...    ...  ...    ...   ...    ...   \n",
       "12611 2021-02-24                    Greece   1903   24      2  2021     48   \n",
       "12641 2021-02-25                    Greece   1783   25      2  2021     92   \n",
       "12671 2021-02-26                    Greece   1732   26      2  2021     57   \n",
       "12701 2021-02-27                    Greece   1630   27      2  2021     74   \n",
       "12731 2021-02-28                    Greece   1269   28      2  2021     95   \n",
       "\n",
       "             SMA        wma  \n",
       "1811         NaN        NaN  \n",
       "1841         NaN        NaN  \n",
       "1871         NaN        NaN  \n",
       "1901         NaN        NaN  \n",
       "1931         NaN        NaN  \n",
       "...          ...        ...  \n",
       "12611  70.530612  70.530612  \n",
       "12641  70.530612  70.530612  \n",
       "12671  70.530612  70.530612  \n",
       "12701  70.530612  70.530612  \n",
       "12731  70.530612  70.530612  \n",
       "\n",
       "[365 rows x 9 columns]"
      ]
     },
     "execution_count": 320,
     "metadata": {},
     "output_type": "execute_result"
    }
   ],
   "source": [
    "ba_data['wma'] = wma\n",
    "ba_data"
   ]
  },
  {
   "cell_type": "code",
   "execution_count": null,
   "id": "737e7309-2a23-4503-bac2-2fe72ed73da1",
   "metadata": {},
   "outputs": [],
   "source": []
  },
  {
   "cell_type": "code",
   "execution_count": null,
   "id": "b4a9798b-0489-419a-8b5b-8abe360fbb1a",
   "metadata": {},
   "outputs": [],
   "source": []
  },
  {
   "cell_type": "markdown",
   "id": "bba8a301-8f74-4300-9b5c-436bd2c77db9",
   "metadata": {},
   "source": [
    "## B-b"
   ]
  },
  {
   "cell_type": "code",
   "execution_count": null,
   "id": "fb776cce-c5b1-47cd-8163-925751fa5747",
   "metadata": {},
   "outputs": [],
   "source": []
  },
  {
   "cell_type": "code",
   "execution_count": null,
   "id": "cf0bb4e2-9b4c-4ebe-8bbe-144f4d760584",
   "metadata": {},
   "outputs": [],
   "source": []
  },
  {
   "cell_type": "markdown",
   "id": "7e479f81-1fd1-48b4-aa90-171ea6a99f5b",
   "metadata": {
    "tags": []
   },
   "source": [
    "## B-c"
   ]
  },
  {
   "cell_type": "code",
   "execution_count": null,
   "id": "6eca87c9-c1f7-4b3c-b0c7-9464ef49715d",
   "metadata": {},
   "outputs": [],
   "source": []
  }
 ],
 "metadata": {
  "kernelspec": {
   "display_name": "Python 3 (ipykernel)",
   "language": "python",
   "name": "python3"
  },
  "language_info": {
   "codemirror_mode": {
    "name": "ipython",
    "version": 3
   },
   "file_extension": ".py",
   "mimetype": "text/x-python",
   "name": "python",
   "nbconvert_exporter": "python",
   "pygments_lexer": "ipython3",
   "version": "3.11.4"
  }
 },
 "nbformat": 4,
 "nbformat_minor": 5
}
