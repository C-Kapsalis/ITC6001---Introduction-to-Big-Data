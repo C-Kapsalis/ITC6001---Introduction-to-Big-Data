{
 "cells": [
  {
   "cell_type": "markdown",
   "id": "d1282c0e-bf59-4ccf-9c40-3cdaa9b49a0d",
   "metadata": {},
   "source": [
    "# Q1"
   ]
  },
  {
   "cell_type": "markdown",
   "id": "7cea04b1-2024-44a7-b648-317fe68d0aff",
   "metadata": {
    "tags": []
   },
   "source": [
    "# Q1 - Data Description"
   ]
  },
  {
   "cell_type": "code",
   "execution_count": 52,
   "id": "ca82e4d4-184e-43e3-886a-36333b70b9af",
   "metadata": {
    "tags": []
   },
   "outputs": [],
   "source": [
    "import numpy as np\n",
    "import pandas as pd \n",
    "from datetime import datetime\n",
    "###\n",
    "# these 2 rows should go at the end\n",
    "import os\n",
    "os.chdir('/Users/chkapsalis/Desktop/Fall_23_projects/itc_6001_proj')\n",
    "###\n",
    "import matplotlib.pyplot as plt"
   ]
  },
  {
   "cell_type": "code",
   "execution_count": 62,
   "id": "79dc38bc-c2ef-43e1-8387-3b93c610d405",
   "metadata": {
    "tags": []
   },
   "outputs": [],
   "source": [
    "# reading all data files into pandas dataframes\n",
    "artist_info = pd.read_csv('artists.dat', sep='\\t', encoding=None, names=None, header=0, index_col=None)\n",
    "tag_info = pd.read_csv('tags.dat', sep='\\t', encoding='ISO-8859-1', names=None, header=0, index_col=None)\n",
    "user_artists = pd.read_csv('user_artists.dat', sep='\\t', encoding=None, names=None, header=0, index_col=None)\n",
    "user_friends = pd.read_csv('user_friends.dat', sep='\\t', encoding=None, names=None, header=0, index_col=None)\n",
    "user_tags_ts = pd.read_csv('user_taggedartists-timestamps.dat', sep='\\t', encoding=None, names=None, header=0, index_col=None)\n",
    "user_tags = pd.read_csv('user_taggedartists.dat', sep='\\t', encoding=None, names=None, header=0, index_col=None)"
   ]
  },
  {
   "cell_type": "markdown",
   "id": "c8358767-6ed0-4338-a3a1-3b2ef276c79f",
   "metadata": {},
   "source": [
    "# "
   ]
  },
  {
   "cell_type": "code",
   "execution_count": 3,
   "id": "96b80780-a563-437b-81f2-eca358202740",
   "metadata": {
    "tags": []
   },
   "outputs": [],
   "source": [
    "# Frequency plot of the listening frequency of artists by users"
   ]
  },
  {
   "cell_type": "code",
   "execution_count": 4,
   "id": "c9d83de6-907b-4752-87ac-fbb6ba0339a4",
   "metadata": {
    "tags": []
   },
   "outputs": [
    {
     "data": {
      "text/html": [
       "<div>\n",
       "<style scoped>\n",
       "    .dataframe tbody tr th:only-of-type {\n",
       "        vertical-align: middle;\n",
       "    }\n",
       "\n",
       "    .dataframe tbody tr th {\n",
       "        vertical-align: top;\n",
       "    }\n",
       "\n",
       "    .dataframe thead th {\n",
       "        text-align: right;\n",
       "    }\n",
       "</style>\n",
       "<table border=\"1\" class=\"dataframe\">\n",
       "  <thead>\n",
       "    <tr style=\"text-align: right;\">\n",
       "      <th></th>\n",
       "      <th>id</th>\n",
       "      <th>name</th>\n",
       "      <th>url</th>\n",
       "      <th>pictureURL</th>\n",
       "      <th>userID</th>\n",
       "      <th>artistID</th>\n",
       "      <th>weight</th>\n",
       "    </tr>\n",
       "  </thead>\n",
       "  <tbody>\n",
       "    <tr>\n",
       "      <th>0</th>\n",
       "      <td>1</td>\n",
       "      <td>MALICE MIZER</td>\n",
       "      <td>http://www.last.fm/music/MALICE+MIZER</td>\n",
       "      <td>http://userserve-ak.last.fm/serve/252/10808.jpg</td>\n",
       "      <td>34</td>\n",
       "      <td>1</td>\n",
       "      <td>212</td>\n",
       "    </tr>\n",
       "    <tr>\n",
       "      <th>1</th>\n",
       "      <td>1</td>\n",
       "      <td>MALICE MIZER</td>\n",
       "      <td>http://www.last.fm/music/MALICE+MIZER</td>\n",
       "      <td>http://userserve-ak.last.fm/serve/252/10808.jpg</td>\n",
       "      <td>274</td>\n",
       "      <td>1</td>\n",
       "      <td>483</td>\n",
       "    </tr>\n",
       "    <tr>\n",
       "      <th>2</th>\n",
       "      <td>1</td>\n",
       "      <td>MALICE MIZER</td>\n",
       "      <td>http://www.last.fm/music/MALICE+MIZER</td>\n",
       "      <td>http://userserve-ak.last.fm/serve/252/10808.jpg</td>\n",
       "      <td>785</td>\n",
       "      <td>1</td>\n",
       "      <td>76</td>\n",
       "    </tr>\n",
       "    <tr>\n",
       "      <th>3</th>\n",
       "      <td>2</td>\n",
       "      <td>Diary of Dreams</td>\n",
       "      <td>http://www.last.fm/music/Diary+of+Dreams</td>\n",
       "      <td>http://userserve-ak.last.fm/serve/252/3052066.jpg</td>\n",
       "      <td>135</td>\n",
       "      <td>2</td>\n",
       "      <td>1021</td>\n",
       "    </tr>\n",
       "    <tr>\n",
       "      <th>4</th>\n",
       "      <td>2</td>\n",
       "      <td>Diary of Dreams</td>\n",
       "      <td>http://www.last.fm/music/Diary+of+Dreams</td>\n",
       "      <td>http://userserve-ak.last.fm/serve/252/3052066.jpg</td>\n",
       "      <td>257</td>\n",
       "      <td>2</td>\n",
       "      <td>152</td>\n",
       "    </tr>\n",
       "  </tbody>\n",
       "</table>\n",
       "</div>"
      ],
      "text/plain": [
       "   id             name                                       url  \\\n",
       "0   1     MALICE MIZER     http://www.last.fm/music/MALICE+MIZER   \n",
       "1   1     MALICE MIZER     http://www.last.fm/music/MALICE+MIZER   \n",
       "2   1     MALICE MIZER     http://www.last.fm/music/MALICE+MIZER   \n",
       "3   2  Diary of Dreams  http://www.last.fm/music/Diary+of+Dreams   \n",
       "4   2  Diary of Dreams  http://www.last.fm/music/Diary+of+Dreams   \n",
       "\n",
       "                                          pictureURL  userID  artistID  weight  \n",
       "0    http://userserve-ak.last.fm/serve/252/10808.jpg      34         1     212  \n",
       "1    http://userserve-ak.last.fm/serve/252/10808.jpg     274         1     483  \n",
       "2    http://userserve-ak.last.fm/serve/252/10808.jpg     785         1      76  \n",
       "3  http://userserve-ak.last.fm/serve/252/3052066.jpg     135         2    1021  \n",
       "4  http://userserve-ak.last.fm/serve/252/3052066.jpg     257         2     152  "
      ]
     },
     "execution_count": 4,
     "metadata": {},
     "output_type": "execute_result"
    }
   ],
   "source": [
    "res1a = pd.merge(artist_info, user_artists, left_on='id', right_on='artistID')\n",
    "res1a.head()"
   ]
  },
  {
   "cell_type": "code",
   "execution_count": 5,
   "id": "553ebb95-7f22-4c22-8419-babc38af9641",
   "metadata": {
    "tags": []
   },
   "outputs": [
    {
     "data": {
      "text/html": [
       "<div>\n",
       "<style scoped>\n",
       "    .dataframe tbody tr th:only-of-type {\n",
       "        vertical-align: middle;\n",
       "    }\n",
       "\n",
       "    .dataframe tbody tr th {\n",
       "        vertical-align: top;\n",
       "    }\n",
       "\n",
       "    .dataframe thead th {\n",
       "        text-align: right;\n",
       "    }\n",
       "</style>\n",
       "<table border=\"1\" class=\"dataframe\">\n",
       "  <thead>\n",
       "    <tr style=\"text-align: right;\">\n",
       "      <th></th>\n",
       "      <th>userID</th>\n",
       "      <th>artistID</th>\n",
       "      <th>weight</th>\n",
       "    </tr>\n",
       "  </thead>\n",
       "  <tbody>\n",
       "  </tbody>\n",
       "</table>\n",
       "</div>"
      ],
      "text/plain": [
       "Empty DataFrame\n",
       "Columns: [userID, artistID, weight]\n",
       "Index: []"
      ]
     },
     "execution_count": 5,
     "metadata": {},
     "output_type": "execute_result"
    }
   ],
   "source": [
    "# Each row in the user_artists df conveys the information that the user with userID = ... has listened to the artist\n",
    "# with artistID = ... -> there is only one row for each userID,artistID pair. The no of times a user has listened to \n",
    "# a specific artist is conveyed by the column 'weight'\n",
    "user_artists[user_artists.duplicated(subset=['userID','artistID'])]  # or res1a[res1a.duplicated(subset=['userID','artistID'])]"
   ]
  },
  {
   "cell_type": "code",
   "execution_count": 19,
   "id": "21e331e1-2020-4aa2-a0dd-fe53f7a92fd0",
   "metadata": {
    "tags": []
   },
   "outputs": [
    {
     "data": {
      "text/plain": [
       "True"
      ]
     },
     "execution_count": 19,
     "metadata": {},
     "output_type": "execute_result"
    }
   ],
   "source": [
    "res1a[res1a['name'] == 'Britney Spears']['weight'].sum() == q1_0[q1_0['name']=='Britney Spears']['weight'].values[0]"
   ]
  },
  {
   "cell_type": "code",
   "execution_count": 20,
   "id": "6b9af245-cc34-4219-9641-64bb67f6cd8b",
   "metadata": {
    "tags": []
   },
   "outputs": [
    {
     "data": {
      "text/plain": [
       "<Axes: xlabel='name'>"
      ]
     },
     "execution_count": 20,
     "metadata": {},
     "output_type": "execute_result"
    },
    {
     "data": {
      "image/png": "[encoded data removed]",
      "text/plain": [
       "<Figure size 640x480 with 1 Axes>"
      ]
     },
     "metadata": {},
     "output_type": "display_data"
    }
   ],
   "source": [
    "# The ‘weight’ column provides the listening COUNT for each userID,artistID pair, so the sum of all ‘weight’ values corresponding\n",
    "# to a single artistID gives the total count of views their songs have got. \n",
    "\n",
    "q1_0_prelim = pd.pivot_table(data=res1a, index='name', values='weight', aggfunc='sum')\n",
    "q1_0_prelim = q1_0_prelim.sort_values(by='weight', ascending=False)\n",
    "q1_0 = q1_0_prelim.reset_index()  # reset_index converts the pivot's index into a column, aka I transform the\n",
    "# pivot table back to a pandas dataframe\n",
    "q1_0[:10].plot(x='name', y='weight', kind='bar')  "
   ]
  },
  {
   "cell_type": "code",
   "execution_count": 21,
   "id": "22b789c4-ca4f-459d-b07b-91038403c003",
   "metadata": {
    "tags": []
   },
   "outputs": [
    {
     "name": "stdout",
     "output_type": "stream",
     "text": [
      "The number of duplicated (userID, artistID) pairs in the \"user_artists\" csv and df is: 0\n"
     ]
    }
   ],
   "source": [
    "# each row in the user_artists df conveys the information that the user with userID = ... has listened to the artist\n",
    "# with artistID = ... -> there is only one row for each userID,artistID pair. The no of times a user has listened to \n",
    "# a specific artist is conveyed by the column 'weight'\n",
    "print(f'The number of duplicated (userID, artistID) pairs in the \"user_artists\" csv and df is: {user_artists[user_artists.duplicated(subset=[\"userID\",\"artistID\"])].shape[0]}')"
   ]
  },
  {
   "cell_type": "markdown",
   "id": "c3a791a1-a5b3-4568-97b2-0293b5022a03",
   "metadata": {},
   "source": [
    "# "
   ]
  },
  {
   "cell_type": "code",
   "execution_count": null,
   "id": "dcdf07fc-004a-48f8-a698-c2ea2ff1647e",
   "metadata": {},
   "outputs": [],
   "source": [
    "# Frequency of tags per user"
   ]
  },
  {
   "cell_type": "code",
   "execution_count": 24,
   "id": "18fec1c1-f06c-4b0b-87ef-c7cffb24dfb7",
   "metadata": {
    "tags": []
   },
   "outputs": [
    {
     "data": {
      "text/plain": [
       "<Axes: title={'center': 'Top 10 most used tags'}, xlabel='Tag Value', ylabel='Use Frequency'>"
      ]
     },
     "execution_count": 24,
     "metadata": {},
     "output_type": "execute_result"
    },
    {
     "data": {
      "image/png": "[encoded data removed]",
      "text/plain": [
       "<Figure size 640x480 with 1 Axes>"
      ]
     },
     "metadata": {},
     "output_type": "display_data"
    }
   ],
   "source": [
    "# Showing the top 10 most used tags (by their VALUES, as their IDs don't convey any meaning for displaying reasons).\n",
    "# I only show the top 10 because otherwise the plot gets over-crowded.\n",
    "\n",
    "# First, in order to tag values and not just IDs on the x-axis, I join the user_artists df with that containing further info on the tags.\n",
    "q1_1_prelim = pd.merge(tag_info, user_tags, on='tagID')\n",
    "\n",
    "# Then, I just create a bar plot of the frequencies with which the various values of the 'tagValue' column appear in the df's records.\n",
    "fig, ax = plt.subplots()\n",
    "q1_1_prelim2 = q1_1_prelim['tagValue'].value_counts().sort_values(ascending=False)\n",
    "plt.title('Top 10 most used tags')\n",
    "plt.xlabel('Tag Value')\n",
    "plt.ylabel('Use Frequency')\n",
    "q1_1_prelim2[:10].plot(ax=ax, kind='bar')"
   ]
  },
  {
   "cell_type": "code",
   "execution_count": 25,
   "id": "e1b0143e-181e-47b1-93d4-bf30fab7160c",
   "metadata": {
    "tags": []
   },
   "outputs": [
    {
     "data": {
      "text/html": [
       "<div>\n",
       "<style scoped>\n",
       "    .dataframe tbody tr th:only-of-type {\n",
       "        vertical-align: middle;\n",
       "    }\n",
       "\n",
       "    .dataframe tbody tr th {\n",
       "        vertical-align: top;\n",
       "    }\n",
       "\n",
       "    .dataframe thead th {\n",
       "        text-align: right;\n",
       "    }\n",
       "</style>\n",
       "<table border=\"1\" class=\"dataframe\">\n",
       "  <thead>\n",
       "    <tr style=\"text-align: right;\">\n",
       "      <th></th>\n",
       "      <th>index</th>\n",
       "      <th>tagValue</th>\n",
       "    </tr>\n",
       "  </thead>\n",
       "  <tbody>\n",
       "    <tr>\n",
       "      <th>0</th>\n",
       "      <td>rock</td>\n",
       "      <td>7503</td>\n",
       "    </tr>\n",
       "    <tr>\n",
       "      <th>1</th>\n",
       "      <td>pop</td>\n",
       "      <td>5418</td>\n",
       "    </tr>\n",
       "    <tr>\n",
       "      <th>2</th>\n",
       "      <td>alternative</td>\n",
       "      <td>5251</td>\n",
       "    </tr>\n",
       "    <tr>\n",
       "      <th>3</th>\n",
       "      <td>electronic</td>\n",
       "      <td>4672</td>\n",
       "    </tr>\n",
       "    <tr>\n",
       "      <th>4</th>\n",
       "      <td>indie</td>\n",
       "      <td>4458</td>\n",
       "    </tr>\n",
       "  </tbody>\n",
       "</table>\n",
       "</div>"
      ],
      "text/plain": [
       "         index  tagValue\n",
       "0         rock      7503\n",
       "1          pop      5418\n",
       "2  alternative      5251\n",
       "3   electronic      4672\n",
       "4        indie      4458"
      ]
     },
     "execution_count": 25,
     "metadata": {},
     "output_type": "execute_result"
    }
   ],
   "source": [
    "q1_1 = pd.DataFrame(q1_1_prelim2).reset_index()\n",
    "q1_1.head()"
   ]
  },
  {
   "cell_type": "markdown",
   "id": "4255792a-4b42-49d8-8b79-3681af63e2ac",
   "metadata": {},
   "source": [
    "# "
   ]
  },
  {
   "cell_type": "markdown",
   "id": "a4e9d51b-56b0-4681-bf72-37ee35de2332",
   "metadata": {
    "tags": []
   },
   "source": [
    "# Q1 - Outlier Detection"
   ]
  },
  {
   "cell_type": "code",
   "execution_count": 100,
   "id": "c549ca40-acd1-4ae9-9219-7bfcdc7b193d",
   "metadata": {
    "tags": []
   },
   "outputs": [],
   "source": [
    "# Z-score method\n",
    "# A Z-score describes how far a data point is from the mean. \n"
   ]
  },
  {
   "cell_type": "code",
   "execution_count": 114,
   "id": "d93cfe3e-3cb9-4072-9f94-7ad1f5d0b8a7",
   "metadata": {
    "tags": []
   },
   "outputs": [],
   "source": [
    "#sorted(list(res1_4), reverse=True)"
   ]
  },
  {
   "cell_type": "code",
   "execution_count": 283,
   "id": "9f586171-4f1c-475d-890d-5dd4d687a8c9",
   "metadata": {
    "tags": []
   },
   "outputs": [
    {
     "data": {
      "text/plain": [
       "Int64Index([  1,   2,   3,   4,   5,   6,   7,   8,   9,  10,\n",
       "            ...\n",
       "            611, 417, 155, 182, 393, 169, 106, 305, 148, 196],\n",
       "           dtype='int64', length=193)"
      ]
     },
     "execution_count": 283,
     "metadata": {},
     "output_type": "execute_result"
    }
   ],
   "source": [
    "user_artists['userID'].groupby(user_artists['artistID']).count().value_counts()"
   ]
  },
  {
   "cell_type": "code",
   "execution_count": 178,
   "id": "65cccba7-3945-4d4d-9241-880e6ffd031e",
   "metadata": {
    "tags": []
   },
   "outputs": [
    {
     "data": {
      "text/plain": [
       "Text(0, 0.5, 'Frequency of Listening Count')"
      ]
     },
     "execution_count": 178,
     "metadata": {},
     "output_type": "execute_result"
    },
    {
     "data": {
      "image/png": "[encoded data removed]",
      "text/plain": [
       "<Figure size 640x480 with 1 Axes>"
      ]
     },
     "metadata": {},
     "output_type": "display_data"
    }
   ],
   "source": [
    "# Checking if the Z-score method is valid in our case\n",
    "\n",
    "## Regarding the times that artists have been listened to by separate users (aka the listening freq of artists by users):\n",
    "res1_4 = user_artists['userID'].groupby(user_artists['artistID']).count().value_counts()\n",
    "# rr.index contains freqs, and rr.values the artistIDs\n",
    "plt.hist(res1_4.index)\n",
    "plt.title('Distribution of Single Artist Listening Counts')\n",
    "plt.xlabel('Listening Count')\n",
    "plt.ylabel('Frequency of Listening Count')\n",
    "# We see that the distribution of listening frequencies is very intensely skewed to the right, so we cannot state that \n",
    "# the empirical rule holds. As a result, our previous arguments are invalid."
   ]
  },
  {
   "cell_type": "code",
   "execution_count": 293,
   "id": "8a7ce501-1205-4e3f-aa7e-3a9f030c91e3",
   "metadata": {
    "tags": []
   },
   "outputs": [
    {
     "data": {
      "text/plain": [
       "113.0"
      ]
     },
     "execution_count": 293,
     "metadata": {},
     "output_type": "execute_result"
    }
   ],
   "source": [
    "# regarding the distr of counts of views for each artist\n",
    "k['weight'].quantile(q=0.25)"
   ]
  },
  {
   "cell_type": "code",
   "execution_count": 294,
   "id": "a4ea55cc-57ba-4ced-a14a-33e9a0d0cbe4",
   "metadata": {
    "tags": []
   },
   "outputs": [
    {
     "data": {
      "text/plain": [
       "1234.25"
      ]
     },
     "execution_count": 294,
     "metadata": {},
     "output_type": "execute_result"
    }
   ],
   "source": [
    "k['weight'].quantile(q=0.75)"
   ]
  },
  {
   "cell_type": "code",
   "execution_count": 292,
   "id": "b64011ac-3fdf-48a8-8e4e-d0813058ea72",
   "metadata": {
    "tags": []
   },
   "outputs": [
    {
     "data": {
      "text/plain": [
       "(1.0, 2393140.0)"
      ]
     },
     "execution_count": 292,
     "metadata": {},
     "output_type": "execute_result"
    },
    {
     "data": {
      "image/png": "[encoded data removed]",
      "text/plain": [
       "<Figure size 640x480 with 1 Axes>"
      ]
     },
     "metadata": {},
     "output_type": "display_data"
    }
   ],
   "source": [
    "plt.hist(k['weight'].value_counts().index, bins=1000)\n",
    "plt.ylim(k['weight'].value_counts().values.min(), k['weight'].value_counts().values.max())\n",
    "plt.xlim(k['weight'].value_counts().index.min(), k['weight'].value_counts().index.max())\n",
    "# extremely skewed distribution -> Z-score is irrelevan"
   ]
  },
  {
   "cell_type": "code",
   "execution_count": 277,
   "id": "a7367813-21b9-4939-b3cb-6528d1c68184",
   "metadata": {
    "tags": []
   },
   "outputs": [
    {
     "data": {
      "text/plain": [
       "(1.0, 2393140.0)"
      ]
     },
     "execution_count": 277,
     "metadata": {},
     "output_type": "execute_result"
    },
    {
     "data": {
      "image/png": "[encoded data removed]",
      "text/plain": [
       "<Figure size 640x480 with 1 Axes>"
      ]
     },
     "metadata": {},
     "output_type": "display_data"
    }
   ],
   "source": [
    "plt.hist(k['weight'].values, bins=100)\n",
    "plt.xlim((k['weight'].min(),k['weight'].max()))"
   ]
  },
  {
   "cell_type": "code",
   "execution_count": 33,
   "id": "fa3c4b4f-7526-4b47-b768-8bf41b30c308",
   "metadata": {
    "tags": []
   },
   "outputs": [
    {
     "data": {
      "text/plain": [
       "<Axes: xlabel='userID'>"
      ]
     },
     "execution_count": 33,
     "metadata": {},
     "output_type": "execute_result"
    },
    {
     "data": {
      "image/png": "[encoded data removed]",
      "text/plain": [
       "<Figure size 640x480 with 1 Axes>"
      ]
     },
     "metadata": {},
     "output_type": "display_data"
    }
   ],
   "source": [
    "# total listening time for users \n",
    "# for each user, I'll add together the views they've made to artists' songs\n",
    "q1_2_prelim = pd.pivot_table(data=user_artists, index=['userID'], values=['weight'], aggfunc=np.sum)\n",
    "q1_2_prelim = q1_2_prelim.sort_values(by='weight', ascending=False)\n",
    "q1_2 = q1_2_prelim.reset_index()\n",
    "q1_2[:10].plot(x='userID', y='weight', kind='bar')# displaying top 10 most active users"
   ]
  },
  {
   "cell_type": "code",
   "execution_count": 298,
   "id": "df354252-40a9-449e-8ddd-1741502afc23",
   "metadata": {
    "tags": []
   },
   "outputs": [
    {
     "data": {
      "text/plain": [
       "(3.0, 480039.0)"
      ]
     },
     "execution_count": 298,
     "metadata": {},
     "output_type": "execute_result"
    },
    {
     "data": {
      "image/png": "[encoded data removed]",
      "text/plain": [
       "<Figure size 640x480 with 1 Axes>"
      ]
     },
     "metadata": {},
     "output_type": "display_data"
    }
   ],
   "source": [
    "# frequency of user views\n",
    "plt.hist(j['weight'].values, bins=100)\n",
    "plt.xlim((j['weight'].min(),j['weight'].max()))  # very skewed distr again"
   ]
  },
  {
   "cell_type": "code",
   "execution_count": 326,
   "id": "1f71ac3e-f7a6-4031-bf2f-3f0d4009fbee",
   "metadata": {
    "tags": []
   },
   "outputs": [
    {
     "data": {
      "text/html": [
       "<div>\n",
       "<style scoped>\n",
       "    .dataframe tbody tr th:only-of-type {\n",
       "        vertical-align: middle;\n",
       "    }\n",
       "\n",
       "    .dataframe tbody tr th {\n",
       "        vertical-align: top;\n",
       "    }\n",
       "\n",
       "    .dataframe thead th {\n",
       "        text-align: right;\n",
       "    }\n",
       "</style>\n",
       "<table border=\"1\" class=\"dataframe\">\n",
       "  <thead>\n",
       "    <tr style=\"text-align: right;\">\n",
       "      <th></th>\n",
       "      <th>index</th>\n",
       "      <th>tagValue</th>\n",
       "    </tr>\n",
       "  </thead>\n",
       "  <tbody>\n",
       "    <tr>\n",
       "      <th>0</th>\n",
       "      <td>rock</td>\n",
       "      <td>7503</td>\n",
       "    </tr>\n",
       "    <tr>\n",
       "      <th>1</th>\n",
       "      <td>pop</td>\n",
       "      <td>5418</td>\n",
       "    </tr>\n",
       "    <tr>\n",
       "      <th>2</th>\n",
       "      <td>alternative</td>\n",
       "      <td>5251</td>\n",
       "    </tr>\n",
       "    <tr>\n",
       "      <th>3</th>\n",
       "      <td>electronic</td>\n",
       "      <td>4672</td>\n",
       "    </tr>\n",
       "    <tr>\n",
       "      <th>4</th>\n",
       "      <td>indie</td>\n",
       "      <td>4458</td>\n",
       "    </tr>\n",
       "    <tr>\n",
       "      <th>5</th>\n",
       "      <td>female vocalists</td>\n",
       "      <td>4228</td>\n",
       "    </tr>\n",
       "  </tbody>\n",
       "</table>\n",
       "</div>"
      ],
      "text/plain": [
       "              index  tagValue\n",
       "0              rock      7503\n",
       "1               pop      5418\n",
       "2       alternative      5251\n",
       "3        electronic      4672\n",
       "4             indie      4458\n",
       "5  female vocalists      4228"
      ]
     },
     "execution_count": 326,
     "metadata": {},
     "output_type": "execute_result"
    }
   ],
   "source": [
    "m[m['tagValue'] > 3000]"
   ]
  },
  {
   "cell_type": "code",
   "execution_count": 327,
   "id": "be21b5d7-d80b-4acf-8b6f-0a3bf2427f30",
   "metadata": {
    "tags": []
   },
   "outputs": [
    {
     "data": {
      "text/plain": [
       "(0.0, 200.0)"
      ]
     },
     "execution_count": 327,
     "metadata": {},
     "output_type": "execute_result"
    },
    {
     "data": {
      "image/png": "[encoded data removed]",
      "text/plain": [
       "<Figure size 640x480 with 1 Axes>"
      ]
     },
     "metadata": {},
     "output_type": "display_data"
    }
   ],
   "source": [
    "# frequency of tag usage \n",
    "plt.hist(m['tagValue'].values, bins=100)\n",
    "plt.xlim((m['tagValue'].min(),m['tagValue'].max()))  # very skewed distr again\n",
    "plt.ylim(0,200) # so that more values can be displayed on the graph\n",
    "\n",
    "### very skewed distribution once again"
   ]
  },
  {
   "cell_type": "code",
   "execution_count": null,
   "id": "1bcfe2db-877d-499b-bda5-513a64b4f365",
   "metadata": {},
   "outputs": [],
   "source": [
    "# (the previous are going to be used in order to show that the Z-score method here is invalid)"
   ]
  },
  {
   "cell_type": "markdown",
   "id": "d5c81bcf-34a4-4d8b-845f-f3e810753c71",
   "metadata": {},
   "source": [
    "# "
   ]
  },
  {
   "cell_type": "code",
   "execution_count": 328,
   "id": "4dd5a82c-aef8-4368-bf89-a5e8232267ed",
   "metadata": {
    "tags": []
   },
   "outputs": [],
   "source": [
    "### first outlier detection method - Z-score"
   ]
  },
  {
   "cell_type": "code",
   "execution_count": null,
   "id": "8b030f43-1ab2-4e00-bcde-4c4ae4fbaa45",
   "metadata": {},
   "outputs": [],
   "source": [
    "# how many times they have been listened to (for artists)"
   ]
  },
  {
   "cell_type": "code",
   "execution_count": 40,
   "id": "5acbe665-a930-4f89-ad8c-ec4c30677dda",
   "metadata": {
    "tags": []
   },
   "outputs": [
    {
     "data": {
      "text/html": [
       "<div>\n",
       "<style scoped>\n",
       "    .dataframe tbody tr th:only-of-type {\n",
       "        vertical-align: middle;\n",
       "    }\n",
       "\n",
       "    .dataframe tbody tr th {\n",
       "        vertical-align: top;\n",
       "    }\n",
       "\n",
       "    .dataframe thead th {\n",
       "        text-align: right;\n",
       "    }\n",
       "</style>\n",
       "<table border=\"1\" class=\"dataframe\">\n",
       "  <thead>\n",
       "    <tr style=\"text-align: right;\">\n",
       "      <th></th>\n",
       "      <th>name</th>\n",
       "      <th>weight</th>\n",
       "      <th>Z-score</th>\n",
       "    </tr>\n",
       "  </thead>\n",
       "  <tbody>\n",
       "    <tr>\n",
       "      <th>0</th>\n",
       "      <td>Britney Spears</td>\n",
       "      <td>2393140</td>\n",
       "      <td>70.066343</td>\n",
       "    </tr>\n",
       "    <tr>\n",
       "      <th>1</th>\n",
       "      <td>Depeche Mode</td>\n",
       "      <td>1301308</td>\n",
       "      <td>38.047192</td>\n",
       "    </tr>\n",
       "    <tr>\n",
       "      <th>2</th>\n",
       "      <td>Lady Gaga</td>\n",
       "      <td>1291387</td>\n",
       "      <td>37.756248</td>\n",
       "    </tr>\n",
       "    <tr>\n",
       "      <th>3</th>\n",
       "      <td>Christina Aguilera</td>\n",
       "      <td>1058405</td>\n",
       "      <td>30.923799</td>\n",
       "    </tr>\n",
       "    <tr>\n",
       "      <th>4</th>\n",
       "      <td>Paramore</td>\n",
       "      <td>963449</td>\n",
       "      <td>28.139112</td>\n",
       "    </tr>\n",
       "    <tr>\n",
       "      <th>...</th>\n",
       "      <td>...</td>\n",
       "      <td>...</td>\n",
       "      <td>...</td>\n",
       "    </tr>\n",
       "    <tr>\n",
       "      <th>80</th>\n",
       "      <td>Queen</td>\n",
       "      <td>114505</td>\n",
       "      <td>3.242914</td>\n",
       "    </tr>\n",
       "    <tr>\n",
       "      <th>81</th>\n",
       "      <td>Bright Eyes</td>\n",
       "      <td>113631</td>\n",
       "      <td>3.217283</td>\n",
       "    </tr>\n",
       "    <tr>\n",
       "      <th>82</th>\n",
       "      <td>Florence + the Machine</td>\n",
       "      <td>113467</td>\n",
       "      <td>3.212473</td>\n",
       "    </tr>\n",
       "    <tr>\n",
       "      <th>83</th>\n",
       "      <td>Nelly Furtado</td>\n",
       "      <td>110218</td>\n",
       "      <td>3.117193</td>\n",
       "    </tr>\n",
       "    <tr>\n",
       "      <th>84</th>\n",
       "      <td>Selena Gomez &amp; the Scene</td>\n",
       "      <td>110123</td>\n",
       "      <td>3.114407</td>\n",
       "    </tr>\n",
       "  </tbody>\n",
       "</table>\n",
       "<p>85 rows × 3 columns</p>\n",
       "</div>"
      ],
      "text/plain": [
       "                        name   weight    Z-score\n",
       "0             Britney Spears  2393140  70.066343\n",
       "1               Depeche Mode  1301308  38.047192\n",
       "2                  Lady Gaga  1291387  37.756248\n",
       "3         Christina Aguilera  1058405  30.923799\n",
       "4                   Paramore   963449  28.139112\n",
       "..                       ...      ...        ...\n",
       "80                     Queen   114505   3.242914\n",
       "81               Bright Eyes   113631   3.217283\n",
       "82    Florence + the Machine   113467   3.212473\n",
       "83             Nelly Furtado   110218   3.117193\n",
       "84  Selena Gomez & the Scene   110123   3.114407\n",
       "\n",
       "[85 rows x 3 columns]"
      ]
     },
     "execution_count": 40,
     "metadata": {},
     "output_type": "execute_result"
    }
   ],
   "source": [
    "q1_0['Z-score'] = (q1_0['weight'] - q1_0['weight'].mean()) / q1_0['weight'].std()\n",
    "q1_0[abs(q1_0['Z-score']) > 3]"
   ]
  },
  {
   "cell_type": "markdown",
   "id": "968d6f42-d5d5-4f1f-be18-5028c553adeb",
   "metadata": {},
   "source": [
    "# "
   ]
  },
  {
   "cell_type": "code",
   "execution_count": 41,
   "id": "dcff245f-81f7-4ecf-a603-eb475c5c6fb7",
   "metadata": {
    "tags": []
   },
   "outputs": [
    {
     "data": {
      "text/html": [
       "<div>\n",
       "<style scoped>\n",
       "    .dataframe tbody tr th:only-of-type {\n",
       "        vertical-align: middle;\n",
       "    }\n",
       "\n",
       "    .dataframe tbody tr th {\n",
       "        vertical-align: top;\n",
       "    }\n",
       "\n",
       "    .dataframe thead th {\n",
       "        text-align: right;\n",
       "    }\n",
       "</style>\n",
       "<table border=\"1\" class=\"dataframe\">\n",
       "  <thead>\n",
       "    <tr style=\"text-align: right;\">\n",
       "      <th></th>\n",
       "      <th>index</th>\n",
       "      <th>tagValue</th>\n",
       "      <th>Z-score</th>\n",
       "    </tr>\n",
       "  </thead>\n",
       "  <tbody>\n",
       "    <tr>\n",
       "      <th>0</th>\n",
       "      <td>rock</td>\n",
       "      <td>7503</td>\n",
       "      <td>44.447770</td>\n",
       "    </tr>\n",
       "    <tr>\n",
       "      <th>1</th>\n",
       "      <td>pop</td>\n",
       "      <td>5418</td>\n",
       "      <td>32.064662</td>\n",
       "    </tr>\n",
       "    <tr>\n",
       "      <th>2</th>\n",
       "      <td>alternative</td>\n",
       "      <td>5251</td>\n",
       "      <td>31.072825</td>\n",
       "    </tr>\n",
       "    <tr>\n",
       "      <th>3</th>\n",
       "      <td>electronic</td>\n",
       "      <td>4672</td>\n",
       "      <td>27.634062</td>\n",
       "    </tr>\n",
       "    <tr>\n",
       "      <th>4</th>\n",
       "      <td>indie</td>\n",
       "      <td>4458</td>\n",
       "      <td>26.363086</td>\n",
       "    </tr>\n",
       "    <tr>\n",
       "      <th>...</th>\n",
       "      <td>...</td>\n",
       "      <td>...</td>\n",
       "      <td>...</td>\n",
       "    </tr>\n",
       "    <tr>\n",
       "      <th>63</th>\n",
       "      <td>female vocalist</td>\n",
       "      <td>579</td>\n",
       "      <td>3.325159</td>\n",
       "    </tr>\n",
       "    <tr>\n",
       "      <th>64</th>\n",
       "      <td>post-hardcore</td>\n",
       "      <td>567</td>\n",
       "      <td>3.253889</td>\n",
       "    </tr>\n",
       "    <tr>\n",
       "      <th>65</th>\n",
       "      <td>brazilian</td>\n",
       "      <td>565</td>\n",
       "      <td>3.242011</td>\n",
       "    </tr>\n",
       "    <tr>\n",
       "      <th>66</th>\n",
       "      <td>amazing</td>\n",
       "      <td>539</td>\n",
       "      <td>3.087593</td>\n",
       "    </tr>\n",
       "    <tr>\n",
       "      <th>67</th>\n",
       "      <td>pop punk</td>\n",
       "      <td>531</td>\n",
       "      <td>3.040080</td>\n",
       "    </tr>\n",
       "  </tbody>\n",
       "</table>\n",
       "<p>68 rows × 3 columns</p>\n",
       "</div>"
      ],
      "text/plain": [
       "              index  tagValue    Z-score\n",
       "0              rock      7503  44.447770\n",
       "1               pop      5418  32.064662\n",
       "2       alternative      5251  31.072825\n",
       "3        electronic      4672  27.634062\n",
       "4             indie      4458  26.363086\n",
       "..              ...       ...        ...\n",
       "63  female vocalist       579   3.325159\n",
       "64    post-hardcore       567   3.253889\n",
       "65        brazilian       565   3.242011\n",
       "66          amazing       539   3.087593\n",
       "67         pop punk       531   3.040080\n",
       "\n",
       "[68 rows x 3 columns]"
      ]
     },
     "execution_count": 41,
     "metadata": {},
     "output_type": "execute_result"
    }
   ],
   "source": [
    "# how many times they have been used (for tags)\n",
    "q1_1['Z-score'] = (q1_1['tagValue'] - q1_1['tagValue'].mean()) / q1_1['tagValue'].std()\n",
    "q1_1[abs(q1_1['Z-score']) > 3]"
   ]
  },
  {
   "cell_type": "markdown",
   "id": "60b6a743-0823-4726-bfee-54cb683141ed",
   "metadata": {},
   "source": [
    "# "
   ]
  },
  {
   "cell_type": "code",
   "execution_count": 42,
   "id": "d59d7fc5-873b-4928-9b6c-5f55a67fb31d",
   "metadata": {
    "tags": []
   },
   "outputs": [
    {
     "data": {
      "text/html": [
       "<div>\n",
       "<style scoped>\n",
       "    .dataframe tbody tr th:only-of-type {\n",
       "        vertical-align: middle;\n",
       "    }\n",
       "\n",
       "    .dataframe tbody tr th {\n",
       "        vertical-align: top;\n",
       "    }\n",
       "\n",
       "    .dataframe thead th {\n",
       "        text-align: right;\n",
       "    }\n",
       "</style>\n",
       "<table border=\"1\" class=\"dataframe\">\n",
       "  <thead>\n",
       "    <tr style=\"text-align: right;\">\n",
       "      <th></th>\n",
       "      <th>userID</th>\n",
       "      <th>weight</th>\n",
       "      <th>Z-score</th>\n",
       "    </tr>\n",
       "  </thead>\n",
       "  <tbody>\n",
       "    <tr>\n",
       "      <th>0</th>\n",
       "      <td>757</td>\n",
       "      <td>480039</td>\n",
       "      <td>9.097887</td>\n",
       "    </tr>\n",
       "    <tr>\n",
       "      <th>1</th>\n",
       "      <td>2000</td>\n",
       "      <td>468409</td>\n",
       "      <td>8.859296</td>\n",
       "    </tr>\n",
       "    <tr>\n",
       "      <th>2</th>\n",
       "      <td>1418</td>\n",
       "      <td>416349</td>\n",
       "      <td>7.791279</td>\n",
       "    </tr>\n",
       "    <tr>\n",
       "      <th>3</th>\n",
       "      <td>1642</td>\n",
       "      <td>388251</td>\n",
       "      <td>7.214846</td>\n",
       "    </tr>\n",
       "    <tr>\n",
       "      <th>4</th>\n",
       "      <td>1094</td>\n",
       "      <td>379125</td>\n",
       "      <td>7.027625</td>\n",
       "    </tr>\n",
       "    <tr>\n",
       "      <th>5</th>\n",
       "      <td>1942</td>\n",
       "      <td>348527</td>\n",
       "      <td>6.399903</td>\n",
       "    </tr>\n",
       "    <tr>\n",
       "      <th>6</th>\n",
       "      <td>2071</td>\n",
       "      <td>338400</td>\n",
       "      <td>6.192147</td>\n",
       "    </tr>\n",
       "    <tr>\n",
       "      <th>7</th>\n",
       "      <td>2031</td>\n",
       "      <td>329980</td>\n",
       "      <td>6.019409</td>\n",
       "    </tr>\n",
       "    <tr>\n",
       "      <th>8</th>\n",
       "      <td>514</td>\n",
       "      <td>329782</td>\n",
       "      <td>6.015347</td>\n",
       "    </tr>\n",
       "    <tr>\n",
       "      <th>9</th>\n",
       "      <td>387</td>\n",
       "      <td>322661</td>\n",
       "      <td>5.869259</td>\n",
       "    </tr>\n",
       "    <tr>\n",
       "      <th>10</th>\n",
       "      <td>1146</td>\n",
       "      <td>308167</td>\n",
       "      <td>5.571913</td>\n",
       "    </tr>\n",
       "    <tr>\n",
       "      <th>11</th>\n",
       "      <td>1210</td>\n",
       "      <td>294016</td>\n",
       "      <td>5.281604</td>\n",
       "    </tr>\n",
       "    <tr>\n",
       "      <th>12</th>\n",
       "      <td>107</td>\n",
       "      <td>277680</td>\n",
       "      <td>4.946469</td>\n",
       "    </tr>\n",
       "    <tr>\n",
       "      <th>13</th>\n",
       "      <td>1905</td>\n",
       "      <td>276295</td>\n",
       "      <td>4.918056</td>\n",
       "    </tr>\n",
       "    <tr>\n",
       "      <th>14</th>\n",
       "      <td>385</td>\n",
       "      <td>259106</td>\n",
       "      <td>4.565421</td>\n",
       "    </tr>\n",
       "    <tr>\n",
       "      <th>15</th>\n",
       "      <td>12</td>\n",
       "      <td>256144</td>\n",
       "      <td>4.504656</td>\n",
       "    </tr>\n",
       "    <tr>\n",
       "      <th>16</th>\n",
       "      <td>903</td>\n",
       "      <td>255533</td>\n",
       "      <td>4.492121</td>\n",
       "    </tr>\n",
       "    <tr>\n",
       "      <th>17</th>\n",
       "      <td>459</td>\n",
       "      <td>255516</td>\n",
       "      <td>4.491772</td>\n",
       "    </tr>\n",
       "    <tr>\n",
       "      <th>18</th>\n",
       "      <td>1664</td>\n",
       "      <td>251560</td>\n",
       "      <td>4.410614</td>\n",
       "    </tr>\n",
       "    <tr>\n",
       "      <th>19</th>\n",
       "      <td>1236</td>\n",
       "      <td>248680</td>\n",
       "      <td>4.351531</td>\n",
       "    </tr>\n",
       "    <tr>\n",
       "      <th>20</th>\n",
       "      <td>446</td>\n",
       "      <td>244556</td>\n",
       "      <td>4.266926</td>\n",
       "    </tr>\n",
       "    <tr>\n",
       "      <th>21</th>\n",
       "      <td>1111</td>\n",
       "      <td>243124</td>\n",
       "      <td>4.237549</td>\n",
       "    </tr>\n",
       "    <tr>\n",
       "      <th>22</th>\n",
       "      <td>1195</td>\n",
       "      <td>240927</td>\n",
       "      <td>4.192477</td>\n",
       "    </tr>\n",
       "    <tr>\n",
       "      <th>23</th>\n",
       "      <td>2072</td>\n",
       "      <td>240173</td>\n",
       "      <td>4.177009</td>\n",
       "    </tr>\n",
       "    <tr>\n",
       "      <th>24</th>\n",
       "      <td>1339</td>\n",
       "      <td>240166</td>\n",
       "      <td>4.176865</td>\n",
       "    </tr>\n",
       "    <tr>\n",
       "      <th>25</th>\n",
       "      <td>1086</td>\n",
       "      <td>235137</td>\n",
       "      <td>4.073695</td>\n",
       "    </tr>\n",
       "    <tr>\n",
       "      <th>26</th>\n",
       "      <td>621</td>\n",
       "      <td>233807</td>\n",
       "      <td>4.046409</td>\n",
       "    </tr>\n",
       "    <tr>\n",
       "      <th>27</th>\n",
       "      <td>581</td>\n",
       "      <td>232504</td>\n",
       "      <td>4.019678</td>\n",
       "    </tr>\n",
       "    <tr>\n",
       "      <th>28</th>\n",
       "      <td>584</td>\n",
       "      <td>232475</td>\n",
       "      <td>4.019083</td>\n",
       "    </tr>\n",
       "    <tr>\n",
       "      <th>29</th>\n",
       "      <td>734</td>\n",
       "      <td>230001</td>\n",
       "      <td>3.968329</td>\n",
       "    </tr>\n",
       "    <tr>\n",
       "      <th>30</th>\n",
       "      <td>1924</td>\n",
       "      <td>223795</td>\n",
       "      <td>3.841012</td>\n",
       "    </tr>\n",
       "    <tr>\n",
       "      <th>31</th>\n",
       "      <td>938</td>\n",
       "      <td>217254</td>\n",
       "      <td>3.706823</td>\n",
       "    </tr>\n",
       "    <tr>\n",
       "      <th>32</th>\n",
       "      <td>778</td>\n",
       "      <td>216037</td>\n",
       "      <td>3.681856</td>\n",
       "    </tr>\n",
       "    <tr>\n",
       "      <th>33</th>\n",
       "      <td>1301</td>\n",
       "      <td>210198</td>\n",
       "      <td>3.562068</td>\n",
       "    </tr>\n",
       "    <tr>\n",
       "      <th>34</th>\n",
       "      <td>428</td>\n",
       "      <td>203645</td>\n",
       "      <td>3.427633</td>\n",
       "    </tr>\n",
       "    <tr>\n",
       "      <th>35</th>\n",
       "      <td>104</td>\n",
       "      <td>200979</td>\n",
       "      <td>3.372939</td>\n",
       "    </tr>\n",
       "    <tr>\n",
       "      <th>36</th>\n",
       "      <td>1961</td>\n",
       "      <td>198651</td>\n",
       "      <td>3.325180</td>\n",
       "    </tr>\n",
       "    <tr>\n",
       "      <th>37</th>\n",
       "      <td>455</td>\n",
       "      <td>192291</td>\n",
       "      <td>3.194704</td>\n",
       "    </tr>\n",
       "    <tr>\n",
       "      <th>38</th>\n",
       "      <td>164</td>\n",
       "      <td>192063</td>\n",
       "      <td>3.190027</td>\n",
       "    </tr>\n",
       "    <tr>\n",
       "      <th>39</th>\n",
       "      <td>113</td>\n",
       "      <td>191781</td>\n",
       "      <td>3.184241</td>\n",
       "    </tr>\n",
       "    <tr>\n",
       "      <th>40</th>\n",
       "      <td>1478</td>\n",
       "      <td>189034</td>\n",
       "      <td>3.127886</td>\n",
       "    </tr>\n",
       "    <tr>\n",
       "      <th>41</th>\n",
       "      <td>541</td>\n",
       "      <td>186842</td>\n",
       "      <td>3.082917</td>\n",
       "    </tr>\n",
       "    <tr>\n",
       "      <th>42</th>\n",
       "      <td>946</td>\n",
       "      <td>184251</td>\n",
       "      <td>3.029763</td>\n",
       "    </tr>\n",
       "  </tbody>\n",
       "</table>\n",
       "</div>"
      ],
      "text/plain": [
       "    userID  weight   Z-score\n",
       "0      757  480039  9.097887\n",
       "1     2000  468409  8.859296\n",
       "2     1418  416349  7.791279\n",
       "3     1642  388251  7.214846\n",
       "4     1094  379125  7.027625\n",
       "5     1942  348527  6.399903\n",
       "6     2071  338400  6.192147\n",
       "7     2031  329980  6.019409\n",
       "8      514  329782  6.015347\n",
       "9      387  322661  5.869259\n",
       "10    1146  308167  5.571913\n",
       "11    1210  294016  5.281604\n",
       "12     107  277680  4.946469\n",
       "13    1905  276295  4.918056\n",
       "14     385  259106  4.565421\n",
       "15      12  256144  4.504656\n",
       "16     903  255533  4.492121\n",
       "17     459  255516  4.491772\n",
       "18    1664  251560  4.410614\n",
       "19    1236  248680  4.351531\n",
       "20     446  244556  4.266926\n",
       "21    1111  243124  4.237549\n",
       "22    1195  240927  4.192477\n",
       "23    2072  240173  4.177009\n",
       "24    1339  240166  4.176865\n",
       "25    1086  235137  4.073695\n",
       "26     621  233807  4.046409\n",
       "27     581  232504  4.019678\n",
       "28     584  232475  4.019083\n",
       "29     734  230001  3.968329\n",
       "30    1924  223795  3.841012\n",
       "31     938  217254  3.706823\n",
       "32     778  216037  3.681856\n",
       "33    1301  210198  3.562068\n",
       "34     428  203645  3.427633\n",
       "35     104  200979  3.372939\n",
       "36    1961  198651  3.325180\n",
       "37     455  192291  3.194704\n",
       "38     164  192063  3.190027\n",
       "39     113  191781  3.184241\n",
       "40    1478  189034  3.127886\n",
       "41     541  186842  3.082917\n",
       "42     946  184251  3.029763"
      ]
     },
     "execution_count": 42,
     "metadata": {},
     "output_type": "execute_result"
    }
   ],
   "source": [
    "# total listening time for users\n",
    "q1_2['Z-score'] = (q1_2_working['weight'] - q1_2_working['weight'].mean()) / q1_2_working['weight'].std()\n",
    "q1_2[abs(q1_2['Z-score']) > 3]"
   ]
  },
  {
   "cell_type": "code",
   "execution_count": null,
   "id": "23f0854a-72d5-4e62-8546-a97e14294a40",
   "metadata": {
    "tags": []
   },
   "outputs": [],
   "source": []
  },
  {
   "cell_type": "code",
   "execution_count": 39,
   "id": "ff1a20ab-55ef-40df-904b-3b0f1130e817",
   "metadata": {
    "tags": []
   },
   "outputs": [],
   "source": [
    "### second outlier detection method - IQR method\n",
    "#  https://towardsdatascience.com/outlier-detection-methods-in-machine-learning-1c8b7cca6cb8\n",
    "#  https://online.stat.psu.edu/stat200/lesson/3/3.2\n",
    "#  https://www.khanacademy.org/math/statistics-probability/summarizing-quantitative-data/box-whisker-plots/a/identifying-outliers-iqr-rule\n",
    "# It works similarly to the Z-score method in that it sets a threshold for a custom metric so as to deem \n",
    "# various values as outliers or not. Instead of Z=-3 and Z=3 as the boundary values (as in the Z-score method), it \n",
    "# considers the values lower_bound=q1-1.5*IQR and upper_bound=q3+1.5*IQR,\n",
    "# where q1, q3 are the 1st and 3rd quartiles, respectively, \n",
    "# and IQR is the interquartile range of the distribution of the random variable (=q3-q1)"
   ]
  },
  {
   "cell_type": "code",
   "execution_count": null,
   "id": "3aefb373-0433-4624-b4a6-963f9274bf1e",
   "metadata": {},
   "outputs": [],
   "source": [
    "# I then proceed with calculating the outliers and displaying samples of them"
   ]
  },
  {
   "cell_type": "code",
   "execution_count": null,
   "id": "c3287164-1229-46f7-b795-2aa90b0553fa",
   "metadata": {},
   "outputs": [],
   "source": [
    "# then I state the difference in the two methods and show that the use of the Z-score method here is irrelevant"
   ]
  },
  {
   "cell_type": "code",
   "execution_count": null,
   "id": "8faf1101-1fc9-4ecc-b45b-8591fa153ce9",
   "metadata": {},
   "outputs": [],
   "source": []
  },
  {
   "cell_type": "code",
   "execution_count": null,
   "id": "4ffa6cc1-1699-47df-bd79-4f240e1448ae",
   "metadata": {},
   "outputs": [],
   "source": []
  },
  {
   "cell_type": "code",
   "execution_count": null,
   "id": "bde2ced5-642b-4382-a4bf-c8cf1126f4ca",
   "metadata": {},
   "outputs": [],
   "source": [
    "# The differences between the two methods lies in the different measures they use to make the decision whether an observed value\n",
    "# for a random variable is an outlier or not, but also in the conditions that must hold so that their usage is valid.\n",
    "# In more detail, the Z-score method requires that the random variable's distribution approximates the normal distribution, so that\n",
    "# the arbitrary thresholds imposed can be justified on the basis of the empirical rule. Otherwise, the results of the method cannot \n",
    "# be taken into account. On the other hand, the IQR method doesn't make any distribution assumption."
   ]
  },
  {
   "cell_type": "code",
   "execution_count": 43,
   "id": "ebe51291-769b-4b67-9a67-8ef105c709c8",
   "metadata": {
    "tags": []
   },
   "outputs": [],
   "source": [
    "aaa = q1_2.copy()"
   ]
  },
  {
   "cell_type": "code",
   "execution_count": 49,
   "id": "12fc23d4-d141-468d-bd11-4da04db4867f",
   "metadata": {
    "tags": []
   },
   "outputs": [],
   "source": [
    "q3_ = aaa['weight'].quantile(q=0.75)\n",
    "q1_ = aaa['weight'].quantile(q=0.25)\n",
    "iqr_ = q3_ - q1_ \n",
    "aaa['IQR_meth'] = (aaa['weight'] >= q3_ + 1.5 * iqr_) | (aaa['weight'] <= q1_ - 1.5 * iqr_)"
   ]
  },
  {
   "cell_type": "code",
   "execution_count": 51,
   "id": "9cbfc301-4f34-4e61-b492-49b75b5d4a5a",
   "metadata": {
    "tags": []
   },
   "outputs": [
    {
     "data": {
      "text/html": [
       "<div>\n",
       "<style scoped>\n",
       "    .dataframe tbody tr th:only-of-type {\n",
       "        vertical-align: middle;\n",
       "    }\n",
       "\n",
       "    .dataframe tbody tr th {\n",
       "        vertical-align: top;\n",
       "    }\n",
       "\n",
       "    .dataframe thead th {\n",
       "        text-align: right;\n",
       "    }\n",
       "</style>\n",
       "<table border=\"1\" class=\"dataframe\">\n",
       "  <thead>\n",
       "    <tr style=\"text-align: right;\">\n",
       "      <th></th>\n",
       "      <th>userID</th>\n",
       "      <th>weight</th>\n",
       "      <th>Z-score</th>\n",
       "      <th>IQR_meth</th>\n",
       "    </tr>\n",
       "  </thead>\n",
       "  <tbody>\n",
       "    <tr>\n",
       "      <th>0</th>\n",
       "      <td>757</td>\n",
       "      <td>480039</td>\n",
       "      <td>9.097887</td>\n",
       "      <td>True</td>\n",
       "    </tr>\n",
       "    <tr>\n",
       "      <th>1</th>\n",
       "      <td>2000</td>\n",
       "      <td>468409</td>\n",
       "      <td>8.859296</td>\n",
       "      <td>True</td>\n",
       "    </tr>\n",
       "    <tr>\n",
       "      <th>2</th>\n",
       "      <td>1418</td>\n",
       "      <td>416349</td>\n",
       "      <td>7.791279</td>\n",
       "      <td>True</td>\n",
       "    </tr>\n",
       "    <tr>\n",
       "      <th>3</th>\n",
       "      <td>1642</td>\n",
       "      <td>388251</td>\n",
       "      <td>7.214846</td>\n",
       "      <td>True</td>\n",
       "    </tr>\n",
       "    <tr>\n",
       "      <th>4</th>\n",
       "      <td>1094</td>\n",
       "      <td>379125</td>\n",
       "      <td>7.027625</td>\n",
       "      <td>True</td>\n",
       "    </tr>\n",
       "    <tr>\n",
       "      <th>...</th>\n",
       "      <td>...</td>\n",
       "      <td>...</td>\n",
       "      <td>...</td>\n",
       "      <td>...</td>\n",
       "    </tr>\n",
       "    <tr>\n",
       "      <th>156</th>\n",
       "      <td>1233</td>\n",
       "      <td>94475</td>\n",
       "      <td>1.187998</td>\n",
       "      <td>True</td>\n",
       "    </tr>\n",
       "    <tr>\n",
       "      <th>157</th>\n",
       "      <td>1196</td>\n",
       "      <td>93910</td>\n",
       "      <td>1.176407</td>\n",
       "      <td>True</td>\n",
       "    </tr>\n",
       "    <tr>\n",
       "      <th>158</th>\n",
       "      <td>123</td>\n",
       "      <td>93771</td>\n",
       "      <td>1.173555</td>\n",
       "      <td>True</td>\n",
       "    </tr>\n",
       "    <tr>\n",
       "      <th>159</th>\n",
       "      <td>498</td>\n",
       "      <td>93308</td>\n",
       "      <td>1.164057</td>\n",
       "      <td>True</td>\n",
       "    </tr>\n",
       "    <tr>\n",
       "      <th>160</th>\n",
       "      <td>671</td>\n",
       "      <td>93201</td>\n",
       "      <td>1.161861</td>\n",
       "      <td>True</td>\n",
       "    </tr>\n",
       "  </tbody>\n",
       "</table>\n",
       "<p>161 rows × 4 columns</p>\n",
       "</div>"
      ],
      "text/plain": [
       "     userID  weight   Z-score  IQR_meth\n",
       "0       757  480039  9.097887      True\n",
       "1      2000  468409  8.859296      True\n",
       "2      1418  416349  7.791279      True\n",
       "3      1642  388251  7.214846      True\n",
       "4      1094  379125  7.027625      True\n",
       "..      ...     ...       ...       ...\n",
       "156    1233   94475  1.187998      True\n",
       "157    1196   93910  1.176407      True\n",
       "158     123   93771  1.173555      True\n",
       "159     498   93308  1.164057      True\n",
       "160     671   93201  1.161861      True\n",
       "\n",
       "[161 rows x 4 columns]"
      ]
     },
     "execution_count": 51,
     "metadata": {},
     "output_type": "execute_result"
    }
   ],
   "source": [
    "aaa[aaa['IQR_meth'] == True]"
   ]
  },
  {
   "cell_type": "code",
   "execution_count": null,
   "id": "99be995a-861b-4d83-ab9f-9235230d5052",
   "metadata": {},
   "outputs": [],
   "source": []
  },
  {
   "cell_type": "code",
   "execution_count": null,
   "id": "c5941fa9-acbe-4ad1-8fa1-622256358888",
   "metadata": {},
   "outputs": [],
   "source": []
  },
  {
   "cell_type": "code",
   "execution_count": null,
   "id": "046b54c1-e6bf-41af-bcda-d3b39c563100",
   "metadata": {},
   "outputs": [],
   "source": []
  },
  {
   "cell_type": "markdown",
   "id": "ebb80f6d-4d98-4e61-97ed-99e2d9355959",
   "metadata": {},
   "source": [
    "# Q3"
   ]
  },
  {
   "cell_type": "code",
   "execution_count": 53,
   "id": "6fa2b658-8e4e-4b3b-a76f-4e7e4fc16475",
   "metadata": {
    "tags": []
   },
   "outputs": [
    {
     "data": {
      "text/html": [
       "<div>\n",
       "<style scoped>\n",
       "    .dataframe tbody tr th:only-of-type {\n",
       "        vertical-align: middle;\n",
       "    }\n",
       "\n",
       "    .dataframe tbody tr th {\n",
       "        vertical-align: top;\n",
       "    }\n",
       "\n",
       "    .dataframe thead th {\n",
       "        text-align: right;\n",
       "    }\n",
       "</style>\n",
       "<table border=\"1\" class=\"dataframe\">\n",
       "  <thead>\n",
       "    <tr style=\"text-align: right;\">\n",
       "      <th></th>\n",
       "      <th>userID</th>\n",
       "      <th>artistID</th>\n",
       "      <th>tagID</th>\n",
       "      <th>timestamp</th>\n",
       "    </tr>\n",
       "  </thead>\n",
       "  <tbody>\n",
       "    <tr>\n",
       "      <th>0</th>\n",
       "      <td>2</td>\n",
       "      <td>52</td>\n",
       "      <td>13</td>\n",
       "      <td>1238536800000</td>\n",
       "    </tr>\n",
       "    <tr>\n",
       "      <th>1</th>\n",
       "      <td>2</td>\n",
       "      <td>52</td>\n",
       "      <td>15</td>\n",
       "      <td>1238536800000</td>\n",
       "    </tr>\n",
       "    <tr>\n",
       "      <th>2</th>\n",
       "      <td>2</td>\n",
       "      <td>52</td>\n",
       "      <td>18</td>\n",
       "      <td>1238536800000</td>\n",
       "    </tr>\n",
       "    <tr>\n",
       "      <th>3</th>\n",
       "      <td>2</td>\n",
       "      <td>52</td>\n",
       "      <td>21</td>\n",
       "      <td>1238536800000</td>\n",
       "    </tr>\n",
       "    <tr>\n",
       "      <th>4</th>\n",
       "      <td>2</td>\n",
       "      <td>52</td>\n",
       "      <td>41</td>\n",
       "      <td>1238536800000</td>\n",
       "    </tr>\n",
       "    <tr>\n",
       "      <th>...</th>\n",
       "      <td>...</td>\n",
       "      <td>...</td>\n",
       "      <td>...</td>\n",
       "      <td>...</td>\n",
       "    </tr>\n",
       "    <tr>\n",
       "      <th>186474</th>\n",
       "      <td>2100</td>\n",
       "      <td>16437</td>\n",
       "      <td>4</td>\n",
       "      <td>1277935200000</td>\n",
       "    </tr>\n",
       "    <tr>\n",
       "      <th>186475</th>\n",
       "      <td>2100</td>\n",
       "      <td>16437</td>\n",
       "      <td>292</td>\n",
       "      <td>1272664800000</td>\n",
       "    </tr>\n",
       "    <tr>\n",
       "      <th>186476</th>\n",
       "      <td>2100</td>\n",
       "      <td>16437</td>\n",
       "      <td>2087</td>\n",
       "      <td>1277935200000</td>\n",
       "    </tr>\n",
       "    <tr>\n",
       "      <th>186477</th>\n",
       "      <td>2100</td>\n",
       "      <td>16437</td>\n",
       "      <td>2801</td>\n",
       "      <td>1272664800000</td>\n",
       "    </tr>\n",
       "    <tr>\n",
       "      <th>186478</th>\n",
       "      <td>2100</td>\n",
       "      <td>16437</td>\n",
       "      <td>3335</td>\n",
       "      <td>1277935200000</td>\n",
       "    </tr>\n",
       "  </tbody>\n",
       "</table>\n",
       "<p>186479 rows × 4 columns</p>\n",
       "</div>"
      ],
      "text/plain": [
       "        userID  artistID  tagID      timestamp\n",
       "0            2        52     13  1238536800000\n",
       "1            2        52     15  1238536800000\n",
       "2            2        52     18  1238536800000\n",
       "3            2        52     21  1238536800000\n",
       "4            2        52     41  1238536800000\n",
       "...        ...       ...    ...            ...\n",
       "186474    2100     16437      4  1277935200000\n",
       "186475    2100     16437    292  1272664800000\n",
       "186476    2100     16437   2087  1277935200000\n",
       "186477    2100     16437   2801  1272664800000\n",
       "186478    2100     16437   3335  1277935200000\n",
       "\n",
       "[186479 rows x 4 columns]"
      ]
     },
     "execution_count": 53,
     "metadata": {},
     "output_type": "execute_result"
    }
   ],
   "source": [
    "user_tags_ts"
   ]
  },
  {
   "cell_type": "code",
   "execution_count": 57,
   "id": "b803faa4-d76b-4f5f-859d-841190f565bc",
   "metadata": {
    "tags": []
   },
   "outputs": [],
   "source": [
    "# divide the 'timestmap' column's values by 1000 so as to get timestamp expressed in seconds and not milliseconds\n",
    "user_tags_ts['timestamp'] = (user_tags_ts['timestamp'] / 1000).astype('int64')"
   ]
  },
  {
   "cell_type": "code",
   "execution_count": 72,
   "id": "ab18d253-e03c-4a30-9d65-47fbcb84e198",
   "metadata": {
    "tags": []
   },
   "outputs": [],
   "source": [
    "dates = [datetime.fromtimestamp(ts) for ts in user_tags_ts['timestamp']]\n",
    "user_tags_ts['date_'] = dates"
   ]
  },
  {
   "cell_type": "code",
   "execution_count": 73,
   "id": "be2b66b8-3ac4-4736-9711-e046c400a615",
   "metadata": {
    "tags": []
   },
   "outputs": [
    {
     "data": {
      "text/html": [
       "<div>\n",
       "<style scoped>\n",
       "    .dataframe tbody tr th:only-of-type {\n",
       "        vertical-align: middle;\n",
       "    }\n",
       "\n",
       "    .dataframe tbody tr th {\n",
       "        vertical-align: top;\n",
       "    }\n",
       "\n",
       "    .dataframe thead th {\n",
       "        text-align: right;\n",
       "    }\n",
       "</style>\n",
       "<table border=\"1\" class=\"dataframe\">\n",
       "  <thead>\n",
       "    <tr style=\"text-align: right;\">\n",
       "      <th></th>\n",
       "      <th>userID</th>\n",
       "      <th>artistID</th>\n",
       "      <th>tagID</th>\n",
       "      <th>timestamp</th>\n",
       "      <th>date_</th>\n",
       "    </tr>\n",
       "  </thead>\n",
       "  <tbody>\n",
       "    <tr>\n",
       "      <th>0</th>\n",
       "      <td>2</td>\n",
       "      <td>52</td>\n",
       "      <td>13</td>\n",
       "      <td>1238536800</td>\n",
       "      <td>2009-04-01 01:00:00</td>\n",
       "    </tr>\n",
       "    <tr>\n",
       "      <th>1</th>\n",
       "      <td>2</td>\n",
       "      <td>52</td>\n",
       "      <td>15</td>\n",
       "      <td>1238536800</td>\n",
       "      <td>2009-04-01 01:00:00</td>\n",
       "    </tr>\n",
       "    <tr>\n",
       "      <th>2</th>\n",
       "      <td>2</td>\n",
       "      <td>52</td>\n",
       "      <td>18</td>\n",
       "      <td>1238536800</td>\n",
       "      <td>2009-04-01 01:00:00</td>\n",
       "    </tr>\n",
       "    <tr>\n",
       "      <th>3</th>\n",
       "      <td>2</td>\n",
       "      <td>52</td>\n",
       "      <td>21</td>\n",
       "      <td>1238536800</td>\n",
       "      <td>2009-04-01 01:00:00</td>\n",
       "    </tr>\n",
       "    <tr>\n",
       "      <th>4</th>\n",
       "      <td>2</td>\n",
       "      <td>52</td>\n",
       "      <td>41</td>\n",
       "      <td>1238536800</td>\n",
       "      <td>2009-04-01 01:00:00</td>\n",
       "    </tr>\n",
       "  </tbody>\n",
       "</table>\n",
       "</div>"
      ],
      "text/plain": [
       "   userID  artistID  tagID   timestamp               date_\n",
       "0       2        52     13  1238536800 2009-04-01 01:00:00\n",
       "1       2        52     15  1238536800 2009-04-01 01:00:00\n",
       "2       2        52     18  1238536800 2009-04-01 01:00:00\n",
       "3       2        52     21  1238536800 2009-04-01 01:00:00\n",
       "4       2        52     41  1238536800 2009-04-01 01:00:00"
      ]
     },
     "execution_count": 73,
     "metadata": {},
     "output_type": "execute_result"
    }
   ],
   "source": [
    "user_tags_ts.head()"
   ]
  },
  {
   "cell_type": "code",
   "execution_count": 80,
   "id": "ff8847c0-7dc7-4ac9-a70f-09a190d4199a",
   "metadata": {
    "tags": []
   },
   "outputs": [
    {
     "data": {
      "text/plain": [
       "{1956, 1957, 1979, 2005, 2006, 2007, 2008, 2009, 2010, 2011}"
      ]
     },
     "execution_count": 80,
     "metadata": {},
     "output_type": "execute_result"
    }
   ],
   "source": [
    "# to see data from which years are included in our dataset\n",
    "#years = [ts.year for ts in user_tags_ts['date_']]\n",
    "#set(years)"
   ]
  },
  {
   "cell_type": "markdown",
   "id": "5a738972-5cfc-4063-b21c-d9c594451f38",
   "metadata": {},
   "source": [
    "### Q3-a , by display he might just mean to calculate a corresponding pivot and just print its result"
   ]
  },
  {
   "cell_type": "code",
   "execution_count": 67,
   "id": "c9f19187-d9ae-4fe4-9044-063a49a7d143",
   "metadata": {
    "tags": []
   },
   "outputs": [],
   "source": [
    "# I will find the distinct no of each item per interval - I select this interval to be a quarter of the year"
   ]
  },
  {
   "cell_type": "code",
   "execution_count": 88,
   "id": "238eb166-8dc2-47a3-8a67-89c3b1d2f197",
   "metadata": {
    "tags": []
   },
   "outputs": [],
   "source": [
    "res3_users = user_tags_ts['userID'].groupby([user_tags_ts['date_'].dt.year, user_tags_ts['date_'].dt.quarter]).nunique()"
   ]
  },
  {
   "cell_type": "code",
   "execution_count": 97,
   "id": "62703955-b2da-40c1-992c-bed6f33bfe27",
   "metadata": {
    "tags": []
   },
   "outputs": [
    {
     "data": {
      "text/plain": [
       "Text(0, 0.5, '(Unique) Users Count')"
      ]
     },
     "execution_count": 97,
     "metadata": {},
     "output_type": "execute_result"
    },
    {
     "data": {
      "image/png": "[encoded data removed]",
      "text/plain": [
       "<Figure size 640x480 with 1 Axes>"
      ]
     },
     "metadata": {},
     "output_type": "display_data"
    }
   ],
   "source": [
    "res3_users.plot(kind='line')\n",
    "plt.title('Users Active per Quarter')\n",
    "plt.xlabel('Quarter')\n",
    "plt.ylabel('(Unique) Users Count')"
   ]
  },
  {
   "cell_type": "code",
   "execution_count": 98,
   "id": "6f7ff170-19e2-4585-9c0d-5c807996730f",
   "metadata": {
    "tags": []
   },
   "outputs": [
    {
     "data": {
      "text/plain": [
       "Text(0, 0.5, '(Unique) Tags Count')"
      ]
     },
     "execution_count": 98,
     "metadata": {},
     "output_type": "execute_result"
    },
    {
     "data": {
      "image/png": "[encoded data removed]",
      "text/plain": [
       "<Figure size 640x480 with 1 Axes>"
      ]
     },
     "metadata": {},
     "output_type": "display_data"
    }
   ],
   "source": [
    "res3_tags = user_tags_ts['tagID'].groupby([user_tags_ts['date_'].dt.year, user_tags_ts['date_'].dt.quarter]).nunique()\n",
    "res3_tags.plot(kind='line')\n",
    "plt.title('Number of (Unique) Tags Used per Quarter')\n",
    "plt.xlabel('Quarter')\n",
    "plt.ylabel('(Unique) Tags Count')"
   ]
  },
  {
   "cell_type": "code",
   "execution_count": 101,
   "id": "5f6a00e7-13f0-4408-af22-3067f5bbbb5a",
   "metadata": {
    "tags": []
   },
   "outputs": [
    {
     "data": {
      "text/plain": [
       "Text(0, 0.5, '(Unique) Artists Listened to Count')"
      ]
     },
     "execution_count": 101,
     "metadata": {},
     "output_type": "execute_result"
    },
    {
     "data": {
      "image/png": "[encoded data removed]",
      "text/plain": [
       "<Figure size 640x480 with 1 Axes>"
      ]
     },
     "metadata": {},
     "output_type": "display_data"
    }
   ],
   "source": [
    "res3_artists = user_tags_ts['artistID'].groupby([user_tags_ts['date_'].dt.year, user_tags_ts['date_'].dt.quarter]).nunique()\n",
    "res3_artists.plot(kind='line')\n",
    "plt.title('Number of (Unique) Artists Listened to per Quarter')\n",
    "plt.xlabel('Quarter')\n",
    "plt.ylabel('(Unique) Artists Listened to Count')"
   ]
  },
  {
   "cell_type": "markdown",
   "id": "ff98d6e0-aba1-4332-8f65-5eca59ace89e",
   "metadata": {},
   "source": [
    "### Q3 - b"
   ]
  },
  {
   "cell_type": "code",
   "execution_count": 108,
   "id": "6278150d-f006-42e2-8703-dc8487c3cc95",
   "metadata": {
    "tags": []
   },
   "outputs": [],
   "source": [
    "# Creating a 'quarters' column in the df, in which we will have a tuple of the form (year, quarter), so that\n",
    "# it is sortable. \n",
    "quarters = [(t.year, t.quarter) for t in user_tags_ts['date_']]\n",
    "user_tags_ts['quarters'] = quarters\n",
    "\n",
    "# this I do in the previous question (q3-a) as well, and I group by this column"
   ]
  },
  {
   "cell_type": "code",
   "execution_count": 114,
   "id": "087b9e69-8ec1-47d1-96c4-33d6dc5107b7",
   "metadata": {
    "tags": []
   },
   "outputs": [
    {
     "data": {
      "text/plain": [
       "<Axes: xlabel='quarters'>"
      ]
     },
     "execution_count": 114,
     "metadata": {},
     "output_type": "execute_result"
    },
    {
     "data": {
      "image/png": "[encoded data removed]",
      "text/plain": [
       "<Figure size 640x480 with 1 Axes>"
      ]
     },
     "metadata": {},
     "output_type": "display_data"
    }
   ],
   "source": [
    "#pd.pivot_table(data=user_tags_ts, index=['quarters'], values=['userID'], aggfunc='nunique').plot(kind='line')"
   ]
  },
  {
   "cell_type": "code",
   "execution_count": 115,
   "id": "7ee0f700-eb17-4473-8c88-8b4e4a9c7c0e",
   "metadata": {
    "tags": []
   },
   "outputs": [
    {
     "data": {
      "text/html": [
       "<div>\n",
       "<style scoped>\n",
       "    .dataframe tbody tr th:only-of-type {\n",
       "        vertical-align: middle;\n",
       "    }\n",
       "\n",
       "    .dataframe tbody tr th {\n",
       "        vertical-align: top;\n",
       "    }\n",
       "\n",
       "    .dataframe thead th {\n",
       "        text-align: right;\n",
       "    }\n",
       "</style>\n",
       "<table border=\"1\" class=\"dataframe\">\n",
       "  <thead>\n",
       "    <tr style=\"text-align: right;\">\n",
       "      <th></th>\n",
       "      <th>userID</th>\n",
       "    </tr>\n",
       "    <tr>\n",
       "      <th>quarters</th>\n",
       "      <th></th>\n",
       "    </tr>\n",
       "  </thead>\n",
       "  <tbody>\n",
       "    <tr>\n",
       "      <th>(1956, 2)</th>\n",
       "      <td>43</td>\n",
       "    </tr>\n",
       "    <tr>\n",
       "      <th>(1956, 3)</th>\n",
       "      <td>1604</td>\n",
       "    </tr>\n",
       "    <tr>\n",
       "      <th>(1957, 1)</th>\n",
       "      <td>133</td>\n",
       "    </tr>\n",
       "    <tr>\n",
       "      <th>(1979, 2)</th>\n",
       "      <td>1929</td>\n",
       "    </tr>\n",
       "    <tr>\n",
       "      <th>(2005, 3)</th>\n",
       "      <td>1929</td>\n",
       "    </tr>\n",
       "    <tr>\n",
       "      <th>(2005, 4)</th>\n",
       "      <td>1981</td>\n",
       "    </tr>\n",
       "    <tr>\n",
       "      <th>(2006, 1)</th>\n",
       "      <td>2014</td>\n",
       "    </tr>\n",
       "    <tr>\n",
       "      <th>(2006, 2)</th>\n",
       "      <td>2043</td>\n",
       "    </tr>\n",
       "    <tr>\n",
       "      <th>(2006, 3)</th>\n",
       "      <td>2079</td>\n",
       "    </tr>\n",
       "    <tr>\n",
       "      <th>(2006, 4)</th>\n",
       "      <td>2079</td>\n",
       "    </tr>\n",
       "    <tr>\n",
       "      <th>(2007, 1)</th>\n",
       "      <td>2079</td>\n",
       "    </tr>\n",
       "    <tr>\n",
       "      <th>(2007, 2)</th>\n",
       "      <td>2090</td>\n",
       "    </tr>\n",
       "    <tr>\n",
       "      <th>(2007, 3)</th>\n",
       "      <td>2090</td>\n",
       "    </tr>\n",
       "    <tr>\n",
       "      <th>(2007, 4)</th>\n",
       "      <td>2090</td>\n",
       "    </tr>\n",
       "    <tr>\n",
       "      <th>(2008, 1)</th>\n",
       "      <td>2099</td>\n",
       "    </tr>\n",
       "    <tr>\n",
       "      <th>(2008, 2)</th>\n",
       "      <td>2092</td>\n",
       "    </tr>\n",
       "    <tr>\n",
       "      <th>(2008, 3)</th>\n",
       "      <td>2093</td>\n",
       "    </tr>\n",
       "    <tr>\n",
       "      <th>(2008, 4)</th>\n",
       "      <td>2099</td>\n",
       "    </tr>\n",
       "    <tr>\n",
       "      <th>(2009, 1)</th>\n",
       "      <td>2100</td>\n",
       "    </tr>\n",
       "    <tr>\n",
       "      <th>(2009, 2)</th>\n",
       "      <td>2100</td>\n",
       "    </tr>\n",
       "    <tr>\n",
       "      <th>(2009, 3)</th>\n",
       "      <td>2099</td>\n",
       "    </tr>\n",
       "    <tr>\n",
       "      <th>(2009, 4)</th>\n",
       "      <td>2100</td>\n",
       "    </tr>\n",
       "    <tr>\n",
       "      <th>(2010, 1)</th>\n",
       "      <td>2099</td>\n",
       "    </tr>\n",
       "    <tr>\n",
       "      <th>(2010, 2)</th>\n",
       "      <td>2100</td>\n",
       "    </tr>\n",
       "    <tr>\n",
       "      <th>(2010, 3)</th>\n",
       "      <td>2100</td>\n",
       "    </tr>\n",
       "    <tr>\n",
       "      <th>(2010, 4)</th>\n",
       "      <td>2099</td>\n",
       "    </tr>\n",
       "    <tr>\n",
       "      <th>(2011, 1)</th>\n",
       "      <td>2099</td>\n",
       "    </tr>\n",
       "    <tr>\n",
       "      <th>(2011, 2)</th>\n",
       "      <td>2096</td>\n",
       "    </tr>\n",
       "  </tbody>\n",
       "</table>\n",
       "</div>"
      ],
      "text/plain": [
       "           userID\n",
       "quarters         \n",
       "(1956, 2)      43\n",
       "(1956, 3)    1604\n",
       "(1957, 1)     133\n",
       "(1979, 2)    1929\n",
       "(2005, 3)    1929\n",
       "(2005, 4)    1981\n",
       "(2006, 1)    2014\n",
       "(2006, 2)    2043\n",
       "(2006, 3)    2079\n",
       "(2006, 4)    2079\n",
       "(2007, 1)    2079\n",
       "(2007, 2)    2090\n",
       "(2007, 3)    2090\n",
       "(2007, 4)    2090\n",
       "(2008, 1)    2099\n",
       "(2008, 2)    2092\n",
       "(2008, 3)    2093\n",
       "(2008, 4)    2099\n",
       "(2009, 1)    2100\n",
       "(2009, 2)    2100\n",
       "(2009, 3)    2099\n",
       "(2009, 4)    2100\n",
       "(2010, 1)    2099\n",
       "(2010, 2)    2100\n",
       "(2010, 3)    2100\n",
       "(2010, 4)    2099\n",
       "(2011, 1)    2099\n",
       "(2011, 2)    2096"
      ]
     },
     "execution_count": 115,
     "metadata": {},
     "output_type": "execute_result"
    }
   ],
   "source": [
    "pd.pivot_table(data=user_tags_ts, index=['quarters'], values=['userID'], aggfunc='max')"
   ]
  },
  {
   "cell_type": "code",
   "execution_count": 275,
   "id": "ac95abcb-4955-40f3-828d-d150c3285d73",
   "metadata": {
    "tags": []
   },
   "outputs": [],
   "source": [
    "# I'll create series objects of length = 5 for each quarter, and then I'll join them into a single df for each sub-question\n",
    "top_artists = [] \n",
    "unique_quarters = list(set(quarters))\n",
    "unique_quarters.sort(reverse=False)\n",
    "unique_quarters\n",
    "for i in range(len(unique_quarters)):\n",
    "    q = unique_quarters[i]\n",
    "    temp = user_tags_ts['artistID'][user_tags_ts['quarters'] == q].groupby(user_tags_ts['artistID']).count().sort_values(ascending=False)[:5]\n",
    "    if len(temp) != 5:\n",
    "        nan_series = pd.Series([0 for i in range(5-len(temp))],\n",
    "                              index = [-1 for i in range(5-len(temp))])\n",
    "        fin = pd.concat([temp, nan_series])\n",
    "    else:\n",
    "        fin = temp\n",
    "    top_artists.append([q, fin])"
   ]
  },
  {
   "cell_type": "code",
   "execution_count": 276,
   "id": "34813b52-ef9d-4951-99a2-62278cace40f",
   "metadata": {
    "tags": []
   },
   "outputs": [],
   "source": [
    "top_5_ids = [t[1].index for t in top_artists]\n",
    "final_ids = list(top_5_ids[0])\n",
    "for sublist in top_5_ids[1:]:\n",
    "    final_ids = final_ids + list(sublist)"
   ]
  },
  {
   "cell_type": "code",
   "execution_count": 277,
   "id": "cf802182-b8a3-4c04-a577-593c6823a410",
   "metadata": {
    "tags": []
   },
   "outputs": [],
   "source": [
    "top_5_freqs = [t[1].values for t in top_artists]\n",
    "final_freqs = list(top_5_freqs[0])\n",
    "for sublist in top_5_freqs[1:]:\n",
    "    final_freqs = final_freqs + list(sublist)"
   ]
  },
  {
   "cell_type": "code",
   "execution_count": 278,
   "id": "462d807c-2252-4151-8c90-502a8f48417a",
   "metadata": {
    "tags": []
   },
   "outputs": [],
   "source": [
    "qq_col = [[q for i in range(5)] for q in unique_quarters]\n",
    "final_quarters_col = []\n",
    "for sublist in qq_col:\n",
    "    final_quarters_col += sublist"
   ]
  },
  {
   "cell_type": "code",
   "execution_count": 279,
   "id": "17fe297b-aa7e-452a-a9ef-10f20cf9e285",
   "metadata": {
    "tags": []
   },
   "outputs": [
    {
     "data": {
      "text/html": [
       "<div>\n",
       "<style scoped>\n",
       "    .dataframe tbody tr th:only-of-type {\n",
       "        vertical-align: middle;\n",
       "    }\n",
       "\n",
       "    .dataframe tbody tr th {\n",
       "        vertical-align: top;\n",
       "    }\n",
       "\n",
       "    .dataframe thead th {\n",
       "        text-align: right;\n",
       "    }\n",
       "</style>\n",
       "<table border=\"1\" class=\"dataframe\">\n",
       "  <thead>\n",
       "    <tr style=\"text-align: right;\">\n",
       "      <th></th>\n",
       "      <th>quarter</th>\n",
       "      <th>artist_id</th>\n",
       "      <th>freq</th>\n",
       "    </tr>\n",
       "  </thead>\n",
       "  <tbody>\n",
       "    <tr>\n",
       "      <th>0</th>\n",
       "      <td>(1956, 2)</td>\n",
       "      <td>1395.0</td>\n",
       "      <td>1.0</td>\n",
       "    </tr>\n",
       "    <tr>\n",
       "      <th>1</th>\n",
       "      <td>(1956, 2)</td>\n",
       "      <td>NaN</td>\n",
       "      <td>NaN</td>\n",
       "    </tr>\n",
       "    <tr>\n",
       "      <th>2</th>\n",
       "      <td>(1956, 2)</td>\n",
       "      <td>NaN</td>\n",
       "      <td>NaN</td>\n",
       "    </tr>\n",
       "    <tr>\n",
       "      <th>3</th>\n",
       "      <td>(1956, 2)</td>\n",
       "      <td>NaN</td>\n",
       "      <td>NaN</td>\n",
       "    </tr>\n",
       "    <tr>\n",
       "      <th>4</th>\n",
       "      <td>(1956, 2)</td>\n",
       "      <td>NaN</td>\n",
       "      <td>NaN</td>\n",
       "    </tr>\n",
       "    <tr>\n",
       "      <th>...</th>\n",
       "      <td>...</td>\n",
       "      <td>...</td>\n",
       "      <td>...</td>\n",
       "    </tr>\n",
       "    <tr>\n",
       "      <th>135</th>\n",
       "      <td>(2011, 2)</td>\n",
       "      <td>72.0</td>\n",
       "      <td>51.0</td>\n",
       "    </tr>\n",
       "    <tr>\n",
       "      <th>136</th>\n",
       "      <td>(2011, 2)</td>\n",
       "      <td>289.0</td>\n",
       "      <td>31.0</td>\n",
       "    </tr>\n",
       "    <tr>\n",
       "      <th>137</th>\n",
       "      <td>(2011, 2)</td>\n",
       "      <td>2548.0</td>\n",
       "      <td>30.0</td>\n",
       "    </tr>\n",
       "    <tr>\n",
       "      <th>138</th>\n",
       "      <td>(2011, 2)</td>\n",
       "      <td>67.0</td>\n",
       "      <td>26.0</td>\n",
       "    </tr>\n",
       "    <tr>\n",
       "      <th>139</th>\n",
       "      <td>(2011, 2)</td>\n",
       "      <td>55.0</td>\n",
       "      <td>26.0</td>\n",
       "    </tr>\n",
       "  </tbody>\n",
       "</table>\n",
       "<p>140 rows × 3 columns</p>\n",
       "</div>"
      ],
      "text/plain": [
       "       quarter  artist_id  freq\n",
       "0    (1956, 2)     1395.0   1.0\n",
       "1    (1956, 2)        NaN   NaN\n",
       "2    (1956, 2)        NaN   NaN\n",
       "3    (1956, 2)        NaN   NaN\n",
       "4    (1956, 2)        NaN   NaN\n",
       "..         ...        ...   ...\n",
       "135  (2011, 2)       72.0  51.0\n",
       "136  (2011, 2)      289.0  31.0\n",
       "137  (2011, 2)     2548.0  30.0\n",
       "138  (2011, 2)       67.0  26.0\n",
       "139  (2011, 2)       55.0  26.0\n",
       "\n",
       "[140 rows x 3 columns]"
      ]
     },
     "execution_count": 279,
     "metadata": {},
     "output_type": "execute_result"
    }
   ],
   "source": [
    "res_artists = pd.DataFrame([final_quarters_col, final_ids, final_freqs]).T\n",
    "res_artists.columns = ['quarter', 'artist_id', 'freq']\n",
    "res_artists['artist_id'] = res_artists['artist_id'].replace(-1, np.nan)\n",
    "res_artists['freq'] = res_artists['freq'].replace(0, np.nan)\n",
    "res_artists"
   ]
  },
  {
   "cell_type": "code",
   "execution_count": 215,
   "id": "255711cd-43dd-4f44-9f29-7039e7e25978",
   "metadata": {
    "tags": []
   },
   "outputs": [],
   "source": [
    "# I'll create series objects of length = 5 for each quarter, and then I'll join them into a single df for each sub-question\n",
    "top_tags = [] \n",
    "unique_quarters = list(set(quarters))\n",
    "unique_quarters.sort(reverse=False)\n",
    "#unique_quarters\n",
    "for i in range(len(unique_quarters)):\n",
    "    q = unique_quarters[i]\n",
    "    temp = user_tags_ts['tagID'][user_tags_ts['quarters'] == q].groupby(user_tags_ts['tagID']).count().sort_values(ascending=False)[:5]\n",
    "    if len(temp) != 5:\n",
    "        nan_series = pd.Series([0 for i in range(5-len(temp))],\n",
    "                              index = [-1 for i in range(5-len(temp))])\n",
    "        fin = pd.concat([temp, nan_series])\n",
    "    else:\n",
    "        fin = temp\n",
    "    top_tags.append([q, fin])"
   ]
  },
  {
   "cell_type": "code",
   "execution_count": 261,
   "id": "fc2e15be-180f-4a13-aa02-1008bec3904d",
   "metadata": {
    "tags": []
   },
   "outputs": [],
   "source": [
    "top_5_ids = [t[1].index for t in top_tags]\n",
    "final_ids = list(top_5_ids[0])\n",
    "for sublist in top_5_ids[1:]:\n",
    "    final_ids = final_ids + list(sublist)"
   ]
  },
  {
   "cell_type": "code",
   "execution_count": 263,
   "id": "4293a3ce-e99d-4bc4-9189-5061861607d2",
   "metadata": {
    "tags": []
   },
   "outputs": [],
   "source": [
    "top_5_freqs = [t[1].values for t in top_tags]\n",
    "final_freqs = list(top_5_freqs[0])\n",
    "for sublist in top_5_freqs[1:]:\n",
    "    final_freqs = final_freqs + list(sublist)"
   ]
  },
  {
   "cell_type": "code",
   "execution_count": 233,
   "id": "112ce4e8-26d6-4a89-9f3a-95b6be4fbd30",
   "metadata": {
    "tags": []
   },
   "outputs": [],
   "source": [
    "qq_col = [[q for i in range(5)] for q in unique_quarters]\n",
    "final_quarters_col = []\n",
    "for sublist in qq_col:\n",
    "    final_quarters_col += sublist"
   ]
  },
  {
   "cell_type": "code",
   "execution_count": 268,
   "id": "784cf635-b6e5-4ea9-8fe7-8d340267b892",
   "metadata": {
    "tags": []
   },
   "outputs": [
    {
     "data": {
      "text/html": [
       "<div>\n",
       "<style scoped>\n",
       "    .dataframe tbody tr th:only-of-type {\n",
       "        vertical-align: middle;\n",
       "    }\n",
       "\n",
       "    .dataframe tbody tr th {\n",
       "        vertical-align: top;\n",
       "    }\n",
       "\n",
       "    .dataframe thead th {\n",
       "        text-align: right;\n",
       "    }\n",
       "</style>\n",
       "<table border=\"1\" class=\"dataframe\">\n",
       "  <thead>\n",
       "    <tr style=\"text-align: right;\">\n",
       "      <th></th>\n",
       "      <th>quarter</th>\n",
       "      <th>tag_id</th>\n",
       "      <th>freq</th>\n",
       "    </tr>\n",
       "  </thead>\n",
       "  <tbody>\n",
       "    <tr>\n",
       "      <th>0</th>\n",
       "      <td>(1956, 2)</td>\n",
       "      <td>39</td>\n",
       "      <td>1</td>\n",
       "    </tr>\n",
       "    <tr>\n",
       "      <th>1</th>\n",
       "      <td>(1956, 2)</td>\n",
       "      <td>-1</td>\n",
       "      <td>0</td>\n",
       "    </tr>\n",
       "    <tr>\n",
       "      <th>2</th>\n",
       "      <td>(1956, 2)</td>\n",
       "      <td>-1</td>\n",
       "      <td>0</td>\n",
       "    </tr>\n",
       "    <tr>\n",
       "      <th>3</th>\n",
       "      <td>(1956, 2)</td>\n",
       "      <td>-1</td>\n",
       "      <td>0</td>\n",
       "    </tr>\n",
       "    <tr>\n",
       "      <th>4</th>\n",
       "      <td>(1956, 2)</td>\n",
       "      <td>-1</td>\n",
       "      <td>0</td>\n",
       "    </tr>\n",
       "  </tbody>\n",
       "</table>\n",
       "</div>"
      ],
      "text/plain": [
       "     quarter tag_id freq\n",
       "0  (1956, 2)     39    1\n",
       "1  (1956, 2)     -1    0\n",
       "2  (1956, 2)     -1    0\n",
       "3  (1956, 2)     -1    0\n",
       "4  (1956, 2)     -1    0"
      ]
     },
     "execution_count": 268,
     "metadata": {},
     "output_type": "execute_result"
    }
   ],
   "source": [
    "res_tags = pd.DataFrame([final_quarters_col, final_ids, final_freqs]).T\n",
    "res_tags.columns = ['quarter', 'tag_id', 'freq']\n",
    "res_tags['tag_id'] = res_tags['tag_id'].replace(-1, np.nan)\n",
    "res_tags['freq'] = res_tags['freq'].replace(0, np.nan)\n",
    "#res_tags.head()"
   ]
  },
  {
   "cell_type": "code",
   "execution_count": 280,
   "id": "348fbf4f-40ea-4e12-972c-f426616c7bbb",
   "metadata": {
    "tags": []
   },
   "outputs": [
    {
     "data": {
      "text/html": [
       "<div>\n",
       "<style scoped>\n",
       "    .dataframe tbody tr th:only-of-type {\n",
       "        vertical-align: middle;\n",
       "    }\n",
       "\n",
       "    .dataframe tbody tr th {\n",
       "        vertical-align: top;\n",
       "    }\n",
       "\n",
       "    .dataframe thead th {\n",
       "        text-align: right;\n",
       "    }\n",
       "</style>\n",
       "<table border=\"1\" class=\"dataframe\">\n",
       "  <thead>\n",
       "    <tr style=\"text-align: right;\">\n",
       "      <th></th>\n",
       "      <th>quarter</th>\n",
       "      <th>tag_id</th>\n",
       "      <th>freq</th>\n",
       "    </tr>\n",
       "  </thead>\n",
       "  <tbody>\n",
       "    <tr>\n",
       "      <th>0</th>\n",
       "      <td>(1956, 2)</td>\n",
       "      <td>39.0</td>\n",
       "      <td>1.0</td>\n",
       "    </tr>\n",
       "    <tr>\n",
       "      <th>1</th>\n",
       "      <td>(1956, 2)</td>\n",
       "      <td>NaN</td>\n",
       "      <td>NaN</td>\n",
       "    </tr>\n",
       "    <tr>\n",
       "      <th>2</th>\n",
       "      <td>(1956, 2)</td>\n",
       "      <td>NaN</td>\n",
       "      <td>NaN</td>\n",
       "    </tr>\n",
       "    <tr>\n",
       "      <th>3</th>\n",
       "      <td>(1956, 2)</td>\n",
       "      <td>NaN</td>\n",
       "      <td>NaN</td>\n",
       "    </tr>\n",
       "    <tr>\n",
       "      <th>4</th>\n",
       "      <td>(1956, 2)</td>\n",
       "      <td>NaN</td>\n",
       "      <td>NaN</td>\n",
       "    </tr>\n",
       "  </tbody>\n",
       "</table>\n",
       "</div>"
      ],
      "text/plain": [
       "     quarter  tag_id  freq\n",
       "0  (1956, 2)    39.0   1.0\n",
       "1  (1956, 2)     NaN   NaN\n",
       "2  (1956, 2)     NaN   NaN\n",
       "3  (1956, 2)     NaN   NaN\n",
       "4  (1956, 2)     NaN   NaN"
      ]
     },
     "execution_count": 280,
     "metadata": {},
     "output_type": "execute_result"
    }
   ],
   "source": [
    "# now, if I select the rows of a specific quarter, I'll see the top 5 tag_ids with their freq\n",
    "res_tags[res_tags['quarter'] == (1956,2)]"
   ]
  },
  {
   "cell_type": "code",
   "execution_count": 271,
   "id": "25d8a805-4a7c-44d4-a0c7-764f8c4636ad",
   "metadata": {
    "tags": []
   },
   "outputs": [],
   "source": []
  },
  {
   "cell_type": "code",
   "execution_count": 274,
   "id": "44c7f97d-272e-4943-a70e-5965346cbb2a",
   "metadata": {
    "tags": []
   },
   "outputs": [
    {
     "data": {
      "text/html": [
       "<div>\n",
       "<style scoped>\n",
       "    .dataframe tbody tr th:only-of-type {\n",
       "        vertical-align: middle;\n",
       "    }\n",
       "\n",
       "    .dataframe tbody tr th {\n",
       "        vertical-align: top;\n",
       "    }\n",
       "\n",
       "    .dataframe thead th {\n",
       "        text-align: right;\n",
       "    }\n",
       "</style>\n",
       "<table border=\"1\" class=\"dataframe\">\n",
       "  <thead>\n",
       "    <tr style=\"text-align: right;\">\n",
       "      <th></th>\n",
       "      <th>quarter</th>\n",
       "      <th>tag_id</th>\n",
       "      <th>freq</th>\n",
       "    </tr>\n",
       "  </thead>\n",
       "  <tbody>\n",
       "    <tr>\n",
       "      <th>0</th>\n",
       "      <td>(1956, 2)</td>\n",
       "      <td>39.0</td>\n",
       "      <td>1.0</td>\n",
       "    </tr>\n",
       "    <tr>\n",
       "      <th>1</th>\n",
       "      <td>(1956, 2)</td>\n",
       "      <td>NaN</td>\n",
       "      <td>NaN</td>\n",
       "    </tr>\n",
       "    <tr>\n",
       "      <th>2</th>\n",
       "      <td>(1956, 2)</td>\n",
       "      <td>NaN</td>\n",
       "      <td>NaN</td>\n",
       "    </tr>\n",
       "    <tr>\n",
       "      <th>3</th>\n",
       "      <td>(1956, 2)</td>\n",
       "      <td>NaN</td>\n",
       "      <td>NaN</td>\n",
       "    </tr>\n",
       "    <tr>\n",
       "      <th>4</th>\n",
       "      <td>(1956, 2)</td>\n",
       "      <td>NaN</td>\n",
       "      <td>NaN</td>\n",
       "    </tr>\n",
       "    <tr>\n",
       "      <th>...</th>\n",
       "      <td>...</td>\n",
       "      <td>...</td>\n",
       "      <td>...</td>\n",
       "    </tr>\n",
       "    <tr>\n",
       "      <th>135</th>\n",
       "      <td>(2011, 2)</td>\n",
       "      <td>73.0</td>\n",
       "      <td>144.0</td>\n",
       "    </tr>\n",
       "    <tr>\n",
       "      <th>136</th>\n",
       "      <td>(2011, 2)</td>\n",
       "      <td>18.0</td>\n",
       "      <td>126.0</td>\n",
       "    </tr>\n",
       "    <tr>\n",
       "      <th>137</th>\n",
       "      <td>(2011, 2)</td>\n",
       "      <td>24.0</td>\n",
       "      <td>104.0</td>\n",
       "    </tr>\n",
       "    <tr>\n",
       "      <th>138</th>\n",
       "      <td>(2011, 2)</td>\n",
       "      <td>79.0</td>\n",
       "      <td>89.0</td>\n",
       "    </tr>\n",
       "    <tr>\n",
       "      <th>139</th>\n",
       "      <td>(2011, 2)</td>\n",
       "      <td>81.0</td>\n",
       "      <td>74.0</td>\n",
       "    </tr>\n",
       "  </tbody>\n",
       "</table>\n",
       "<p>140 rows × 3 columns</p>\n",
       "</div>"
      ],
      "text/plain": [
       "       quarter  tag_id   freq\n",
       "0    (1956, 2)    39.0    1.0\n",
       "1    (1956, 2)     NaN    NaN\n",
       "2    (1956, 2)     NaN    NaN\n",
       "3    (1956, 2)     NaN    NaN\n",
       "4    (1956, 2)     NaN    NaN\n",
       "..         ...     ...    ...\n",
       "135  (2011, 2)    73.0  144.0\n",
       "136  (2011, 2)    18.0  126.0\n",
       "137  (2011, 2)    24.0  104.0\n",
       "138  (2011, 2)    79.0   89.0\n",
       "139  (2011, 2)    81.0   74.0\n",
       "\n",
       "[140 rows x 3 columns]"
      ]
     },
     "execution_count": 274,
     "metadata": {},
     "output_type": "execute_result"
    }
   ],
   "source": [
    "res_tags"
   ]
  },
  {
   "cell_type": "code",
   "execution_count": null,
   "id": "7062dc31-9e9e-4884-bbe1-c97fb59ecd74",
   "metadata": {},
   "outputs": [],
   "source": []
  },
  {
   "cell_type": "code",
   "execution_count": null,
   "id": "59efafc9-25ba-40f8-8159-3fbd853da878",
   "metadata": {},
   "outputs": [],
   "source": []
  },
  {
   "cell_type": "code",
   "execution_count": null,
   "id": "ed00a49f-c9e3-4e15-a93c-96a7cae2563a",
   "metadata": {},
   "outputs": [],
   "source": [
    "# IT WOULD BE GOOD IF I JOINED THE ABOVE WITH artists_info and tags_info tables so that i don;t just have the ids, but \n",
    "# I also get the tag value / artist name."
   ]
  }
 ],
 "metadata": {
  "kernelspec": {
   "display_name": "Python 3 (ipykernel)",
   "language": "python",
   "name": "python3"
  },
  "language_info": {
   "codemirror_mode": {
    "name": "ipython",
    "version": 3
   },
   "file_extension": ".py",
   "mimetype": "text/x-python",
   "name": "python",
   "nbconvert_exporter": "python",
   "pygments_lexer": "ipython3",
   "version": "3.11.4"
  }
 },
 "nbformat": 4,
 "nbformat_minor": 5
}
